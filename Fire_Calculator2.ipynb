{
 "cells": [
  {
   "cell_type": "markdown",
   "metadata": {},
   "source": [
    "# Imports"
   ]
  },
  {
   "cell_type": "code",
   "execution_count": 60,
   "metadata": {},
   "outputs": [],
   "source": [
    "import pandas as pd \n",
    "import hvplot.pandas\n",
    "from ipywidgets import widgets, interact\n",
    "from IPython.display import display\n",
    "\n",
    "import pandas as pd\n",
    "import numpy as np\n",
    "import panel as pn\n",
    "from panel.interact import interact"
   ]
  },
  {
   "cell_type": "markdown",
   "metadata": {},
   "source": [
    "### Enter desired Monthly Fire Allowance"
   ]
  },
  {
   "cell_type": "code",
   "execution_count": 29,
   "metadata": {},
   "outputs": [],
   "source": [
    "# Run pn extension for the workbook to function properly\n",
    "pn.extension()"
   ]
  },
  {
   "cell_type": "code",
   "execution_count": 30,
   "metadata": {},
   "outputs": [
    {
     "data": {},
     "metadata": {},
     "output_type": "display_data"
    },
    {
     "data": {
      "application/vnd.holoviews_exec.v0+json": "",
      "text/html": [
       "<div id='1868'>\n",
       "\n",
       "\n",
       "\n",
       "\n",
       "\n",
       "  <div class=\"bk-root\" id=\"eafab4f5-67bd-40cd-9d73-e3b3fdec35e6\" data-root-id=\"1868\"></div>\n",
       "</div>\n",
       "<script type=\"application/javascript\">(function(root) {\n",
       "  function embed_document(root) {\n",
       "    var docs_json = {\"7f2699fb-eb23-4c29-9734-b0040c63b357\":{\"roots\":{\"references\":[{\"attributes\":{\"children\":[{\"id\":\"1872\"}],\"margin\":[0,0,0,0],\"name\":\"Row03496\"},\"id\":\"1871\",\"type\":\"Row\"},{\"attributes\":{\"margin\":[5,5,5,5],\"name\":\"interactive03491\"},\"id\":\"1872\",\"type\":\"panel.models.markup.HTML\"},{\"attributes\":{\"end\":20000,\"format\":\"0[.]00\",\"margin\":[5,10,5,10],\"start\":0,\"step\":100,\"title\":\"x\",\"value\":10000,\"value_throttled\":10000},\"id\":\"1870\",\"type\":\"Slider\"},{\"attributes\":{\"children\":[{\"id\":\"1870\"}],\"margin\":[0,0,0,0],\"name\":\"Column03497\"},\"id\":\"1869\",\"type\":\"Column\"},{\"attributes\":{\"children\":[{\"id\":\"1869\"},{\"id\":\"1871\"}],\"margin\":[0,0,0,0],\"name\":\"Column03492\"},\"id\":\"1868\",\"type\":\"Column\"},{\"attributes\":{\"client_comm_id\":\"ddd6d4bf18b84979a189151d0525d063\",\"comm_id\":\"73268afdd8194dec8004078b59d47e7c\",\"plot_id\":\"1868\"},\"id\":\"1873\",\"type\":\"panel.models.comm_manager.CommManager\"}],\"root_ids\":[\"1868\",\"1873\"]},\"title\":\"Bokeh Application\",\"version\":\"2.2.3\"}};\n",
       "    var render_items = [{\"docid\":\"7f2699fb-eb23-4c29-9734-b0040c63b357\",\"root_ids\":[\"1868\"],\"roots\":{\"1868\":\"eafab4f5-67bd-40cd-9d73-e3b3fdec35e6\"}}];\n",
       "    root.Bokeh.embed.embed_items_notebook(docs_json, render_items);\n",
       "  }\n",
       "  if (root.Bokeh !== undefined && root.Bokeh.Panel !== undefined) {\n",
       "    embed_document(root);\n",
       "  } else {\n",
       "    var attempts = 0;\n",
       "    var timer = setInterval(function(root) {\n",
       "      if (root.Bokeh !== undefined && root.Bokeh.Panel !== undefined) {\n",
       "        clearInterval(timer);\n",
       "        embed_document(root);\n",
       "      } else if (document.readyState == \"complete\") {\n",
       "        attempts++;\n",
       "        if (attempts > 100) {\n",
       "          clearInterval(timer);\n",
       "          console.log(\"Bokeh: ERROR: Unable to run BokehJS code because BokehJS library is missing\");\n",
       "        }\n",
       "      }\n",
       "    }, 10, root)\n",
       "  }\n",
       "})(window);</script>"
      ],
      "text/plain": [
       "Column\n",
       "    [0] Column\n",
       "        [0] IntSlider(end=20000, name='x', step=100, value=10000, value_throttled=10000)\n",
       "    [1] Row\n",
       "        [0] Str(None, name='interactive03491')"
      ]
     },
     "execution_count": 30,
     "metadata": {
      "application/vnd.holoviews_exec.v0+json": {
       "id": "1868"
      }
     },
     "output_type": "execute_result"
    }
   ],
   "source": [
    "# Create text widget for output\n",
    "fire_desire = widgets.IntText()\n",
    "\n",
    "# Define function to bind value of the input to the output variable\n",
    "def f(x):\n",
    "    fire_desire.value = x\n",
    "\n",
    "# Create input slider\n",
    "interact(f, x=(0,20000,100))\n"
   ]
  },
  {
   "cell_type": "code",
   "execution_count": 31,
   "metadata": {},
   "outputs": [
    {
     "name": "stdout",
     "output_type": "stream",
     "text": [
      "Your desired FIRE allowance is $10000 per month!\n"
     ]
    }
   ],
   "source": [
    "fire_desire = fire_desire.value\n",
    "print(f\"Your desired FIRE allowance is ${fire_desire} per month!\")"
   ]
  },
  {
   "cell_type": "markdown",
   "metadata": {},
   "source": [
    "### Calculate Fire goal"
   ]
  },
  {
   "cell_type": "code",
   "execution_count": 32,
   "metadata": {},
   "outputs": [
    {
     "name": "stdout",
     "output_type": "stream",
     "text": [
      "You need $3000000 to retire!\n"
     ]
    }
   ],
   "source": [
    "fire_perc = 0.04\n",
    "months = 12\n",
    "fire_goal = int((fire_desire*months)/fire_perc)\n",
    "print(f\"You need ${fire_goal} to retire!\")"
   ]
  },
  {
   "cell_type": "markdown",
   "metadata": {},
   "source": [
    "### Enter current savings"
   ]
  },
  {
   "cell_type": "code",
   "execution_count": 33,
   "metadata": {},
   "outputs": [
    {
     "data": {},
     "metadata": {},
     "output_type": "display_data"
    },
    {
     "data": {
      "application/vnd.holoviews_exec.v0+json": "",
      "text/html": [
       "<div id='1874'>\n",
       "\n",
       "\n",
       "\n",
       "\n",
       "\n",
       "  <div class=\"bk-root\" id=\"a5e282c1-db28-488f-8a0f-44219732fbfe\" data-root-id=\"1874\"></div>\n",
       "</div>\n",
       "<script type=\"application/javascript\">(function(root) {\n",
       "  function embed_document(root) {\n",
       "    var docs_json = {\"796d0947-f77a-4ca3-887f-02dc44b9f56e\":{\"roots\":{\"references\":[{\"attributes\":{\"children\":[{\"id\":\"1875\"},{\"id\":\"1877\"}],\"margin\":[0,0,0,0],\"name\":\"Column03501\"},\"id\":\"1874\",\"type\":\"Column\"},{\"attributes\":{\"client_comm_id\":\"f06d91127f7f41c4a47b96da08c446e3\",\"comm_id\":\"2d1b87c5605649678ee30b5447b5ef10\",\"plot_id\":\"1874\"},\"id\":\"1879\",\"type\":\"panel.models.comm_manager.CommManager\"},{\"attributes\":{\"children\":[{\"id\":\"1876\"}],\"margin\":[0,0,0,0],\"name\":\"Column03506\"},\"id\":\"1875\",\"type\":\"Column\"},{\"attributes\":{\"margin\":[5,5,5,5],\"name\":\"interactive03500\"},\"id\":\"1878\",\"type\":\"panel.models.markup.HTML\"},{\"attributes\":{\"children\":[{\"id\":\"1878\"}],\"margin\":[0,0,0,0],\"name\":\"Row03505\"},\"id\":\"1877\",\"type\":\"Row\"},{\"attributes\":{\"end\":1000000,\"format\":\"0[.]00\",\"margin\":[5,10,5,10],\"start\":0,\"step\":10000,\"title\":\"x\",\"value\":500000,\"value_throttled\":500000},\"id\":\"1876\",\"type\":\"Slider\"}],\"root_ids\":[\"1874\",\"1879\"]},\"title\":\"Bokeh Application\",\"version\":\"2.2.3\"}};\n",
       "    var render_items = [{\"docid\":\"796d0947-f77a-4ca3-887f-02dc44b9f56e\",\"root_ids\":[\"1874\"],\"roots\":{\"1874\":\"a5e282c1-db28-488f-8a0f-44219732fbfe\"}}];\n",
       "    root.Bokeh.embed.embed_items_notebook(docs_json, render_items);\n",
       "  }\n",
       "  if (root.Bokeh !== undefined && root.Bokeh.Panel !== undefined) {\n",
       "    embed_document(root);\n",
       "  } else {\n",
       "    var attempts = 0;\n",
       "    var timer = setInterval(function(root) {\n",
       "      if (root.Bokeh !== undefined && root.Bokeh.Panel !== undefined) {\n",
       "        clearInterval(timer);\n",
       "        embed_document(root);\n",
       "      } else if (document.readyState == \"complete\") {\n",
       "        attempts++;\n",
       "        if (attempts > 100) {\n",
       "          clearInterval(timer);\n",
       "          console.log(\"Bokeh: ERROR: Unable to run BokehJS code because BokehJS library is missing\");\n",
       "        }\n",
       "      }\n",
       "    }, 10, root)\n",
       "  }\n",
       "})(window);</script>"
      ],
      "text/plain": [
       "Column\n",
       "    [0] Column\n",
       "        [0] IntSlider(end=1000000, name='x', step=10000, value=500000, value_throttled=500000)\n",
       "    [1] Row\n",
       "        [0] Str(None, name='interactive03500')"
      ]
     },
     "execution_count": 33,
     "metadata": {
      "application/vnd.holoviews_exec.v0+json": {
       "id": "1874"
      }
     },
     "output_type": "execute_result"
    }
   ],
   "source": [
    "# Create text widget for output\n",
    "current_savings = widgets.IntText()\n",
    "\n",
    "# Define function to bind value of the input to the output variable\n",
    "def f(x):\n",
    "    current_savings.value = x\n",
    "\n",
    "# Create input slider\n",
    "interact(f, x=(0,1000000,10000))"
   ]
  },
  {
   "cell_type": "code",
   "execution_count": 34,
   "metadata": {},
   "outputs": [
    {
     "name": "stdout",
     "output_type": "stream",
     "text": [
      "Your current Net Worth is $500000!\n"
     ]
    }
   ],
   "source": [
    "# Creating the selected option as value\n",
    "current_savings = current_savings.value\n",
    "current_savings\n",
    "print(f\"Your current Net Worth is ${current_savings}!\")"
   ]
  },
  {
   "cell_type": "markdown",
   "metadata": {},
   "source": [
    "### Enter monthly savings capacity"
   ]
  },
  {
   "cell_type": "code",
   "execution_count": 35,
   "metadata": {},
   "outputs": [
    {
     "data": {},
     "metadata": {},
     "output_type": "display_data"
    },
    {
     "data": {
      "application/vnd.holoviews_exec.v0+json": "",
      "text/html": [
       "<div id='1880'>\n",
       "\n",
       "\n",
       "\n",
       "\n",
       "\n",
       "  <div class=\"bk-root\" id=\"718a10ab-907a-4272-951c-7608da7a0af1\" data-root-id=\"1880\"></div>\n",
       "</div>\n",
       "<script type=\"application/javascript\">(function(root) {\n",
       "  function embed_document(root) {\n",
       "    var docs_json = {\"b3abaf2b-f239-49f2-a8f8-c987a4e9ad0a\":{\"roots\":{\"references\":[{\"attributes\":{\"children\":[{\"id\":\"1882\"}],\"margin\":[0,0,0,0],\"name\":\"Column03515\"},\"id\":\"1881\",\"type\":\"Column\"},{\"attributes\":{\"end\":10000,\"format\":\"0[.]00\",\"margin\":[5,10,5,10],\"start\":0,\"step\":500,\"title\":\"x\",\"value\":5000,\"value_throttled\":5000},\"id\":\"1882\",\"type\":\"Slider\"},{\"attributes\":{\"children\":[{\"id\":\"1884\"}],\"margin\":[0,0,0,0],\"name\":\"Row03514\"},\"id\":\"1883\",\"type\":\"Row\"},{\"attributes\":{\"children\":[{\"id\":\"1881\"},{\"id\":\"1883\"}],\"margin\":[0,0,0,0],\"name\":\"Column03510\"},\"id\":\"1880\",\"type\":\"Column\"},{\"attributes\":{\"margin\":[5,5,5,5],\"name\":\"interactive03509\"},\"id\":\"1884\",\"type\":\"panel.models.markup.HTML\"},{\"attributes\":{\"client_comm_id\":\"5da4f2a8cf6e4d918a54bb626bb7a9ba\",\"comm_id\":\"3518d11397ff44828268d056a29d92bd\",\"plot_id\":\"1880\"},\"id\":\"1885\",\"type\":\"panel.models.comm_manager.CommManager\"}],\"root_ids\":[\"1880\",\"1885\"]},\"title\":\"Bokeh Application\",\"version\":\"2.2.3\"}};\n",
       "    var render_items = [{\"docid\":\"b3abaf2b-f239-49f2-a8f8-c987a4e9ad0a\",\"root_ids\":[\"1880\"],\"roots\":{\"1880\":\"718a10ab-907a-4272-951c-7608da7a0af1\"}}];\n",
       "    root.Bokeh.embed.embed_items_notebook(docs_json, render_items);\n",
       "  }\n",
       "  if (root.Bokeh !== undefined && root.Bokeh.Panel !== undefined) {\n",
       "    embed_document(root);\n",
       "  } else {\n",
       "    var attempts = 0;\n",
       "    var timer = setInterval(function(root) {\n",
       "      if (root.Bokeh !== undefined && root.Bokeh.Panel !== undefined) {\n",
       "        clearInterval(timer);\n",
       "        embed_document(root);\n",
       "      } else if (document.readyState == \"complete\") {\n",
       "        attempts++;\n",
       "        if (attempts > 100) {\n",
       "          clearInterval(timer);\n",
       "          console.log(\"Bokeh: ERROR: Unable to run BokehJS code because BokehJS library is missing\");\n",
       "        }\n",
       "      }\n",
       "    }, 10, root)\n",
       "  }\n",
       "})(window);</script>"
      ],
      "text/plain": [
       "Column\n",
       "    [0] Column\n",
       "        [0] IntSlider(end=10000, name='x', step=500, value=5000, value_throttled=5000)\n",
       "    [1] Row\n",
       "        [0] Str(None, name='interactive03509')"
      ]
     },
     "execution_count": 35,
     "metadata": {
      "application/vnd.holoviews_exec.v0+json": {
       "id": "1880"
      }
     },
     "output_type": "execute_result"
    }
   ],
   "source": [
    "# Create text widget for output\n",
    "monthly_savings = widgets.IntText()\n",
    "\n",
    "# Define function to bind value of the input to the output variable\n",
    "def f(x):\n",
    "    monthly_savings.value = x\n",
    "\n",
    "# Create input slider\n",
    "interact(f, x=(0,10000,500))"
   ]
  },
  {
   "cell_type": "code",
   "execution_count": 36,
   "metadata": {},
   "outputs": [
    {
     "name": "stdout",
     "output_type": "stream",
     "text": [
      "Your annual saving capacity is $60000 per year!\n"
     ]
    }
   ],
   "source": [
    "# Creating the selected option as value\n",
    "monthly_savings = monthly_savings.value\n",
    "annual_savings = (monthly_savings)*12\n",
    "print(f\"Your annual saving capacity is ${annual_savings} per year!\")"
   ]
  },
  {
   "cell_type": "markdown",
   "metadata": {},
   "source": [
    "### How long will you have to work to FIRE retire?"
   ]
  },
  {
   "cell_type": "code",
   "execution_count": 37,
   "metadata": {},
   "outputs": [
    {
     "name": "stdout",
     "output_type": "stream",
     "text": [
      "You need to work for 41.67 years to FIRE retire!\n"
     ]
    }
   ],
   "source": [
    "# Calculate how many years it will take to get you there\n",
    "rat_race = (fire_goal - current_savings)/ annual_savings\n",
    "\n",
    "print(f\"You need to work for {rat_race:.2f} years to FIRE retire!\")"
   ]
  },
  {
   "cell_type": "code",
   "execution_count": 58,
   "metadata": {},
   "outputs": [
    {
     "data": {},
     "metadata": {},
     "output_type": "display_data"
    },
    {
     "data": {
      "application/vnd.holoviews_exec.v0+json": "",
      "text/html": [
       "<div id='3860'>\n",
       "\n",
       "\n",
       "\n",
       "\n",
       "\n",
       "  <div class=\"bk-root\" id=\"d2bb83dc-e056-47a1-8222-8721f6e1776f\" data-root-id=\"3860\"></div>\n",
       "</div>\n",
       "<script type=\"application/javascript\">(function(root) {\n",
       "  function embed_document(root) {\n",
       "    var docs_json = {\"5e363760-e490-4d4d-8ca3-2581a1522afc\":{\"roots\":{\"references\":[{\"attributes\":{\"overlay\":{\"id\":\"3888\"}},\"id\":\"3886\",\"type\":\"BoxZoomTool\"},{\"attributes\":{},\"id\":\"3906\",\"type\":\"Selection\"},{\"attributes\":{\"bottom_units\":\"screen\",\"fill_alpha\":0.5,\"fill_color\":\"lightgrey\",\"left_units\":\"screen\",\"level\":\"overlay\",\"line_alpha\":1.0,\"line_color\":\"black\",\"line_dash\":[4,4],\"line_width\":2,\"right_units\":\"screen\",\"top_units\":\"screen\"},\"id\":\"3888\",\"type\":\"BoxAnnotation\"},{\"attributes\":{},\"id\":\"3871\",\"type\":\"LinearScale\"},{\"attributes\":{},\"id\":\"3880\",\"type\":\"BasicTicker\"},{\"attributes\":{},\"id\":\"3898\",\"type\":\"BasicTickFormatter\"},{\"attributes\":{\"data_source\":{\"id\":\"3922\"},\"glyph\":{\"id\":\"3925\"},\"hover_glyph\":null,\"muted_glyph\":{\"id\":\"3927\"},\"nonselection_glyph\":{\"id\":\"3926\"},\"selection_glyph\":null,\"view\":{\"id\":\"3929\"}},\"id\":\"3928\",\"type\":\"GlyphRenderer\"},{\"attributes\":{\"children\":[{\"id\":\"3861\"},{\"id\":\"3866\"},{\"id\":\"4021\"}],\"margin\":[0,0,0,0],\"name\":\"Row08318\",\"tags\":[\"embedded\"]},\"id\":\"3860\",\"type\":\"Row\"},{\"attributes\":{},\"id\":\"3885\",\"type\":\"WheelZoomTool\"},{\"attributes\":{\"data\":{\"Variable\":[\"Fire Progress\",\"Fire Progress\",\"Fire Progress\",\"Fire Progress\",\"Fire Progress\",\"Fire Progress\",\"Fire Progress\",\"Fire Progress\",\"Fire Progress\",\"Fire Progress\",\"Fire Progress\",\"Fire Progress\",\"Fire Progress\",\"Fire Progress\",\"Fire Progress\",\"Fire Progress\",\"Fire Progress\",\"Fire Progress\",\"Fire Progress\",\"Fire Progress\",\"Fire Progress\",\"Fire Progress\",\"Fire Progress\",\"Fire Progress\",\"Fire Progress\",\"Fire Progress\",\"Fire Progress\",\"Fire Progress\",\"Fire Progress\",\"Fire Progress\",\"Fire Progress\",\"Fire Progress\",\"Fire Progress\",\"Fire Progress\",\"Fire Progress\",\"Fire Progress\",\"Fire Progress\",\"Fire Progress\",\"Fire Progress\",\"Fire Progress\",\"Fire Progress\",\"Fire Progress\"],\"Years\":[0,1,2,3,4,5,6,7,8,9,10,11,12,13,14,15,16,17,18,19,20,21,22,23,24,25,26,27,28,29,30,31,32,33,34,35,36,37,38,39,40,41],\"value\":[500000,560000,620000,680000,740000,800000,860000,920000,980000,1040000,1100000,1160000,1220000,1280000,1340000,1400000,1460000,1520000,1580000,1640000,1700000,1760000,1820000,1880000,1940000,2000000,2060000,2120000,2180000,2240000,2300000,2360000,2420000,2480000,2540000,2600000,2660000,2720000,2780000,2840000,2900000,2960000]},\"selected\":{\"id\":\"3906\"},\"selection_policy\":{\"id\":\"3918\"}},\"id\":\"3905\",\"type\":\"ColumnDataSource\"},{\"attributes\":{},\"id\":\"3883\",\"type\":\"SaveTool\"},{\"attributes\":{\"label\":{\"value\":\"Fire Goal\"},\"renderers\":[{\"id\":\"3928\"}]},\"id\":\"3939\",\"type\":\"LegendItem\"},{\"attributes\":{\"line_alpha\":0.1,\"line_color\":\"#30a2da\",\"line_width\":2,\"x\":{\"field\":\"Years\"},\"y\":{\"field\":\"value\"}},\"id\":\"3909\",\"type\":\"Line\"},{\"attributes\":{\"data\":{\"Variable\":[\"Fire Goal\",\"Fire Goal\",\"Fire Goal\",\"Fire Goal\",\"Fire Goal\",\"Fire Goal\",\"Fire Goal\",\"Fire Goal\",\"Fire Goal\",\"Fire Goal\",\"Fire Goal\",\"Fire Goal\",\"Fire Goal\",\"Fire Goal\",\"Fire Goal\",\"Fire Goal\",\"Fire Goal\",\"Fire Goal\",\"Fire Goal\",\"Fire Goal\",\"Fire Goal\",\"Fire Goal\",\"Fire Goal\",\"Fire Goal\",\"Fire Goal\",\"Fire Goal\",\"Fire Goal\",\"Fire Goal\",\"Fire Goal\",\"Fire Goal\",\"Fire Goal\",\"Fire Goal\",\"Fire Goal\",\"Fire Goal\",\"Fire Goal\",\"Fire Goal\",\"Fire Goal\",\"Fire Goal\",\"Fire Goal\",\"Fire Goal\",\"Fire Goal\",\"Fire Goal\"],\"Years\":[0,1,2,3,4,5,6,7,8,9,10,11,12,13,14,15,16,17,18,19,20,21,22,23,24,25,26,27,28,29,30,31,32,33,34,35,36,37,38,39,40,41],\"value\":[3000000,3000000,3000000,3000000,3000000,3000000,3000000,3000000,3000000,3000000,3000000,3000000,3000000,3000000,3000000,3000000,3000000,3000000,3000000,3000000,3000000,3000000,3000000,3000000,3000000,3000000,3000000,3000000,3000000,3000000,3000000,3000000,3000000,3000000,3000000,3000000,3000000,3000000,3000000,3000000,3000000,3000000]},\"selected\":{\"id\":\"3923\"},\"selection_policy\":{\"id\":\"3937\"}},\"id\":\"3922\",\"type\":\"ColumnDataSource\"},{\"attributes\":{},\"id\":\"3923\",\"type\":\"Selection\"},{\"attributes\":{\"source\":{\"id\":\"3922\"}},\"id\":\"3929\",\"type\":\"CDSView\"},{\"attributes\":{},\"id\":\"3918\",\"type\":\"UnionRenderers\"},{\"attributes\":{\"line_color\":\"#30a2da\",\"line_width\":2,\"x\":{\"field\":\"Years\"},\"y\":{\"field\":\"value\"}},\"id\":\"3908\",\"type\":\"Line\"},{\"attributes\":{\"line_color\":\"#fc4f30\",\"line_width\":2,\"x\":{\"field\":\"Years\"},\"y\":{\"field\":\"value\"}},\"id\":\"3925\",\"type\":\"Line\"},{\"attributes\":{\"format\":\"$%.0f\"},\"id\":\"3896\",\"type\":\"PrintfTickFormatter\"},{\"attributes\":{\"axis\":{\"id\":\"3875\"},\"ticker\":{\"id\":\"3876\"}},\"id\":\"3878\",\"type\":\"Grid\"},{\"attributes\":{\"callback\":null,\"renderers\":[{\"id\":\"3911\"},{\"id\":\"3928\"}],\"tags\":[\"hv_created\"],\"tooltips\":[[\"Variable\",\"@{Variable}\"],[\"Years\",\"@{Years}\"],[\"value\",\"@{value}\"]]},\"id\":\"3864\",\"type\":\"HoverTool\"},{\"attributes\":{\"line_alpha\":0.2,\"line_color\":\"#fc4f30\",\"line_width\":2,\"x\":{\"field\":\"Years\"},\"y\":{\"field\":\"value\"}},\"id\":\"3927\",\"type\":\"Line\"},{\"attributes\":{\"source\":{\"id\":\"3905\"}},\"id\":\"3912\",\"type\":\"CDSView\"},{\"attributes\":{\"end\":3250000.0,\"reset_end\":3250000.0,\"reset_start\":250000.0,\"start\":250000.0,\"tags\":[[[\"value\",\"value\",null]]]},\"id\":\"3863\",\"type\":\"Range1d\"},{\"attributes\":{\"data_source\":{\"id\":\"3905\"},\"glyph\":{\"id\":\"3908\"},\"hover_glyph\":null,\"muted_glyph\":{\"id\":\"3910\"},\"nonselection_glyph\":{\"id\":\"3909\"},\"selection_glyph\":null,\"view\":{\"id\":\"3912\"}},\"id\":\"3911\",\"type\":\"GlyphRenderer\"},{\"attributes\":{\"margin\":[5,5,5,5],\"name\":\"HSpacer08322\",\"sizing_mode\":\"stretch_width\"},\"id\":\"3861\",\"type\":\"Spacer\"},{\"attributes\":{},\"id\":\"3884\",\"type\":\"PanTool\"},{\"attributes\":{},\"id\":\"3887\",\"type\":\"ResetTool\"},{\"attributes\":{\"below\":[{\"id\":\"3875\"}],\"center\":[{\"id\":\"3878\"},{\"id\":\"3882\"}],\"left\":[{\"id\":\"3879\"}],\"margin\":[5,5,5,5],\"min_border_bottom\":10,\"min_border_left\":10,\"min_border_right\":10,\"min_border_top\":10,\"plot_height\":500,\"plot_width\":750,\"renderers\":[{\"id\":\"3911\"},{\"id\":\"3928\"}],\"right\":[{\"id\":\"3920\"}],\"sizing_mode\":\"fixed\",\"title\":{\"id\":\"3867\"},\"toolbar\":{\"id\":\"3889\"},\"x_range\":{\"id\":\"3862\"},\"x_scale\":{\"id\":\"3871\"},\"y_range\":{\"id\":\"3863\"},\"y_scale\":{\"id\":\"3873\"}},\"id\":\"3866\",\"subtype\":\"Figure\",\"type\":\"Plot\"},{\"attributes\":{},\"id\":\"3937\",\"type\":\"UnionRenderers\"},{\"attributes\":{\"click_policy\":\"mute\",\"items\":[{\"id\":\"3921\"},{\"id\":\"3939\"}],\"location\":[0,0],\"title\":\"Variable\"},\"id\":\"3920\",\"type\":\"Legend\"},{\"attributes\":{\"label\":{\"value\":\"Fire Progress\"},\"renderers\":[{\"id\":\"3911\"}]},\"id\":\"3921\",\"type\":\"LegendItem\"},{\"attributes\":{\"axis\":{\"id\":\"3879\"},\"dimension\":1,\"ticker\":{\"id\":\"3880\"}},\"id\":\"3882\",\"type\":\"Grid\"},{\"attributes\":{\"axis_label\":\"\",\"bounds\":\"auto\",\"formatter\":{\"id\":\"3896\"},\"major_label_orientation\":\"horizontal\",\"ticker\":{\"id\":\"3880\"}},\"id\":\"3879\",\"type\":\"LinearAxis\"},{\"attributes\":{},\"id\":\"3873\",\"type\":\"LinearScale\"},{\"attributes\":{\"line_alpha\":0.1,\"line_color\":\"#fc4f30\",\"line_width\":2,\"x\":{\"field\":\"Years\"},\"y\":{\"field\":\"value\"}},\"id\":\"3926\",\"type\":\"Line\"},{\"attributes\":{\"end\":41.0,\"reset_end\":41.0,\"reset_start\":0.0,\"tags\":[[[\"Years\",\"Years\",null]]]},\"id\":\"3862\",\"type\":\"Range1d\"},{\"attributes\":{\"text\":\"Current Path to FIRE\",\"text_color\":{\"value\":\"black\"},\"text_font_size\":{\"value\":\"12pt\"}},\"id\":\"3867\",\"type\":\"Title\"},{\"attributes\":{\"margin\":[5,5,5,5],\"name\":\"HSpacer08323\",\"sizing_mode\":\"stretch_width\"},\"id\":\"4021\",\"type\":\"Spacer\"},{\"attributes\":{\"line_alpha\":0.2,\"line_color\":\"#30a2da\",\"line_width\":2,\"x\":{\"field\":\"Years\"},\"y\":{\"field\":\"value\"}},\"id\":\"3910\",\"type\":\"Line\"},{\"attributes\":{},\"id\":\"3876\",\"type\":\"BasicTicker\"},{\"attributes\":{\"axis_label\":\"Years\",\"bounds\":\"auto\",\"formatter\":{\"id\":\"3898\"},\"major_label_orientation\":\"horizontal\",\"ticker\":{\"id\":\"3876\"}},\"id\":\"3875\",\"type\":\"LinearAxis\"},{\"attributes\":{\"active_drag\":\"auto\",\"active_inspect\":\"auto\",\"active_multi\":null,\"active_scroll\":\"auto\",\"active_tap\":\"auto\",\"tools\":[{\"id\":\"3864\"},{\"id\":\"3883\"},{\"id\":\"3884\"},{\"id\":\"3885\"},{\"id\":\"3886\"},{\"id\":\"3887\"}]},\"id\":\"3889\",\"type\":\"Toolbar\"}],\"root_ids\":[\"3860\"]},\"title\":\"Bokeh Application\",\"version\":\"2.2.3\"}};\n",
       "    var render_items = [{\"docid\":\"5e363760-e490-4d4d-8ca3-2581a1522afc\",\"root_ids\":[\"3860\"],\"roots\":{\"3860\":\"d2bb83dc-e056-47a1-8222-8721f6e1776f\"}}];\n",
       "    root.Bokeh.embed.embed_items_notebook(docs_json, render_items);\n",
       "  }\n",
       "  if (root.Bokeh !== undefined && root.Bokeh.Panel !== undefined) {\n",
       "    embed_document(root);\n",
       "  } else {\n",
       "    var attempts = 0;\n",
       "    var timer = setInterval(function(root) {\n",
       "      if (root.Bokeh !== undefined && root.Bokeh.Panel !== undefined) {\n",
       "        clearInterval(timer);\n",
       "        embed_document(root);\n",
       "      } else if (document.readyState == \"complete\") {\n",
       "        attempts++;\n",
       "        if (attempts > 100) {\n",
       "          clearInterval(timer);\n",
       "          console.log(\"Bokeh: ERROR: Unable to run BokehJS code because BokehJS library is missing\");\n",
       "        }\n",
       "      }\n",
       "    }, 10, root)\n",
       "  }\n",
       "})(window);</script>"
      ],
      "text/plain": [
       ":NdOverlay   [Variable]\n",
       "   :Curve   [Years]   (value)"
      ]
     },
     "execution_count": 58,
     "metadata": {
      "application/vnd.holoviews_exec.v0+json": {
       "id": "3860"
      }
     },
     "output_type": "execute_result"
    }
   ],
   "source": [
    "# Fire progess = your net worth + annual savings \n",
    "fire_progress = list(range(current_savings,fire_goal,annual_savings))\n",
    "\n",
    "df_ret = pd.DataFrame(fire_progress, columns = ['fire_progress'])\n",
    "df_ret['Fire Goal'] = fire_goal\n",
    "df_ret.index.name  = 'Years'\n",
    "df_ret = df_ret.rename(columns={'fire_progress':'Fire Progress'})\n",
    "df_ret.hvplot.line(x='Years',width=750, height=500,yformatter='$%.0f',grid=True,title='Current Path to FIRE')"
   ]
  },
  {
   "cell_type": "markdown",
   "metadata": {},
   "source": [
    "# Investing\n"
   ]
  },
  {
   "cell_type": "markdown",
   "metadata": {},
   "source": [
    "### Could you retire faster if you invest your savings?"
   ]
  },
  {
   "cell_type": "code",
   "execution_count": 52,
   "metadata": {},
   "outputs": [
    {
     "data": {},
     "metadata": {},
     "output_type": "display_data"
    },
    {
     "data": {
      "application/vnd.holoviews_exec.v0+json": "",
      "text/html": [
       "<div id='3191'>\n",
       "\n",
       "\n",
       "\n",
       "\n",
       "\n",
       "  <div class=\"bk-root\" id=\"7997f447-4266-4188-b88c-fe4d603ee9a6\" data-root-id=\"3191\"></div>\n",
       "</div>\n",
       "<script type=\"application/javascript\">(function(root) {\n",
       "  function embed_document(root) {\n",
       "    var docs_json = {\"e6c8b1b6-6141-4928-a1f2-507012ddaa3d\":{\"roots\":{\"references\":[{\"attributes\":{\"data\":{\"Variable\":[\"Fire Goal\",\"Fire Goal\",\"Fire Goal\",\"Fire Goal\",\"Fire Goal\",\"Fire Goal\",\"Fire Goal\",\"Fire Goal\",\"Fire Goal\",\"Fire Goal\",\"Fire Goal\",\"Fire Goal\",\"Fire Goal\",\"Fire Goal\",\"Fire Goal\",\"Fire Goal\",\"Fire Goal\",\"Fire Goal\",\"Fire Goal\",\"Fire Goal\",\"Fire Goal\",\"Fire Goal\",\"Fire Goal\",\"Fire Goal\",\"Fire Goal\",\"Fire Goal\",\"Fire Goal\",\"Fire Goal\",\"Fire Goal\",\"Fire Goal\",\"Fire Goal\",\"Fire Goal\",\"Fire Goal\",\"Fire Goal\",\"Fire Goal\",\"Fire Goal\",\"Fire Goal\",\"Fire Goal\",\"Fire Goal\",\"Fire Goal\",\"Fire Goal\",\"Fire Goal\"],\"Years\":[0,1,2,3,4,5,6,7,8,9,10,11,12,13,14,15,16,17,18,19,20,21,22,23,24,25,26,27,28,29,30,31,32,33,34,35,36,37,38,39,40,41],\"value\":[3000000,3000000,3000000,3000000,3000000,3000000,3000000,3000000,3000000,3000000,3000000,3000000,3000000,3000000,3000000,3000000,3000000,3000000,3000000,3000000,3000000,3000000,3000000,3000000,3000000,3000000,3000000,3000000,3000000,3000000,3000000,3000000,3000000,3000000,3000000,3000000,3000000,3000000,3000000,3000000,3000000,3000000]},\"selected\":{\"id\":\"3256\"},\"selection_policy\":{\"id\":\"3270\"}},\"id\":\"3255\",\"type\":\"ColumnDataSource\"},{\"attributes\":{},\"id\":\"3209\",\"type\":\"BasicTicker\"},{\"attributes\":{\"label\":{\"value\":\"Fire Goal\"},\"renderers\":[{\"id\":\"3261\"}]},\"id\":\"3272\",\"type\":\"LegendItem\"},{\"attributes\":{\"margin\":[5,5,5,5],\"name\":\"HSpacer06695\",\"sizing_mode\":\"stretch_width\"},\"id\":\"3192\",\"type\":\"Spacer\"},{\"attributes\":{\"data_source\":{\"id\":\"3273\"},\"glyph\":{\"id\":\"3276\"},\"hover_glyph\":null,\"muted_glyph\":{\"id\":\"3278\"},\"nonselection_glyph\":{\"id\":\"3277\"},\"selection_glyph\":null,\"view\":{\"id\":\"3280\"}},\"id\":\"3279\",\"type\":\"GlyphRenderer\"},{\"attributes\":{\"axis\":{\"id\":\"3212\"},\"dimension\":1,\"ticker\":{\"id\":\"3213\"}},\"id\":\"3215\",\"type\":\"Grid\"},{\"attributes\":{\"line_alpha\":0.1,\"line_color\":\"#fc4f30\",\"line_width\":2,\"x\":{\"field\":\"Years\"},\"y\":{\"field\":\"value\"}},\"id\":\"3259\",\"type\":\"Line\"},{\"attributes\":{},\"id\":\"3290\",\"type\":\"UnionRenderers\"},{\"attributes\":{\"children\":[{\"id\":\"3192\"},{\"id\":\"3199\"},{\"id\":\"3432\"}],\"margin\":[0,0,0,0],\"name\":\"Row06691\",\"tags\":[\"embedded\"]},\"id\":\"3191\",\"type\":\"Row\"},{\"attributes\":{\"line_alpha\":0.2,\"line_color\":\"#6d904f\",\"line_width\":2,\"x\":{\"field\":\"Years\"},\"y\":{\"field\":\"value\"}},\"id\":\"3298\",\"type\":\"Line\"},{\"attributes\":{\"axis\":{\"id\":\"3208\"},\"ticker\":{\"id\":\"3209\"}},\"id\":\"3211\",\"type\":\"Grid\"},{\"attributes\":{\"margin\":[5,5,5,5],\"name\":\"HSpacer06696\",\"sizing_mode\":\"stretch_width\"},\"id\":\"3432\",\"type\":\"Spacer\"},{\"attributes\":{\"line_alpha\":0.2,\"line_color\":\"#fc4f30\",\"line_width\":2,\"x\":{\"field\":\"Years\"},\"y\":{\"field\":\"value\"}},\"id\":\"3260\",\"type\":\"Line\"},{\"attributes\":{\"format\":\"$%.0f\"},\"id\":\"3229\",\"type\":\"PrintfTickFormatter\"},{\"attributes\":{\"source\":{\"id\":\"3255\"}},\"id\":\"3262\",\"type\":\"CDSView\"},{\"attributes\":{},\"id\":\"3213\",\"type\":\"BasicTicker\"},{\"attributes\":{\"axis_label\":\"\",\"bounds\":\"auto\",\"formatter\":{\"id\":\"3229\"},\"major_label_orientation\":\"horizontal\",\"ticker\":{\"id\":\"3213\"}},\"id\":\"3212\",\"type\":\"LinearAxis\"},{\"attributes\":{\"line_color\":\"#fc4f30\",\"line_width\":2,\"x\":{\"field\":\"Years\"},\"y\":{\"field\":\"value\"}},\"id\":\"3258\",\"type\":\"Line\"},{\"attributes\":{\"line_color\":\"#6d904f\",\"line_width\":2,\"x\":{\"field\":\"Years\"},\"y\":{\"field\":\"value\"}},\"id\":\"3296\",\"type\":\"Line\"},{\"attributes\":{\"source\":{\"id\":\"3273\"}},\"id\":\"3280\",\"type\":\"CDSView\"},{\"attributes\":{\"callback\":null,\"renderers\":[{\"id\":\"3244\"},{\"id\":\"3261\"},{\"id\":\"3279\"},{\"id\":\"3299\"}],\"tags\":[\"hv_created\"],\"tooltips\":[[\"Variable\",\"@{Variable}\"],[\"Years\",\"@{Years}\"],[\"value\",\"@{value}\"]]},\"id\":\"3195\",\"type\":\"HoverTool\"},{\"attributes\":{\"source\":{\"id\":\"3238\"}},\"id\":\"3245\",\"type\":\"CDSView\"},{\"attributes\":{\"data_source\":{\"id\":\"3255\"},\"glyph\":{\"id\":\"3258\"},\"hover_glyph\":null,\"muted_glyph\":{\"id\":\"3260\"},\"nonselection_glyph\":{\"id\":\"3259\"},\"selection_glyph\":null,\"view\":{\"id\":\"3262\"}},\"id\":\"3261\",\"type\":\"GlyphRenderer\"},{\"attributes\":{},\"id\":\"3239\",\"type\":\"Selection\"},{\"attributes\":{\"bottom_units\":\"screen\",\"fill_alpha\":0.5,\"fill_color\":\"lightgrey\",\"left_units\":\"screen\",\"level\":\"overlay\",\"line_alpha\":1.0,\"line_color\":\"black\",\"line_dash\":[4,4],\"line_width\":2,\"right_units\":\"screen\",\"top_units\":\"screen\"},\"id\":\"3221\",\"type\":\"BoxAnnotation\"},{\"attributes\":{},\"id\":\"3231\",\"type\":\"BasicTickFormatter\"},{\"attributes\":{\"click_policy\":\"mute\",\"items\":[{\"id\":\"3254\"},{\"id\":\"3272\"},{\"id\":\"3292\"},{\"id\":\"3314\"}],\"location\":[0,0],\"title\":\"Variable\"},\"id\":\"3253\",\"type\":\"Legend\"},{\"attributes\":{\"label\":{\"value\":\"Fire Progress Invest Compound\"},\"renderers\":[{\"id\":\"3299\"}]},\"id\":\"3314\",\"type\":\"LegendItem\"},{\"attributes\":{\"label\":{\"value\":\"Fire Progress Invest\"},\"renderers\":[{\"id\":\"3279\"}]},\"id\":\"3292\",\"type\":\"LegendItem\"},{\"attributes\":{\"active_drag\":\"auto\",\"active_inspect\":\"auto\",\"active_multi\":null,\"active_scroll\":\"auto\",\"active_tap\":\"auto\",\"tools\":[{\"id\":\"3195\"},{\"id\":\"3216\"},{\"id\":\"3217\"},{\"id\":\"3218\"},{\"id\":\"3219\"},{\"id\":\"3220\"}]},\"id\":\"3222\",\"type\":\"Toolbar\"},{\"attributes\":{\"source\":{\"id\":\"3293\"}},\"id\":\"3300\",\"type\":\"CDSView\"},{\"attributes\":{\"line_alpha\":0.1,\"line_color\":\"#30a2da\",\"line_width\":2,\"x\":{\"field\":\"Years\"},\"y\":{\"field\":\"value\"}},\"id\":\"3242\",\"type\":\"Line\"},{\"attributes\":{},\"id\":\"3270\",\"type\":\"UnionRenderers\"},{\"attributes\":{},\"id\":\"3294\",\"type\":\"Selection\"},{\"attributes\":{},\"id\":\"3216\",\"type\":\"SaveTool\"},{\"attributes\":{\"label\":{\"value\":\"Fire Progress\"},\"renderers\":[{\"id\":\"3244\"}]},\"id\":\"3254\",\"type\":\"LegendItem\"},{\"attributes\":{\"end\":3736816.0,\"reset_end\":3736816.0,\"reset_start\":205744.0,\"start\":205744.0,\"tags\":[[[\"value\",\"value\",null]]]},\"id\":\"3194\",\"type\":\"Range1d\"},{\"attributes\":{},\"id\":\"3251\",\"type\":\"UnionRenderers\"},{\"attributes\":{\"line_alpha\":0.1,\"line_color\":\"#6d904f\",\"line_width\":2,\"x\":{\"field\":\"Years\"},\"y\":{\"field\":\"value\"}},\"id\":\"3297\",\"type\":\"Line\"},{\"attributes\":{},\"id\":\"3217\",\"type\":\"PanTool\"},{\"attributes\":{\"below\":[{\"id\":\"3208\"}],\"center\":[{\"id\":\"3211\"},{\"id\":\"3215\"}],\"left\":[{\"id\":\"3212\"}],\"margin\":[5,5,5,5],\"min_border_bottom\":10,\"min_border_left\":10,\"min_border_right\":10,\"min_border_top\":10,\"plot_height\":500,\"plot_width\":750,\"renderers\":[{\"id\":\"3244\"},{\"id\":\"3261\"},{\"id\":\"3279\"},{\"id\":\"3299\"}],\"right\":[{\"id\":\"3253\"}],\"sizing_mode\":\"fixed\",\"title\":{\"id\":\"3200\"},\"toolbar\":{\"id\":\"3222\"},\"x_range\":{\"id\":\"3193\"},\"x_scale\":{\"id\":\"3204\"},\"y_range\":{\"id\":\"3194\"},\"y_scale\":{\"id\":\"3206\"}},\"id\":\"3199\",\"subtype\":\"Figure\",\"type\":\"Plot\"},{\"attributes\":{},\"id\":\"3204\",\"type\":\"LinearScale\"},{\"attributes\":{\"line_alpha\":0.2,\"line_color\":\"#30a2da\",\"line_width\":2,\"x\":{\"field\":\"Years\"},\"y\":{\"field\":\"value\"}},\"id\":\"3243\",\"type\":\"Line\"},{\"attributes\":{},\"id\":\"3218\",\"type\":\"WheelZoomTool\"},{\"attributes\":{},\"id\":\"3256\",\"type\":\"Selection\"},{\"attributes\":{\"data\":{\"Variable\":[\"Fire Progress Invest Compound\",\"Fire Progress Invest Compound\",\"Fire Progress Invest Compound\",\"Fire Progress Invest Compound\",\"Fire Progress Invest Compound\",\"Fire Progress Invest Compound\",\"Fire Progress Invest Compound\",\"Fire Progress Invest Compound\",\"Fire Progress Invest Compound\",\"Fire Progress Invest Compound\",\"Fire Progress Invest Compound\",\"Fire Progress Invest Compound\",\"Fire Progress Invest Compound\",\"Fire Progress Invest Compound\",\"Fire Progress Invest Compound\",\"Fire Progress Invest Compound\",\"Fire Progress Invest Compound\",\"Fire Progress Invest Compound\",\"Fire Progress Invest Compound\",\"Fire Progress Invest Compound\",\"Fire Progress Invest Compound\",\"Fire Progress Invest Compound\",\"Fire Progress Invest Compound\",\"Fire Progress Invest Compound\",\"Fire Progress Invest Compound\",\"Fire Progress Invest Compound\",\"Fire Progress Invest Compound\",\"Fire Progress Invest Compound\",\"Fire Progress Invest Compound\",\"Fire Progress Invest Compound\",\"Fire Progress Invest Compound\",\"Fire Progress Invest Compound\",\"Fire Progress Invest Compound\",\"Fire Progress Invest Compound\",\"Fire Progress Invest Compound\",\"Fire Progress Invest Compound\",\"Fire Progress Invest Compound\",\"Fire Progress Invest Compound\",\"Fire Progress Invest Compound\",\"Fire Progress Invest Compound\",\"Fire Progress Invest Compound\",\"Fire Progress Invest Compound\"],\"Years\":[0,1,2,3,4,5,6,7,8,9,10,11,12,13,14,15,16,17,18,19,20,21,22,23,24,25,26,27,28,29,30,31,32,33,34,35,36,37,38,39,40,41],\"value\":{\"__ndarray__\":\"AAAAAAAA+H8AAAAAAKEjQQAAAADAwyVBAAAAAIDmJ0EAAAAAQAkqQQAAAAAALCxBAQAAAMBOLkEBAAAAwDgwQQEAAAAgSjFBAAAAAIBbMkEAAAAA4GwzQQAAAABAfjRBAAAAAKCPNUEAAAAAAKE2QQAAAABgsjdBAAAAAMDDOEEAAAAAINU5QQAAAACA5jpBAQAAAOD3O0EBAAAAQAk9QQIAAACgGj5BAgAAAAAsP0EBAAAAsB5AQQEAAABgp0BBAQAAABAwQUEBAAAAwLhBQQAAAABwQUJBAAAAACDKQkEAAAAA0FJDQQAAAACA20NBAAAAADBkREEAAAAA4OxEQQAAAACQdUVBAAAAAED+RUEAAAAA8IZGQQAAAACgD0dBAAAAAFCYR0EAAAAAACFIQQAAAACwqUhBAAAAAGAySUEAAAAAELtJQQAAAADAQ0pB\",\"dtype\":\"float64\",\"order\":\"little\",\"shape\":[42]}},\"selected\":{\"id\":\"3294\"},\"selection_policy\":{\"id\":\"3312\"}},\"id\":\"3293\",\"type\":\"ColumnDataSource\"},{\"attributes\":{},\"id\":\"3274\",\"type\":\"Selection\"},{\"attributes\":{\"data_source\":{\"id\":\"3238\"},\"glyph\":{\"id\":\"3241\"},\"hover_glyph\":null,\"muted_glyph\":{\"id\":\"3243\"},\"nonselection_glyph\":{\"id\":\"3242\"},\"selection_glyph\":null,\"view\":{\"id\":\"3245\"}},\"id\":\"3244\",\"type\":\"GlyphRenderer\"},{\"attributes\":{\"data_source\":{\"id\":\"3293\"},\"glyph\":{\"id\":\"3296\"},\"hover_glyph\":null,\"muted_glyph\":{\"id\":\"3298\"},\"nonselection_glyph\":{\"id\":\"3297\"},\"selection_glyph\":null,\"view\":{\"id\":\"3300\"}},\"id\":\"3299\",\"type\":\"GlyphRenderer\"},{\"attributes\":{\"overlay\":{\"id\":\"3221\"}},\"id\":\"3219\",\"type\":\"BoxZoomTool\"},{\"attributes\":{\"end\":41.0,\"reset_end\":41.0,\"reset_start\":0.0,\"tags\":[[[\"Years\",\"Years\",null]]]},\"id\":\"3193\",\"type\":\"Range1d\"},{\"attributes\":{},\"id\":\"3206\",\"type\":\"LinearScale\"},{\"attributes\":{\"data\":{\"Variable\":[\"Fire Progress Invest\",\"Fire Progress Invest\",\"Fire Progress Invest\",\"Fire Progress Invest\",\"Fire Progress Invest\",\"Fire Progress Invest\",\"Fire Progress Invest\",\"Fire Progress Invest\",\"Fire Progress Invest\",\"Fire Progress Invest\",\"Fire Progress Invest\",\"Fire Progress Invest\",\"Fire Progress Invest\",\"Fire Progress Invest\",\"Fire Progress Invest\",\"Fire Progress Invest\",\"Fire Progress Invest\",\"Fire Progress Invest\",\"Fire Progress Invest\",\"Fire Progress Invest\",\"Fire Progress Invest\",\"Fire Progress Invest\",\"Fire Progress Invest\",\"Fire Progress Invest\",\"Fire Progress Invest\",\"Fire Progress Invest\",\"Fire Progress Invest\",\"Fire Progress Invest\",\"Fire Progress Invest\",\"Fire Progress Invest\",\"Fire Progress Invest\",\"Fire Progress Invest\",\"Fire Progress Invest\",\"Fire Progress Invest\",\"Fire Progress Invest\",\"Fire Progress Invest\",\"Fire Progress Invest\",\"Fire Progress Invest\",\"Fire Progress Invest\",\"Fire Progress Invest\",\"Fire Progress Invest\",\"Fire Progress Invest\"],\"Years\":[0,1,2,3,4,5,6,7,8,9,10,11,12,13,14,15,16,17,18,19,20,21,22,23,24,25,26,27,28,29,30,31,32,33,34,35,36,37,38,39,40,41],\"value\":{\"__ndarray__\":\"AAAAAMB6IEEAAAAAAHUiQQAAAABAbyRBAAAAAIBpJkEAAAAAwGMoQQAAAAAAXipBAQAAAEBYLEEBAAAAgFIuQQAAAABgJjBBAAAAAIAjMUEAAAAAoCAyQQAAAADAHTNBAAAAAOAaNEEAAAAAABg1QQAAAAAgFTZBAAAAAEASN0EAAAAAYA84QQAAAACADDlBAAAAAKAJOkEBAAAAwAY7QQEAAADgAzxBAQAAAAABPUEBAAAAIP49QQEAAABA+z5BAQAAAGD4P0EAAAAAwHpAQQAAAABQ+UBBAAAAAOB3QUEAAAAAcPZBQQAAAAAAdUJBAAAAAJDzQkEAAAAAIHJDQQAAAACw8ENBAAAAAEBvREEAAAAA0O1EQQAAAABgbEVBAAAAAPDqRUEAAAAAgGlGQQAAAAAQ6EZBAAAAAKBmR0EAAAAAMOVHQQAAAADAY0hB\",\"dtype\":\"float64\",\"order\":\"little\",\"shape\":[42]}},\"selected\":{\"id\":\"3274\"},\"selection_policy\":{\"id\":\"3290\"}},\"id\":\"3273\",\"type\":\"ColumnDataSource\"},{\"attributes\":{\"line_color\":\"#e5ae38\",\"line_width\":2,\"x\":{\"field\":\"Years\"},\"y\":{\"field\":\"value\"}},\"id\":\"3276\",\"type\":\"Line\"},{\"attributes\":{\"line_color\":\"#30a2da\",\"line_width\":2,\"x\":{\"field\":\"Years\"},\"y\":{\"field\":\"value\"}},\"id\":\"3241\",\"type\":\"Line\"},{\"attributes\":{},\"id\":\"3312\",\"type\":\"UnionRenderers\"},{\"attributes\":{\"text\":\"FIRE Path if invested\",\"text_color\":{\"value\":\"black\"},\"text_font_size\":{\"value\":\"12pt\"}},\"id\":\"3200\",\"type\":\"Title\"},{\"attributes\":{\"data\":{\"Variable\":[\"Fire Progress\",\"Fire Progress\",\"Fire Progress\",\"Fire Progress\",\"Fire Progress\",\"Fire Progress\",\"Fire Progress\",\"Fire Progress\",\"Fire Progress\",\"Fire Progress\",\"Fire Progress\",\"Fire Progress\",\"Fire Progress\",\"Fire Progress\",\"Fire Progress\",\"Fire Progress\",\"Fire Progress\",\"Fire Progress\",\"Fire Progress\",\"Fire Progress\",\"Fire Progress\",\"Fire Progress\",\"Fire Progress\",\"Fire Progress\",\"Fire Progress\",\"Fire Progress\",\"Fire Progress\",\"Fire Progress\",\"Fire Progress\",\"Fire Progress\",\"Fire Progress\",\"Fire Progress\",\"Fire Progress\",\"Fire Progress\",\"Fire Progress\",\"Fire Progress\",\"Fire Progress\",\"Fire Progress\",\"Fire Progress\",\"Fire Progress\",\"Fire Progress\",\"Fire Progress\"],\"Years\":[0,1,2,3,4,5,6,7,8,9,10,11,12,13,14,15,16,17,18,19,20,21,22,23,24,25,26,27,28,29,30,31,32,33,34,35,36,37,38,39,40,41],\"value\":[500000,560000,620000,680000,740000,800000,860000,920000,980000,1040000,1100000,1160000,1220000,1280000,1340000,1400000,1460000,1520000,1580000,1640000,1700000,1760000,1820000,1880000,1940000,2000000,2060000,2120000,2180000,2240000,2300000,2360000,2420000,2480000,2540000,2600000,2660000,2720000,2780000,2840000,2900000,2960000]},\"selected\":{\"id\":\"3239\"},\"selection_policy\":{\"id\":\"3251\"}},\"id\":\"3238\",\"type\":\"ColumnDataSource\"},{\"attributes\":{\"axis_label\":\"Years\",\"bounds\":\"auto\",\"formatter\":{\"id\":\"3231\"},\"major_label_orientation\":\"horizontal\",\"ticker\":{\"id\":\"3209\"}},\"id\":\"3208\",\"type\":\"LinearAxis\"},{\"attributes\":{\"line_alpha\":0.2,\"line_color\":\"#e5ae38\",\"line_width\":2,\"x\":{\"field\":\"Years\"},\"y\":{\"field\":\"value\"}},\"id\":\"3278\",\"type\":\"Line\"},{\"attributes\":{},\"id\":\"3220\",\"type\":\"ResetTool\"},{\"attributes\":{\"line_alpha\":0.1,\"line_color\":\"#e5ae38\",\"line_width\":2,\"x\":{\"field\":\"Years\"},\"y\":{\"field\":\"value\"}},\"id\":\"3277\",\"type\":\"Line\"}],\"root_ids\":[\"3191\"]},\"title\":\"Bokeh Application\",\"version\":\"2.2.3\"}};\n",
       "    var render_items = [{\"docid\":\"e6c8b1b6-6141-4928-a1f2-507012ddaa3d\",\"root_ids\":[\"3191\"],\"roots\":{\"3191\":\"7997f447-4266-4188-b88c-fe4d603ee9a6\"}}];\n",
       "    root.Bokeh.embed.embed_items_notebook(docs_json, render_items);\n",
       "  }\n",
       "  if (root.Bokeh !== undefined && root.Bokeh.Panel !== undefined) {\n",
       "    embed_document(root);\n",
       "  } else {\n",
       "    var attempts = 0;\n",
       "    var timer = setInterval(function(root) {\n",
       "      if (root.Bokeh !== undefined && root.Bokeh.Panel !== undefined) {\n",
       "        clearInterval(timer);\n",
       "        embed_document(root);\n",
       "      } else if (document.readyState == \"complete\") {\n",
       "        attempts++;\n",
       "        if (attempts > 100) {\n",
       "          clearInterval(timer);\n",
       "          console.log(\"Bokeh: ERROR: Unable to run BokehJS code because BokehJS library is missing\");\n",
       "        }\n",
       "      }\n",
       "    }, 10, root)\n",
       "  }\n",
       "})(window);</script>"
      ],
      "text/plain": [
       ":NdOverlay   [Variable]\n",
       "   :Curve   [Years]   (value)"
      ]
     },
     "execution_count": 52,
     "metadata": {
      "application/vnd.holoviews_exec.v0+json": {
       "id": "3191"
      }
     },
     "output_type": "execute_result"
    }
   ],
   "source": [
    "# Average market return is 8% \n",
    "average_market_return = 1.08\n",
    "df_ret['Fire Progress Invest'] = df_ret['Fire Progress'] * average_market_return\n",
    "df_ret['Fire Progress Invest Compound'] = df_ret['Fire Progress Invest'].shift(1) * average_market_return + annual_savings\n",
    "df_ret.hvplot.line(x='Years',width=750, height=500,yformatter='$%.0f',grid=True,title='FIRE Path if invested')"
   ]
  },
  {
   "cell_type": "code",
   "execution_count": 40,
   "metadata": {},
   "outputs": [],
   "source": [
    "# TO DO ERROR - Fire Progress Invest year 0 should be nan"
   ]
  },
  {
   "cell_type": "code",
   "execution_count": 41,
   "metadata": {},
   "outputs": [],
   "source": [
    "# TO DO - calculate how many years you save if you invest\n",
    "# rat_race_investor = df_ret.loc[df_ret['Fire Progress Invest'] >= \"fire_goal\"]\n",
    "# net_gain = rat_race - rat_race_investor\n",
    "#print(f\"If you invest your savings, you can retire {net_gain} years faster\")"
   ]
  },
  {
   "cell_type": "code",
   "execution_count": 42,
   "metadata": {},
   "outputs": [
    {
     "name": "stdout",
     "output_type": "stream",
     "text": [
      "The column [Fire Progress Invest Compound] is incorrect, the compound impact is higher\n"
     ]
    }
   ],
   "source": [
    "print(f\"The column [Fire Progress Invest Compound] is incorrect, the compound impact is higher\")"
   ]
  },
  {
   "cell_type": "markdown",
   "metadata": {},
   "source": [
    "# Don't like the above? Define a new lifestyle!"
   ]
  },
  {
   "cell_type": "markdown",
   "metadata": {},
   "source": [
    "### Enter your current age\n"
   ]
  },
  {
   "cell_type": "code",
   "execution_count": 43,
   "metadata": {},
   "outputs": [
    {
     "data": {},
     "metadata": {},
     "output_type": "display_data"
    },
    {
     "data": {
      "application/vnd.holoviews_exec.v0+json": "",
      "text/html": [
       "<div id='2402'>\n",
       "\n",
       "\n",
       "\n",
       "\n",
       "\n",
       "  <div class=\"bk-root\" id=\"39eb3232-d13a-42b8-906e-a71cbe829c5e\" data-root-id=\"2402\"></div>\n",
       "</div>\n",
       "<script type=\"application/javascript\">(function(root) {\n",
       "  function embed_document(root) {\n",
       "    var docs_json = {\"05db4630-9f12-4c8c-a7d9-12b5c59f3980\":{\"roots\":{\"references\":[{\"attributes\":{\"children\":[{\"id\":\"2404\"}],\"margin\":[0,0,0,0],\"name\":\"Column04728\"},\"id\":\"2403\",\"type\":\"Column\"},{\"attributes\":{\"end\":66,\"format\":\"0[.]00\",\"margin\":[5,10,5,10],\"start\":18,\"title\":\"x\",\"value\":42,\"value_throttled\":42},\"id\":\"2404\",\"type\":\"Slider\"},{\"attributes\":{\"margin\":[5,5,5,5],\"name\":\"interactive04722\"},\"id\":\"2406\",\"type\":\"panel.models.markup.HTML\"},{\"attributes\":{\"client_comm_id\":\"e6280e89dcb14480b50bfc00de256f57\",\"comm_id\":\"47ad199984974ce183d0c64fb1676530\",\"plot_id\":\"2402\"},\"id\":\"2407\",\"type\":\"panel.models.comm_manager.CommManager\"},{\"attributes\":{\"children\":[{\"id\":\"2406\"}],\"margin\":[0,0,0,0],\"name\":\"Row04727\"},\"id\":\"2405\",\"type\":\"Row\"},{\"attributes\":{\"children\":[{\"id\":\"2403\"},{\"id\":\"2405\"}],\"margin\":[0,0,0,0],\"name\":\"Column04723\"},\"id\":\"2402\",\"type\":\"Column\"}],\"root_ids\":[\"2402\",\"2407\"]},\"title\":\"Bokeh Application\",\"version\":\"2.2.3\"}};\n",
       "    var render_items = [{\"docid\":\"05db4630-9f12-4c8c-a7d9-12b5c59f3980\",\"root_ids\":[\"2402\"],\"roots\":{\"2402\":\"39eb3232-d13a-42b8-906e-a71cbe829c5e\"}}];\n",
       "    root.Bokeh.embed.embed_items_notebook(docs_json, render_items);\n",
       "  }\n",
       "  if (root.Bokeh !== undefined && root.Bokeh.Panel !== undefined) {\n",
       "    embed_document(root);\n",
       "  } else {\n",
       "    var attempts = 0;\n",
       "    var timer = setInterval(function(root) {\n",
       "      if (root.Bokeh !== undefined && root.Bokeh.Panel !== undefined) {\n",
       "        clearInterval(timer);\n",
       "        embed_document(root);\n",
       "      } else if (document.readyState == \"complete\") {\n",
       "        attempts++;\n",
       "        if (attempts > 100) {\n",
       "          clearInterval(timer);\n",
       "          console.log(\"Bokeh: ERROR: Unable to run BokehJS code because BokehJS library is missing\");\n",
       "        }\n",
       "      }\n",
       "    }, 10, root)\n",
       "  }\n",
       "})(window);</script>"
      ],
      "text/plain": [
       "Column\n",
       "    [0] Column\n",
       "        [0] IntSlider(end=66, name='x', start=18, value=42, value_throttled=42)\n",
       "    [1] Row\n",
       "        [0] Str(None, name='interactive04722')"
      ]
     },
     "execution_count": 43,
     "metadata": {
      "application/vnd.holoviews_exec.v0+json": {
       "id": "2402"
      }
     },
     "output_type": "execute_result"
    }
   ],
   "source": [
    "# Create text widget for output\n",
    "age = widgets.IntText()\n",
    "\n",
    "# Define function to bind value of the input to the output variable\n",
    "def f(x):\n",
    "    age.value = x\n",
    "\n",
    "# Create input slider\n",
    "interact(f, x=(18,66,1))"
   ]
  },
  {
   "cell_type": "code",
   "execution_count": 44,
   "metadata": {},
   "outputs": [
    {
     "data": {
      "text/plain": [
       "42"
      ]
     },
     "execution_count": 44,
     "metadata": {},
     "output_type": "execute_result"
    }
   ],
   "source": [
    "# Creating the selected option as value\n",
    "age = age.value\n",
    "age"
   ]
  },
  {
   "cell_type": "markdown",
   "metadata": {},
   "source": [
    "### What age would you like to retire"
   ]
  },
  {
   "cell_type": "code",
   "execution_count": 45,
   "metadata": {},
   "outputs": [
    {
     "data": {},
     "metadata": {},
     "output_type": "display_data"
    },
    {
     "data": {
      "application/vnd.holoviews_exec.v0+json": "",
      "text/html": [
       "<div id='2408'>\n",
       "\n",
       "\n",
       "\n",
       "\n",
       "\n",
       "  <div class=\"bk-root\" id=\"45264524-69ae-4da7-b86d-0334c56d9df3\" data-root-id=\"2408\"></div>\n",
       "</div>\n",
       "<script type=\"application/javascript\">(function(root) {\n",
       "  function embed_document(root) {\n",
       "    var docs_json = {\"19231008-100e-4ffe-aede-1241accbddca\":{\"roots\":{\"references\":[{\"attributes\":{\"margin\":[5,5,5,5],\"name\":\"interactive04731\"},\"id\":\"2412\",\"type\":\"panel.models.markup.HTML\"},{\"attributes\":{\"children\":[{\"id\":\"2412\"}],\"margin\":[0,0,0,0],\"name\":\"Row04736\"},\"id\":\"2411\",\"type\":\"Row\"},{\"attributes\":{\"client_comm_id\":\"7ba292911c6b4beaa949f3ae8a06bf98\",\"comm_id\":\"1a434e923b12480caad9effb5c9cec20\",\"plot_id\":\"2408\"},\"id\":\"2413\",\"type\":\"panel.models.comm_manager.CommManager\"},{\"attributes\":{\"children\":[{\"id\":\"2409\"},{\"id\":\"2411\"}],\"margin\":[0,0,0,0],\"name\":\"Column04732\"},\"id\":\"2408\",\"type\":\"Column\"},{\"attributes\":{\"children\":[{\"id\":\"2410\"}],\"margin\":[0,0,0,0],\"name\":\"Column04737\"},\"id\":\"2409\",\"type\":\"Column\"},{\"attributes\":{\"end\":66,\"format\":\"0[.]00\",\"margin\":[5,10,5,10],\"start\":42,\"title\":\"x\",\"value\":54,\"value_throttled\":54},\"id\":\"2410\",\"type\":\"Slider\"}],\"root_ids\":[\"2408\",\"2413\"]},\"title\":\"Bokeh Application\",\"version\":\"2.2.3\"}};\n",
       "    var render_items = [{\"docid\":\"19231008-100e-4ffe-aede-1241accbddca\",\"root_ids\":[\"2408\"],\"roots\":{\"2408\":\"45264524-69ae-4da7-b86d-0334c56d9df3\"}}];\n",
       "    root.Bokeh.embed.embed_items_notebook(docs_json, render_items);\n",
       "  }\n",
       "  if (root.Bokeh !== undefined && root.Bokeh.Panel !== undefined) {\n",
       "    embed_document(root);\n",
       "  } else {\n",
       "    var attempts = 0;\n",
       "    var timer = setInterval(function(root) {\n",
       "      if (root.Bokeh !== undefined && root.Bokeh.Panel !== undefined) {\n",
       "        clearInterval(timer);\n",
       "        embed_document(root);\n",
       "      } else if (document.readyState == \"complete\") {\n",
       "        attempts++;\n",
       "        if (attempts > 100) {\n",
       "          clearInterval(timer);\n",
       "          console.log(\"Bokeh: ERROR: Unable to run BokehJS code because BokehJS library is missing\");\n",
       "        }\n",
       "      }\n",
       "    }, 10, root)\n",
       "  }\n",
       "})(window);</script>"
      ],
      "text/plain": [
       "Column\n",
       "    [0] Column\n",
       "        [0] IntSlider(end=66, name='x', start=42, value=54, value_throttled=54)\n",
       "    [1] Row\n",
       "        [0] Str(None, name='interactive04731')"
      ]
     },
     "execution_count": 45,
     "metadata": {
      "application/vnd.holoviews_exec.v0+json": {
       "id": "2408"
      }
     },
     "output_type": "execute_result"
    }
   ],
   "source": [
    "# Create text widget for output\n",
    "pref_ret_age = widgets.IntText()\n",
    "\n",
    "# Define function to bind value of the input to the output variable\n",
    "def f(x):\n",
    "    pref_ret_age.value = x\n",
    "\n",
    "# Create input slider\n",
    "interact(f, x=(age,66,1))"
   ]
  },
  {
   "cell_type": "code",
   "execution_count": 46,
   "metadata": {},
   "outputs": [
    {
     "data": {
      "text/plain": [
       "54"
      ]
     },
     "execution_count": 46,
     "metadata": {},
     "output_type": "execute_result"
    }
   ],
   "source": [
    "# Creating the selected option as value\n",
    "pref_ret_age = pref_ret_age.value\n",
    "pref_ret_age"
   ]
  },
  {
   "cell_type": "markdown",
   "metadata": {},
   "source": [
    "### The difference between your current & desired situation"
   ]
  },
  {
   "cell_type": "code",
   "execution_count": 47,
   "metadata": {},
   "outputs": [
    {
     "name": "stdout",
     "output_type": "stream",
     "text": [
      "You need to start saving $208333.00 a year to hit your goal!\n"
     ]
    }
   ],
   "source": [
    "required_annual_savings = int((fire_goal - current_savings) / (pref_ret_age - age))\n",
    "print(f\"You need to start saving ${required_annual_savings:.2f} a year to hit your goal!\")"
   ]
  },
  {
   "cell_type": "code",
   "execution_count": 54,
   "metadata": {},
   "outputs": [
    {
     "data": {},
     "metadata": {},
     "output_type": "display_data"
    },
    {
     "data": {
      "application/vnd.holoviews_exec.v0+json": "",
      "text/html": [
       "<div id='3499'>\n",
       "\n",
       "\n",
       "\n",
       "\n",
       "\n",
       "  <div class=\"bk-root\" id=\"ea0977bb-06cc-48a6-81b8-2df731d45382\" data-root-id=\"3499\"></div>\n",
       "</div>\n",
       "<script type=\"application/javascript\">(function(root) {\n",
       "  function embed_document(root) {\n",
       "    var docs_json = {\"f3dd9184-783f-429a-a6ae-787c8125f966\":{\"roots\":{\"references\":[{\"attributes\":{},\"id\":\"3621\",\"type\":\"UnionRenderers\"},{\"attributes\":{\"label\":{\"value\":\"Suggested Fire Pace\"},\"renderers\":[{\"id\":\"3630\"}]},\"id\":\"3647\",\"type\":\"LegendItem\"},{\"attributes\":{\"margin\":[5,5,5,5],\"name\":\"HSpacer07479\",\"sizing_mode\":\"stretch_width\"},\"id\":\"3783\",\"type\":\"Spacer\"},{\"attributes\":{\"source\":{\"id\":\"3564\"}},\"id\":\"3571\",\"type\":\"CDSView\"},{\"attributes\":{\"source\":{\"id\":\"3624\"}},\"id\":\"3631\",\"type\":\"CDSView\"},{\"attributes\":{\"bottom_units\":\"screen\",\"fill_alpha\":0.5,\"fill_color\":\"lightgrey\",\"left_units\":\"screen\",\"level\":\"overlay\",\"line_alpha\":1.0,\"line_color\":\"black\",\"line_dash\":[4,4],\"line_width\":2,\"right_units\":\"screen\",\"top_units\":\"screen\"},\"id\":\"3530\",\"type\":\"BoxAnnotation\"},{\"attributes\":{\"line_alpha\":0.1,\"line_color\":\"#8b8b8b\",\"line_width\":2,\"x\":{\"field\":\"Years\"},\"y\":{\"field\":\"value\"}},\"id\":\"3628\",\"type\":\"Line\"},{\"attributes\":{\"label\":{\"value\":\"Fire Goal\"},\"renderers\":[{\"id\":\"3570\"}]},\"id\":\"3581\",\"type\":\"LegendItem\"},{\"attributes\":{\"line_alpha\":0.2,\"line_color\":\"#8b8b8b\",\"line_width\":2,\"x\":{\"field\":\"Years\"},\"y\":{\"field\":\"value\"}},\"id\":\"3629\",\"type\":\"Line\"},{\"attributes\":{\"line_color\":\"#8b8b8b\",\"line_width\":2,\"x\":{\"field\":\"Years\"},\"y\":{\"field\":\"value\"}},\"id\":\"3627\",\"type\":\"Line\"},{\"attributes\":{},\"id\":\"3560\",\"type\":\"UnionRenderers\"},{\"attributes\":{\"data\":{\"Variable\":[\"Fire Progress Invest Compound\",\"Fire Progress Invest Compound\",\"Fire Progress Invest Compound\",\"Fire Progress Invest Compound\",\"Fire Progress Invest Compound\",\"Fire Progress Invest Compound\",\"Fire Progress Invest Compound\",\"Fire Progress Invest Compound\",\"Fire Progress Invest Compound\",\"Fire Progress Invest Compound\",\"Fire Progress Invest Compound\",\"Fire Progress Invest Compound\",\"Fire Progress Invest Compound\",\"Fire Progress Invest Compound\",\"Fire Progress Invest Compound\",\"Fire Progress Invest Compound\",\"Fire Progress Invest Compound\",\"Fire Progress Invest Compound\",\"Fire Progress Invest Compound\",\"Fire Progress Invest Compound\",\"Fire Progress Invest Compound\",\"Fire Progress Invest Compound\",\"Fire Progress Invest Compound\",\"Fire Progress Invest Compound\",\"Fire Progress Invest Compound\",\"Fire Progress Invest Compound\",\"Fire Progress Invest Compound\",\"Fire Progress Invest Compound\",\"Fire Progress Invest Compound\",\"Fire Progress Invest Compound\",\"Fire Progress Invest Compound\",\"Fire Progress Invest Compound\",\"Fire Progress Invest Compound\",\"Fire Progress Invest Compound\",\"Fire Progress Invest Compound\",\"Fire Progress Invest Compound\",\"Fire Progress Invest Compound\",\"Fire Progress Invest Compound\",\"Fire Progress Invest Compound\",\"Fire Progress Invest Compound\",\"Fire Progress Invest Compound\",\"Fire Progress Invest Compound\"],\"Years\":[0,1,2,3,4,5,6,7,8,9,10,11,12,13,14,15,16,17,18,19,20,21,22,23,24,25,26,27,28,29,30,31,32,33,34,35,36,37,38,39,40,41],\"value\":{\"__ndarray__\":\"AAAAAAAA+H8AAAAAAKEjQQAAAADAwyVBAAAAAIDmJ0EAAAAAQAkqQQAAAAAALCxBAQAAAMBOLkEBAAAAwDgwQQEAAAAgSjFBAAAAAIBbMkEAAAAA4GwzQQAAAABAfjRBAAAAAKCPNUEAAAAAAKE2QQAAAABgsjdBAAAAAMDDOEEAAAAAINU5QQAAAACA5jpBAQAAAOD3O0EBAAAAQAk9QQIAAACgGj5BAgAAAAAsP0EBAAAAsB5AQQEAAABgp0BBAQAAABAwQUEBAAAAwLhBQQAAAABwQUJBAAAAACDKQkEAAAAA0FJDQQAAAACA20NBAAAAADBkREEAAAAA4OxEQQAAAACQdUVBAAAAAED+RUEAAAAA8IZGQQAAAACgD0dBAAAAAFCYR0EAAAAAACFIQQAAAACwqUhBAAAAAGAySUEAAAAAELtJQQAAAADAQ0pB\",\"dtype\":\"float64\",\"order\":\"little\",\"shape\":[42]}},\"selected\":{\"id\":\"3603\"},\"selection_policy\":{\"id\":\"3621\"}},\"id\":\"3602\",\"type\":\"ColumnDataSource\"},{\"attributes\":{\"data_source\":{\"id\":\"3624\"},\"glyph\":{\"id\":\"3627\"},\"hover_glyph\":null,\"muted_glyph\":{\"id\":\"3629\"},\"nonselection_glyph\":{\"id\":\"3628\"},\"selection_glyph\":null,\"view\":{\"id\":\"3631\"}},\"id\":\"3630\",\"type\":\"GlyphRenderer\"},{\"attributes\":{\"data_source\":{\"id\":\"3564\"},\"glyph\":{\"id\":\"3567\"},\"hover_glyph\":null,\"muted_glyph\":{\"id\":\"3569\"},\"nonselection_glyph\":{\"id\":\"3568\"},\"selection_glyph\":null,\"view\":{\"id\":\"3571\"}},\"id\":\"3570\",\"type\":\"GlyphRenderer\"},{\"attributes\":{\"line_alpha\":0.1,\"line_color\":\"#30a2da\",\"line_width\":2,\"x\":{\"field\":\"Years\"},\"y\":{\"field\":\"value\"}},\"id\":\"3551\",\"type\":\"Line\"},{\"attributes\":{\"click_policy\":\"mute\",\"items\":[{\"id\":\"3563\"},{\"id\":\"3581\"},{\"id\":\"3601\"},{\"id\":\"3623\"},{\"id\":\"3647\"}],\"location\":[0,0],\"title\":\"Variable\"},\"id\":\"3562\",\"type\":\"Legend\"},{\"attributes\":{\"line_alpha\":0.2,\"line_color\":\"#fc4f30\",\"line_width\":2,\"x\":{\"field\":\"Years\"},\"y\":{\"field\":\"value\"}},\"id\":\"3569\",\"type\":\"Line\"},{\"attributes\":{\"children\":[{\"id\":\"3500\"},{\"id\":\"3508\"},{\"id\":\"3783\"}],\"margin\":[0,0,0,0],\"name\":\"Row07474\",\"tags\":[\"embedded\"]},\"id\":\"3499\",\"type\":\"Row\"},{\"attributes\":{\"axis\":{\"id\":\"3517\"},\"ticker\":{\"id\":\"3518\"}},\"id\":\"3520\",\"type\":\"Grid\"},{\"attributes\":{\"text\":\"Suggested FIRE path\",\"text_color\":{\"value\":\"black\"},\"text_font_size\":{\"value\":\"12pt\"}},\"id\":\"3509\",\"type\":\"Title\"},{\"attributes\":{\"line_alpha\":0.1,\"line_color\":\"#fc4f30\",\"line_width\":2,\"x\":{\"field\":\"Years\"},\"y\":{\"field\":\"value\"}},\"id\":\"3568\",\"type\":\"Line\"},{\"attributes\":{},\"id\":\"3518\",\"type\":\"BasicTicker\"},{\"attributes\":{\"axis_label\":\"Years\",\"bounds\":\"auto\",\"formatter\":{\"id\":\"3540\"},\"major_label_orientation\":\"horizontal\",\"ticker\":{\"id\":\"3518\"}},\"id\":\"3517\",\"type\":\"LinearAxis\"},{\"attributes\":{},\"id\":\"3579\",\"type\":\"UnionRenderers\"},{\"attributes\":{},\"id\":\"3645\",\"type\":\"UnionRenderers\"},{\"attributes\":{\"below\":[{\"id\":\"3517\"}],\"center\":[{\"id\":\"3520\"},{\"id\":\"3524\"}],\"left\":[{\"id\":\"3521\"}],\"margin\":[5,5,5,5],\"min_border_bottom\":10,\"min_border_left\":10,\"min_border_right\":10,\"min_border_top\":10,\"plot_height\":500,\"plot_width\":750,\"renderers\":[{\"id\":\"3553\"},{\"id\":\"3570\"},{\"id\":\"3588\"},{\"id\":\"3608\"},{\"id\":\"3630\"}],\"right\":[{\"id\":\"3562\"}],\"sizing_mode\":\"fixed\",\"title\":{\"id\":\"3509\"},\"toolbar\":{\"id\":\"3531\"},\"x_range\":{\"id\":\"3501\"},\"x_scale\":{\"id\":\"3513\"},\"y_range\":{\"id\":\"3502\"},\"y_scale\":{\"id\":\"3515\"}},\"id\":\"3508\",\"subtype\":\"Figure\",\"type\":\"Plot\"},{\"attributes\":{\"end\":41.0,\"reset_end\":41.0,\"reset_start\":0.0,\"tags\":[[[\"Years\",\"Years\",null]]]},\"id\":\"3501\",\"type\":\"Range1d\"},{\"attributes\":{\"margin\":[5,5,5,5],\"name\":\"HSpacer07478\",\"sizing_mode\":\"stretch_width\"},\"id\":\"3500\",\"type\":\"Spacer\"},{\"attributes\":{},\"id\":\"3515\",\"type\":\"LinearScale\"},{\"attributes\":{\"line_alpha\":0.2,\"line_color\":\"#e5ae38\",\"line_width\":2,\"x\":{\"field\":\"Years\"},\"y\":{\"field\":\"value\"}},\"id\":\"3587\",\"type\":\"Line\"},{\"attributes\":{\"line_color\":\"#30a2da\",\"line_width\":2,\"x\":{\"field\":\"Years\"},\"y\":{\"field\":\"value\"}},\"id\":\"3550\",\"type\":\"Line\"},{\"attributes\":{},\"id\":\"3603\",\"type\":\"Selection\"},{\"attributes\":{\"line_color\":\"#e5ae38\",\"line_width\":2,\"x\":{\"field\":\"Years\"},\"y\":{\"field\":\"value\"}},\"id\":\"3585\",\"type\":\"Line\"},{\"attributes\":{\"end\":3736816.0,\"reset_end\":3736816.0,\"reset_start\":205744.0,\"start\":205744.0,\"tags\":[[[\"value\",\"value\",null]]]},\"id\":\"3502\",\"type\":\"Range1d\"},{\"attributes\":{},\"id\":\"3513\",\"type\":\"LinearScale\"},{\"attributes\":{\"axis\":{\"id\":\"3521\"},\"dimension\":1,\"ticker\":{\"id\":\"3522\"}},\"id\":\"3524\",\"type\":\"Grid\"},{\"attributes\":{\"label\":{\"value\":\"Fire Progress Invest\"},\"renderers\":[{\"id\":\"3588\"}]},\"id\":\"3601\",\"type\":\"LegendItem\"},{\"attributes\":{\"source\":{\"id\":\"3582\"}},\"id\":\"3589\",\"type\":\"CDSView\"},{\"attributes\":{},\"id\":\"3522\",\"type\":\"BasicTicker\"},{\"attributes\":{\"axis_label\":\"\",\"bounds\":\"auto\",\"formatter\":{\"id\":\"3538\"},\"major_label_orientation\":\"horizontal\",\"ticker\":{\"id\":\"3522\"}},\"id\":\"3521\",\"type\":\"LinearAxis\"},{\"attributes\":{},\"id\":\"3583\",\"type\":\"Selection\"},{\"attributes\":{\"line_alpha\":0.1,\"line_color\":\"#6d904f\",\"line_width\":2,\"x\":{\"field\":\"Years\"},\"y\":{\"field\":\"value\"}},\"id\":\"3606\",\"type\":\"Line\"},{\"attributes\":{\"callback\":null,\"renderers\":[{\"id\":\"3553\"},{\"id\":\"3570\"},{\"id\":\"3588\"},{\"id\":\"3608\"},{\"id\":\"3630\"}],\"tags\":[\"hv_created\"],\"tooltips\":[[\"Variable\",\"@{Variable}\"],[\"Years\",\"@{Years}\"],[\"value\",\"@{value}\"]]},\"id\":\"3503\",\"type\":\"HoverTool\"},{\"attributes\":{\"data_source\":{\"id\":\"3547\"},\"glyph\":{\"id\":\"3550\"},\"hover_glyph\":null,\"muted_glyph\":{\"id\":\"3552\"},\"nonselection_glyph\":{\"id\":\"3551\"},\"selection_glyph\":null,\"view\":{\"id\":\"3554\"}},\"id\":\"3553\",\"type\":\"GlyphRenderer\"},{\"attributes\":{\"source\":{\"id\":\"3547\"}},\"id\":\"3554\",\"type\":\"CDSView\"},{\"attributes\":{\"line_alpha\":0.1,\"line_color\":\"#e5ae38\",\"line_width\":2,\"x\":{\"field\":\"Years\"},\"y\":{\"field\":\"value\"}},\"id\":\"3586\",\"type\":\"Line\"},{\"attributes\":{\"data\":{\"Variable\":[\"Fire Progress\",\"Fire Progress\",\"Fire Progress\",\"Fire Progress\",\"Fire Progress\",\"Fire Progress\",\"Fire Progress\",\"Fire Progress\",\"Fire Progress\",\"Fire Progress\",\"Fire Progress\",\"Fire Progress\",\"Fire Progress\",\"Fire Progress\",\"Fire Progress\",\"Fire Progress\",\"Fire Progress\",\"Fire Progress\",\"Fire Progress\",\"Fire Progress\",\"Fire Progress\",\"Fire Progress\",\"Fire Progress\",\"Fire Progress\",\"Fire Progress\",\"Fire Progress\",\"Fire Progress\",\"Fire Progress\",\"Fire Progress\",\"Fire Progress\",\"Fire Progress\",\"Fire Progress\",\"Fire Progress\",\"Fire Progress\",\"Fire Progress\",\"Fire Progress\",\"Fire Progress\",\"Fire Progress\",\"Fire Progress\",\"Fire Progress\",\"Fire Progress\",\"Fire Progress\"],\"Years\":[0,1,2,3,4,5,6,7,8,9,10,11,12,13,14,15,16,17,18,19,20,21,22,23,24,25,26,27,28,29,30,31,32,33,34,35,36,37,38,39,40,41],\"value\":[500000,560000,620000,680000,740000,800000,860000,920000,980000,1040000,1100000,1160000,1220000,1280000,1340000,1400000,1460000,1520000,1580000,1640000,1700000,1760000,1820000,1880000,1940000,2000000,2060000,2120000,2180000,2240000,2300000,2360000,2420000,2480000,2540000,2600000,2660000,2720000,2780000,2840000,2900000,2960000]},\"selected\":{\"id\":\"3548\"},\"selection_policy\":{\"id\":\"3560\"}},\"id\":\"3547\",\"type\":\"ColumnDataSource\"},{\"attributes\":{\"label\":{\"value\":\"Fire Progress\"},\"renderers\":[{\"id\":\"3553\"}]},\"id\":\"3563\",\"type\":\"LegendItem\"},{\"attributes\":{\"source\":{\"id\":\"3602\"}},\"id\":\"3609\",\"type\":\"CDSView\"},{\"attributes\":{\"format\":\"$%.0f\"},\"id\":\"3538\",\"type\":\"PrintfTickFormatter\"},{\"attributes\":{},\"id\":\"3548\",\"type\":\"Selection\"},{\"attributes\":{},\"id\":\"3565\",\"type\":\"Selection\"},{\"attributes\":{\"data_source\":{\"id\":\"3582\"},\"glyph\":{\"id\":\"3585\"},\"hover_glyph\":null,\"muted_glyph\":{\"id\":\"3587\"},\"nonselection_glyph\":{\"id\":\"3586\"},\"selection_glyph\":null,\"view\":{\"id\":\"3589\"}},\"id\":\"3588\",\"type\":\"GlyphRenderer\"},{\"attributes\":{\"data\":{\"Variable\":[\"Fire Goal\",\"Fire Goal\",\"Fire Goal\",\"Fire Goal\",\"Fire Goal\",\"Fire Goal\",\"Fire Goal\",\"Fire Goal\",\"Fire Goal\",\"Fire Goal\",\"Fire Goal\",\"Fire Goal\",\"Fire Goal\",\"Fire Goal\",\"Fire Goal\",\"Fire Goal\",\"Fire Goal\",\"Fire Goal\",\"Fire Goal\",\"Fire Goal\",\"Fire Goal\",\"Fire Goal\",\"Fire Goal\",\"Fire Goal\",\"Fire Goal\",\"Fire Goal\",\"Fire Goal\",\"Fire Goal\",\"Fire Goal\",\"Fire Goal\",\"Fire Goal\",\"Fire Goal\",\"Fire Goal\",\"Fire Goal\",\"Fire Goal\",\"Fire Goal\",\"Fire Goal\",\"Fire Goal\",\"Fire Goal\",\"Fire Goal\",\"Fire Goal\",\"Fire Goal\"],\"Years\":[0,1,2,3,4,5,6,7,8,9,10,11,12,13,14,15,16,17,18,19,20,21,22,23,24,25,26,27,28,29,30,31,32,33,34,35,36,37,38,39,40,41],\"value\":[3000000,3000000,3000000,3000000,3000000,3000000,3000000,3000000,3000000,3000000,3000000,3000000,3000000,3000000,3000000,3000000,3000000,3000000,3000000,3000000,3000000,3000000,3000000,3000000,3000000,3000000,3000000,3000000,3000000,3000000,3000000,3000000,3000000,3000000,3000000,3000000,3000000,3000000,3000000,3000000,3000000,3000000]},\"selected\":{\"id\":\"3565\"},\"selection_policy\":{\"id\":\"3579\"}},\"id\":\"3564\",\"type\":\"ColumnDataSource\"},{\"attributes\":{},\"id\":\"3599\",\"type\":\"UnionRenderers\"},{\"attributes\":{},\"id\":\"3525\",\"type\":\"SaveTool\"},{\"attributes\":{},\"id\":\"3526\",\"type\":\"PanTool\"},{\"attributes\":{},\"id\":\"3540\",\"type\":\"BasicTickFormatter\"},{\"attributes\":{},\"id\":\"3527\",\"type\":\"WheelZoomTool\"},{\"attributes\":{\"active_drag\":\"auto\",\"active_inspect\":\"auto\",\"active_multi\":null,\"active_scroll\":\"auto\",\"active_tap\":\"auto\",\"tools\":[{\"id\":\"3503\"},{\"id\":\"3525\"},{\"id\":\"3526\"},{\"id\":\"3527\"},{\"id\":\"3528\"},{\"id\":\"3529\"}]},\"id\":\"3531\",\"type\":\"Toolbar\"},{\"attributes\":{\"overlay\":{\"id\":\"3530\"}},\"id\":\"3528\",\"type\":\"BoxZoomTool\"},{\"attributes\":{\"line_color\":\"#6d904f\",\"line_width\":2,\"x\":{\"field\":\"Years\"},\"y\":{\"field\":\"value\"}},\"id\":\"3605\",\"type\":\"Line\"},{\"attributes\":{\"line_color\":\"#fc4f30\",\"line_width\":2,\"x\":{\"field\":\"Years\"},\"y\":{\"field\":\"value\"}},\"id\":\"3567\",\"type\":\"Line\"},{\"attributes\":{\"data\":{\"Variable\":[\"Fire Progress Invest\",\"Fire Progress Invest\",\"Fire Progress Invest\",\"Fire Progress Invest\",\"Fire Progress Invest\",\"Fire Progress Invest\",\"Fire Progress Invest\",\"Fire Progress Invest\",\"Fire Progress Invest\",\"Fire Progress Invest\",\"Fire Progress Invest\",\"Fire Progress Invest\",\"Fire Progress Invest\",\"Fire Progress Invest\",\"Fire Progress Invest\",\"Fire Progress Invest\",\"Fire Progress Invest\",\"Fire Progress Invest\",\"Fire Progress Invest\",\"Fire Progress Invest\",\"Fire Progress Invest\",\"Fire Progress Invest\",\"Fire Progress Invest\",\"Fire Progress Invest\",\"Fire Progress Invest\",\"Fire Progress Invest\",\"Fire Progress Invest\",\"Fire Progress Invest\",\"Fire Progress Invest\",\"Fire Progress Invest\",\"Fire Progress Invest\",\"Fire Progress Invest\",\"Fire Progress Invest\",\"Fire Progress Invest\",\"Fire Progress Invest\",\"Fire Progress Invest\",\"Fire Progress Invest\",\"Fire Progress Invest\",\"Fire Progress Invest\",\"Fire Progress Invest\",\"Fire Progress Invest\",\"Fire Progress Invest\"],\"Years\":[0,1,2,3,4,5,6,7,8,9,10,11,12,13,14,15,16,17,18,19,20,21,22,23,24,25,26,27,28,29,30,31,32,33,34,35,36,37,38,39,40,41],\"value\":{\"__ndarray__\":\"AAAAAMB6IEEAAAAAAHUiQQAAAABAbyRBAAAAAIBpJkEAAAAAwGMoQQAAAAAAXipBAQAAAEBYLEEBAAAAgFIuQQAAAABgJjBBAAAAAIAjMUEAAAAAoCAyQQAAAADAHTNBAAAAAOAaNEEAAAAAABg1QQAAAAAgFTZBAAAAAEASN0EAAAAAYA84QQAAAACADDlBAAAAAKAJOkEBAAAAwAY7QQEAAADgAzxBAQAAAAABPUEBAAAAIP49QQEAAABA+z5BAQAAAGD4P0EAAAAAwHpAQQAAAABQ+UBBAAAAAOB3QUEAAAAAcPZBQQAAAAAAdUJBAAAAAJDzQkEAAAAAIHJDQQAAAACw8ENBAAAAAEBvREEAAAAA0O1EQQAAAABgbEVBAAAAAPDqRUEAAAAAgGlGQQAAAAAQ6EZBAAAAAKBmR0EAAAAAMOVHQQAAAADAY0hB\",\"dtype\":\"float64\",\"order\":\"little\",\"shape\":[42]}},\"selected\":{\"id\":\"3583\"},\"selection_policy\":{\"id\":\"3599\"}},\"id\":\"3582\",\"type\":\"ColumnDataSource\"},{\"attributes\":{\"label\":{\"value\":\"Fire Progress Invest Compound\"},\"renderers\":[{\"id\":\"3608\"}]},\"id\":\"3623\",\"type\":\"LegendItem\"},{\"attributes\":{\"data_source\":{\"id\":\"3602\"},\"glyph\":{\"id\":\"3605\"},\"hover_glyph\":null,\"muted_glyph\":{\"id\":\"3607\"},\"nonselection_glyph\":{\"id\":\"3606\"},\"selection_glyph\":null,\"view\":{\"id\":\"3609\"}},\"id\":\"3608\",\"type\":\"GlyphRenderer\"},{\"attributes\":{},\"id\":\"3529\",\"type\":\"ResetTool\"},{\"attributes\":{\"line_alpha\":0.2,\"line_color\":\"#30a2da\",\"line_width\":2,\"x\":{\"field\":\"Years\"},\"y\":{\"field\":\"value\"}},\"id\":\"3552\",\"type\":\"Line\"},{\"attributes\":{\"data\":{\"Variable\":[\"Suggested Fire Pace\",\"Suggested Fire Pace\",\"Suggested Fire Pace\",\"Suggested Fire Pace\",\"Suggested Fire Pace\",\"Suggested Fire Pace\",\"Suggested Fire Pace\",\"Suggested Fire Pace\",\"Suggested Fire Pace\",\"Suggested Fire Pace\",\"Suggested Fire Pace\",\"Suggested Fire Pace\",\"Suggested Fire Pace\",\"Suggested Fire Pace\",\"Suggested Fire Pace\",\"Suggested Fire Pace\",\"Suggested Fire Pace\",\"Suggested Fire Pace\",\"Suggested Fire Pace\",\"Suggested Fire Pace\",\"Suggested Fire Pace\",\"Suggested Fire Pace\",\"Suggested Fire Pace\",\"Suggested Fire Pace\",\"Suggested Fire Pace\",\"Suggested Fire Pace\",\"Suggested Fire Pace\",\"Suggested Fire Pace\",\"Suggested Fire Pace\",\"Suggested Fire Pace\",\"Suggested Fire Pace\",\"Suggested Fire Pace\",\"Suggested Fire Pace\",\"Suggested Fire Pace\",\"Suggested Fire Pace\",\"Suggested Fire Pace\",\"Suggested Fire Pace\",\"Suggested Fire Pace\",\"Suggested Fire Pace\",\"Suggested Fire Pace\",\"Suggested Fire Pace\",\"Suggested Fire Pace\"],\"Years\":[0,1,2,3,4,5,6,7,8,9,10,11,12,13,14,15,16,17,18,19,20,21,22,23,24,25,26,27,28,29,30,31,32,33,34,35,36,37,38,39,40,41],\"value\":{\"__ndarray__\":\"AAAAAICEHkEAAAAA2p0lQQAAAAB0+StBAAAAAIcqMUEAAAAAVFg0QQAAAAAhhjdBAAAAAO6zOkEAAAAAu+E9QQAAAADEh0BBAAAAgKoeQkEAAAAAkbVDQQAAAIB3TEVBAAAAAF7jRkEAAAAAYONGQQAAAABg40ZBAAAAAGDjRkEAAAAAYONGQQAAAABg40ZBAAAAAGDjRkEAAAAAYONGQQAAAABg40ZBAAAAAGDjRkEAAAAAYONGQQAAAABg40ZBAAAAAGDjRkEAAAAAYONGQQAAAABg40ZBAAAAAGDjRkEAAAAAYONGQQAAAABg40ZBAAAAAGDjRkEAAAAAYONGQQAAAABg40ZBAAAAAGDjRkEAAAAAYONGQQAAAABg40ZBAAAAAGDjRkEAAAAAYONGQQAAAABg40ZBAAAAAGDjRkEAAAAAYONGQQAAAABg40ZB\",\"dtype\":\"float64\",\"order\":\"little\",\"shape\":[42]}},\"selected\":{\"id\":\"3625\"},\"selection_policy\":{\"id\":\"3645\"}},\"id\":\"3624\",\"type\":\"ColumnDataSource\"},{\"attributes\":{},\"id\":\"3625\",\"type\":\"Selection\"},{\"attributes\":{\"line_alpha\":0.2,\"line_color\":\"#6d904f\",\"line_width\":2,\"x\":{\"field\":\"Years\"},\"y\":{\"field\":\"value\"}},\"id\":\"3607\",\"type\":\"Line\"}],\"root_ids\":[\"3499\"]},\"title\":\"Bokeh Application\",\"version\":\"2.2.3\"}};\n",
       "    var render_items = [{\"docid\":\"f3dd9184-783f-429a-a6ae-787c8125f966\",\"root_ids\":[\"3499\"],\"roots\":{\"3499\":\"ea0977bb-06cc-48a6-81b8-2df731d45382\"}}];\n",
       "    root.Bokeh.embed.embed_items_notebook(docs_json, render_items);\n",
       "  }\n",
       "  if (root.Bokeh !== undefined && root.Bokeh.Panel !== undefined) {\n",
       "    embed_document(root);\n",
       "  } else {\n",
       "    var attempts = 0;\n",
       "    var timer = setInterval(function(root) {\n",
       "      if (root.Bokeh !== undefined && root.Bokeh.Panel !== undefined) {\n",
       "        clearInterval(timer);\n",
       "        embed_document(root);\n",
       "      } else if (document.readyState == \"complete\") {\n",
       "        attempts++;\n",
       "        if (attempts > 100) {\n",
       "          clearInterval(timer);\n",
       "          console.log(\"Bokeh: ERROR: Unable to run BokehJS code because BokehJS library is missing\");\n",
       "        }\n",
       "      }\n",
       "    }, 10, root)\n",
       "  }\n",
       "})(window);</script>"
      ],
      "text/plain": [
       ":NdOverlay   [Variable]\n",
       "   :Curve   [Years]   (value)"
      ]
     },
     "execution_count": 54,
     "metadata": {
      "application/vnd.holoviews_exec.v0+json": {
       "id": "3499"
      }
     },
     "output_type": "execute_result"
    }
   ],
   "source": [
    "fire_suggested = list(range(current_savings,fire_goal,required_annual_savings))\n",
    "df1 = pd.DataFrame(fire_suggested,columns = ['fire_suggested'])\n",
    "df_ret2 = pd.concat([df_ret,df1], axis=1)\n",
    "df_ret2 = df_ret2.rename(columns={'fire_suggested':'Suggested Fire Pace'})\n",
    "# After fire goal is hit, the pace remains at fire goal\n",
    "df_ret2['Suggested Fire Pace'] = df_ret2['Suggested Fire Pace'].fillna(value=fire_goal)\n",
    "df_ret2.index.name  = 'Years'\n",
    "df_ret2.hvplot.line(x='Years',width=750, height=500,yformatter='$%.0f',grid=True, title='Suggested FIRE path')"
   ]
  },
  {
   "cell_type": "code",
   "execution_count": null,
   "metadata": {},
   "outputs": [],
   "source": [
    "# TO DO - issue running HV PLOT or other plot (keeps flicking back\n",
    "# df_ret2.hvplot.line(x='Years',width=750, height=500,yformatter='$%.0f',grid=True)"
   ]
  },
  {
   "cell_type": "code",
   "execution_count": null,
   "metadata": {},
   "outputs": [],
   "source": []
  },
  {
   "cell_type": "code",
   "execution_count": null,
   "metadata": {},
   "outputs": [],
   "source": []
  },
  {
   "cell_type": "code",
   "execution_count": null,
   "metadata": {},
   "outputs": [],
   "source": []
  },
  {
   "cell_type": "code",
   "execution_count": null,
   "metadata": {},
   "outputs": [],
   "source": []
  },
  {
   "cell_type": "code",
   "execution_count": null,
   "metadata": {},
   "outputs": [],
   "source": []
  },
  {
   "cell_type": "code",
   "execution_count": null,
   "metadata": {},
   "outputs": [],
   "source": []
  },
  {
   "cell_type": "code",
   "execution_count": null,
   "metadata": {},
   "outputs": [],
   "source": []
  }
 ],
 "metadata": {
  "kernelspec": {
   "display_name": "Python 3",
   "language": "python",
   "name": "python3"
  },
  "language_info": {
   "codemirror_mode": {
    "name": "ipython",
    "version": 3
   },
   "file_extension": ".py",
   "mimetype": "text/x-python",
   "name": "python",
   "nbconvert_exporter": "python",
   "pygments_lexer": "ipython3",
   "version": "3.7.9"
  }
 },
 "nbformat": 4,
 "nbformat_minor": 4
}
