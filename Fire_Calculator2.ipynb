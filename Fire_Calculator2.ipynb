{
 "cells": [
  {
   "cell_type": "markdown",
   "metadata": {},
   "source": [
    "# Imports"
   ]
  },
  {
   "cell_type": "code",
   "execution_count": 60,
   "metadata": {},
   "outputs": [],
   "source": [
    "import pandas as pd \n",
    "import hvplot.pandas\n",
    "from ipywidgets import widgets, interact\n",
    "from IPython.display import display\n",
    "\n",
    "import pandas as pd\n",
    "import numpy as np\n",
    "import panel as pn\n",
    "from panel.interact import interact"
   ]
  },
  {
   "cell_type": "markdown",
   "metadata": {},
   "source": [
    "### Enter desired Monthly Fire Allowance"
   ]
  },
  {
   "cell_type": "code",
   "execution_count": 29,
   "metadata": {},
   "outputs": [],
   "source": [
    "# Run pn extension for the workbook to function properly\n",
    "pn.extension()"
   ]
  },
  {
   "cell_type": "code",
   "execution_count": 30,
   "metadata": {},
   "outputs": [
    {
     "data": {},
     "metadata": {},
     "output_type": "display_data"
    },
    {
     "data": {
      "application/vnd.holoviews_exec.v0+json": "",
      "text/html": [
       "<div id='1868'>\n",
       "\n",
       "\n",
       "\n",
       "\n",
       "\n",
       "  <div class=\"bk-root\" id=\"eafab4f5-67bd-40cd-9d73-e3b3fdec35e6\" data-root-id=\"1868\"></div>\n",
       "</div>\n",
       "<script type=\"application/javascript\">(function(root) {\n",
       "  function embed_document(root) {\n",
       "    var docs_json = {\"7f2699fb-eb23-4c29-9734-b0040c63b357\":{\"roots\":{\"references\":[{\"attributes\":{\"children\":[{\"id\":\"1872\"}],\"margin\":[0,0,0,0],\"name\":\"Row03496\"},\"id\":\"1871\",\"type\":\"Row\"},{\"attributes\":{\"margin\":[5,5,5,5],\"name\":\"interactive03491\"},\"id\":\"1872\",\"type\":\"panel.models.markup.HTML\"},{\"attributes\":{\"end\":20000,\"format\":\"0[.]00\",\"margin\":[5,10,5,10],\"start\":0,\"step\":100,\"title\":\"x\",\"value\":10000,\"value_throttled\":10000},\"id\":\"1870\",\"type\":\"Slider\"},{\"attributes\":{\"children\":[{\"id\":\"1870\"}],\"margin\":[0,0,0,0],\"name\":\"Column03497\"},\"id\":\"1869\",\"type\":\"Column\"},{\"attributes\":{\"children\":[{\"id\":\"1869\"},{\"id\":\"1871\"}],\"margin\":[0,0,0,0],\"name\":\"Column03492\"},\"id\":\"1868\",\"type\":\"Column\"},{\"attributes\":{\"client_comm_id\":\"ddd6d4bf18b84979a189151d0525d063\",\"comm_id\":\"73268afdd8194dec8004078b59d47e7c\",\"plot_id\":\"1868\"},\"id\":\"1873\",\"type\":\"panel.models.comm_manager.CommManager\"}],\"root_ids\":[\"1868\",\"1873\"]},\"title\":\"Bokeh Application\",\"version\":\"2.2.3\"}};\n",
       "    var render_items = [{\"docid\":\"7f2699fb-eb23-4c29-9734-b0040c63b357\",\"root_ids\":[\"1868\"],\"roots\":{\"1868\":\"eafab4f5-67bd-40cd-9d73-e3b3fdec35e6\"}}];\n",
       "    root.Bokeh.embed.embed_items_notebook(docs_json, render_items);\n",
       "  }\n",
       "  if (root.Bokeh !== undefined && root.Bokeh.Panel !== undefined) {\n",
       "    embed_document(root);\n",
       "  } else {\n",
       "    var attempts = 0;\n",
       "    var timer = setInterval(function(root) {\n",
       "      if (root.Bokeh !== undefined && root.Bokeh.Panel !== undefined) {\n",
       "        clearInterval(timer);\n",
       "        embed_document(root);\n",
       "      } else if (document.readyState == \"complete\") {\n",
       "        attempts++;\n",
       "        if (attempts > 100) {\n",
       "          clearInterval(timer);\n",
       "          console.log(\"Bokeh: ERROR: Unable to run BokehJS code because BokehJS library is missing\");\n",
       "        }\n",
       "      }\n",
       "    }, 10, root)\n",
       "  }\n",
       "})(window);</script>"
      ],
      "text/plain": [
       "Column\n",
       "    [0] Column\n",
       "        [0] IntSlider(end=20000, name='x', step=100, value=10000, value_throttled=10000)\n",
       "    [1] Row\n",
       "        [0] Str(None, name='interactive03491')"
      ]
     },
     "execution_count": 30,
     "metadata": {
      "application/vnd.holoviews_exec.v0+json": {
       "id": "1868"
      }
     },
     "output_type": "execute_result"
    }
   ],
   "source": [
    "# Create text widget for output\n",
    "fire_desire = widgets.IntText()\n",
    "\n",
    "# Define function to bind value of the input to the output variable\n",
    "def f(x):\n",
    "    fire_desire.value = x\n",
    "\n",
    "# Create input slider\n",
    "interact(f, x=(0,20000,100))\n"
   ]
  },
  {
   "cell_type": "code",
   "execution_count": 31,
   "metadata": {},
   "outputs": [
    {
     "name": "stdout",
     "output_type": "stream",
     "text": [
      "Your desired FIRE allowance is $10000 per month!\n"
     ]
    }
   ],
   "source": [
    "fire_desire = fire_desire.value\n",
    "print(f\"Your desired FIRE allowance is ${fire_desire} per month!\")"
   ]
  },
  {
   "cell_type": "markdown",
   "metadata": {},
   "source": [
    "### Calculate Fire goal"
   ]
  },
  {
   "cell_type": "code",
   "execution_count": 32,
   "metadata": {},
   "outputs": [
    {
     "name": "stdout",
     "output_type": "stream",
     "text": [
      "You need $3000000 to retire!\n"
     ]
    }
   ],
   "source": [
    "fire_perc = 0.04\n",
    "months = 12\n",
    "fire_goal = int((fire_desire*months)/fire_perc)\n",
    "print(f\"You need ${fire_goal} to retire!\")"
   ]
  },
  {
   "cell_type": "markdown",
   "metadata": {},
   "source": [
    "### Enter current savings"
   ]
  },
  {
   "cell_type": "code",
   "execution_count": 33,
   "metadata": {},
   "outputs": [
    {
     "data": {},
     "metadata": {},
     "output_type": "display_data"
    },
    {
     "data": {
      "application/vnd.holoviews_exec.v0+json": "",
      "text/html": [
       "<div id='1874'>\n",
       "\n",
       "\n",
       "\n",
       "\n",
       "\n",
       "  <div class=\"bk-root\" id=\"a5e282c1-db28-488f-8a0f-44219732fbfe\" data-root-id=\"1874\"></div>\n",
       "</div>\n",
       "<script type=\"application/javascript\">(function(root) {\n",
       "  function embed_document(root) {\n",
       "    var docs_json = {\"796d0947-f77a-4ca3-887f-02dc44b9f56e\":{\"roots\":{\"references\":[{\"attributes\":{\"children\":[{\"id\":\"1875\"},{\"id\":\"1877\"}],\"margin\":[0,0,0,0],\"name\":\"Column03501\"},\"id\":\"1874\",\"type\":\"Column\"},{\"attributes\":{\"client_comm_id\":\"f06d91127f7f41c4a47b96da08c446e3\",\"comm_id\":\"2d1b87c5605649678ee30b5447b5ef10\",\"plot_id\":\"1874\"},\"id\":\"1879\",\"type\":\"panel.models.comm_manager.CommManager\"},{\"attributes\":{\"children\":[{\"id\":\"1876\"}],\"margin\":[0,0,0,0],\"name\":\"Column03506\"},\"id\":\"1875\",\"type\":\"Column\"},{\"attributes\":{\"margin\":[5,5,5,5],\"name\":\"interactive03500\"},\"id\":\"1878\",\"type\":\"panel.models.markup.HTML\"},{\"attributes\":{\"children\":[{\"id\":\"1878\"}],\"margin\":[0,0,0,0],\"name\":\"Row03505\"},\"id\":\"1877\",\"type\":\"Row\"},{\"attributes\":{\"end\":1000000,\"format\":\"0[.]00\",\"margin\":[5,10,5,10],\"start\":0,\"step\":10000,\"title\":\"x\",\"value\":500000,\"value_throttled\":500000},\"id\":\"1876\",\"type\":\"Slider\"}],\"root_ids\":[\"1874\",\"1879\"]},\"title\":\"Bokeh Application\",\"version\":\"2.2.3\"}};\n",
       "    var render_items = [{\"docid\":\"796d0947-f77a-4ca3-887f-02dc44b9f56e\",\"root_ids\":[\"1874\"],\"roots\":{\"1874\":\"a5e282c1-db28-488f-8a0f-44219732fbfe\"}}];\n",
       "    root.Bokeh.embed.embed_items_notebook(docs_json, render_items);\n",
       "  }\n",
       "  if (root.Bokeh !== undefined && root.Bokeh.Panel !== undefined) {\n",
       "    embed_document(root);\n",
       "  } else {\n",
       "    var attempts = 0;\n",
       "    var timer = setInterval(function(root) {\n",
       "      if (root.Bokeh !== undefined && root.Bokeh.Panel !== undefined) {\n",
       "        clearInterval(timer);\n",
       "        embed_document(root);\n",
       "      } else if (document.readyState == \"complete\") {\n",
       "        attempts++;\n",
       "        if (attempts > 100) {\n",
       "          clearInterval(timer);\n",
       "          console.log(\"Bokeh: ERROR: Unable to run BokehJS code because BokehJS library is missing\");\n",
       "        }\n",
       "      }\n",
       "    }, 10, root)\n",
       "  }\n",
       "})(window);</script>"
      ],
      "text/plain": [
       "Column\n",
       "    [0] Column\n",
       "        [0] IntSlider(end=1000000, name='x', step=10000, value=500000, value_throttled=500000)\n",
       "    [1] Row\n",
       "        [0] Str(None, name='interactive03500')"
      ]
     },
     "execution_count": 33,
     "metadata": {
      "application/vnd.holoviews_exec.v0+json": {
       "id": "1874"
      }
     },
     "output_type": "execute_result"
    }
   ],
   "source": [
    "# Create text widget for output\n",
    "current_savings = widgets.IntText()\n",
    "\n",
    "# Define function to bind value of the input to the output variable\n",
    "def f(x):\n",
    "    current_savings.value = x\n",
    "\n",
    "# Create input slider\n",
    "interact(f, x=(0,1000000,10000))"
   ]
  },
  {
   "cell_type": "code",
   "execution_count": 34,
   "metadata": {},
   "outputs": [
    {
     "name": "stdout",
     "output_type": "stream",
     "text": [
      "Your current Net Worth is $500000!\n"
     ]
    }
   ],
   "source": [
    "# Creating the selected option as value\n",
    "current_savings = current_savings.value\n",
    "current_savings\n",
    "print(f\"Your current Net Worth is ${current_savings}!\")"
   ]
  },
  {
   "cell_type": "markdown",
   "metadata": {},
   "source": [
    "### Enter monthly savings capacity"
   ]
  },
  {
   "cell_type": "code",
   "execution_count": 35,
   "metadata": {},
   "outputs": [
    {
     "data": {},
     "metadata": {},
     "output_type": "display_data"
    },
    {
     "data": {
      "application/vnd.holoviews_exec.v0+json": "",
      "text/html": [
       "<div id='1880'>\n",
       "\n",
       "\n",
       "\n",
       "\n",
       "\n",
       "  <div class=\"bk-root\" id=\"718a10ab-907a-4272-951c-7608da7a0af1\" data-root-id=\"1880\"></div>\n",
       "</div>\n",
       "<script type=\"application/javascript\">(function(root) {\n",
       "  function embed_document(root) {\n",
       "    var docs_json = {\"b3abaf2b-f239-49f2-a8f8-c987a4e9ad0a\":{\"roots\":{\"references\":[{\"attributes\":{\"children\":[{\"id\":\"1882\"}],\"margin\":[0,0,0,0],\"name\":\"Column03515\"},\"id\":\"1881\",\"type\":\"Column\"},{\"attributes\":{\"end\":10000,\"format\":\"0[.]00\",\"margin\":[5,10,5,10],\"start\":0,\"step\":500,\"title\":\"x\",\"value\":5000,\"value_throttled\":5000},\"id\":\"1882\",\"type\":\"Slider\"},{\"attributes\":{\"children\":[{\"id\":\"1884\"}],\"margin\":[0,0,0,0],\"name\":\"Row03514\"},\"id\":\"1883\",\"type\":\"Row\"},{\"attributes\":{\"children\":[{\"id\":\"1881\"},{\"id\":\"1883\"}],\"margin\":[0,0,0,0],\"name\":\"Column03510\"},\"id\":\"1880\",\"type\":\"Column\"},{\"attributes\":{\"margin\":[5,5,5,5],\"name\":\"interactive03509\"},\"id\":\"1884\",\"type\":\"panel.models.markup.HTML\"},{\"attributes\":{\"client_comm_id\":\"5da4f2a8cf6e4d918a54bb626bb7a9ba\",\"comm_id\":\"3518d11397ff44828268d056a29d92bd\",\"plot_id\":\"1880\"},\"id\":\"1885\",\"type\":\"panel.models.comm_manager.CommManager\"}],\"root_ids\":[\"1880\",\"1885\"]},\"title\":\"Bokeh Application\",\"version\":\"2.2.3\"}};\n",
       "    var render_items = [{\"docid\":\"b3abaf2b-f239-49f2-a8f8-c987a4e9ad0a\",\"root_ids\":[\"1880\"],\"roots\":{\"1880\":\"718a10ab-907a-4272-951c-7608da7a0af1\"}}];\n",
       "    root.Bokeh.embed.embed_items_notebook(docs_json, render_items);\n",
       "  }\n",
       "  if (root.Bokeh !== undefined && root.Bokeh.Panel !== undefined) {\n",
       "    embed_document(root);\n",
       "  } else {\n",
       "    var attempts = 0;\n",
       "    var timer = setInterval(function(root) {\n",
       "      if (root.Bokeh !== undefined && root.Bokeh.Panel !== undefined) {\n",
       "        clearInterval(timer);\n",
       "        embed_document(root);\n",
       "      } else if (document.readyState == \"complete\") {\n",
       "        attempts++;\n",
       "        if (attempts > 100) {\n",
       "          clearInterval(timer);\n",
       "          console.log(\"Bokeh: ERROR: Unable to run BokehJS code because BokehJS library is missing\");\n",
       "        }\n",
       "      }\n",
       "    }, 10, root)\n",
       "  }\n",
       "})(window);</script>"
      ],
      "text/plain": [
       "Column\n",
       "    [0] Column\n",
       "        [0] IntSlider(end=10000, name='x', step=500, value=5000, value_throttled=5000)\n",
       "    [1] Row\n",
       "        [0] Str(None, name='interactive03509')"
      ]
     },
     "execution_count": 35,
     "metadata": {
      "application/vnd.holoviews_exec.v0+json": {
       "id": "1880"
      }
     },
     "output_type": "execute_result"
    }
   ],
   "source": [
    "# Create text widget for output\n",
    "monthly_savings = widgets.IntText()\n",
    "\n",
    "# Define function to bind value of the input to the output variable\n",
    "def f(x):\n",
    "    monthly_savings.value = x\n",
    "\n",
    "# Create input slider\n",
    "interact(f, x=(0,10000,500))"
   ]
  },
  {
   "cell_type": "code",
   "execution_count": 36,
   "metadata": {},
   "outputs": [
    {
     "name": "stdout",
     "output_type": "stream",
     "text": [
      "Your annual saving capacity is $60000 per year!\n"
     ]
    }
   ],
   "source": [
    "# Creating the selected option as value\n",
    "monthly_savings = monthly_savings.value\n",
    "annual_savings = (monthly_savings)*12\n",
    "print(f\"Your annual saving capacity is ${annual_savings} per year!\")"
   ]
  },
  {
   "cell_type": "markdown",
   "metadata": {},
   "source": [
    "### How long will you have to work to FIRE retire?"
   ]
  },
  {
   "cell_type": "code",
   "execution_count": 37,
   "metadata": {},
   "outputs": [
    {
     "name": "stdout",
     "output_type": "stream",
     "text": [
      "You need to work for 41.67 years to FIRE retire!\n"
     ]
    }
   ],
   "source": [
    "# Calculate how many years it will take to get you there\n",
    "rat_race = (fire_goal - current_savings)/ annual_savings\n",
    "\n",
    "print(f\"You need to work for {rat_race:.2f} years to FIRE retire!\")"
   ]
  },
  {
   "cell_type": "code",
   "execution_count": 61,
   "metadata": {},
   "outputs": [
    {
     "data": {
      "text/html": [
       "<div>\n",
       "<style scoped>\n",
       "    .dataframe tbody tr th:only-of-type {\n",
       "        vertical-align: middle;\n",
       "    }\n",
       "\n",
       "    .dataframe tbody tr th {\n",
       "        vertical-align: top;\n",
       "    }\n",
       "\n",
       "    .dataframe thead th {\n",
       "        text-align: right;\n",
       "    }\n",
       "</style>\n",
       "<table border=\"1\" class=\"dataframe\">\n",
       "  <thead>\n",
       "    <tr style=\"text-align: right;\">\n",
       "      <th></th>\n",
       "      <th>Fire Progress</th>\n",
       "      <th>Fire Goal</th>\n",
       "    </tr>\n",
       "    <tr>\n",
       "      <th>Years</th>\n",
       "      <th></th>\n",
       "      <th></th>\n",
       "    </tr>\n",
       "  </thead>\n",
       "  <tbody>\n",
       "    <tr>\n",
       "      <th>0</th>\n",
       "      <td>500000</td>\n",
       "      <td>3000000</td>\n",
       "    </tr>\n",
       "    <tr>\n",
       "      <th>1</th>\n",
       "      <td>560000</td>\n",
       "      <td>3000000</td>\n",
       "    </tr>\n",
       "    <tr>\n",
       "      <th>2</th>\n",
       "      <td>620000</td>\n",
       "      <td>3000000</td>\n",
       "    </tr>\n",
       "    <tr>\n",
       "      <th>3</th>\n",
       "      <td>680000</td>\n",
       "      <td>3000000</td>\n",
       "    </tr>\n",
       "    <tr>\n",
       "      <th>4</th>\n",
       "      <td>740000</td>\n",
       "      <td>3000000</td>\n",
       "    </tr>\n",
       "  </tbody>\n",
       "</table>\n",
       "</div>"
      ],
      "text/plain": [
       "       Fire Progress  Fire Goal\n",
       "Years                          \n",
       "0             500000    3000000\n",
       "1             560000    3000000\n",
       "2             620000    3000000\n",
       "3             680000    3000000\n",
       "4             740000    3000000"
      ]
     },
     "execution_count": 61,
     "metadata": {},
     "output_type": "execute_result"
    }
   ],
   "source": [
    "# Fire progess = your net worth + annual savings \n",
    "fire_progress = list(range(current_savings,fire_goal,annual_savings))\n",
    "\n",
    "df_ret = pd.DataFrame(fire_progress, columns = ['fire_progress'])\n",
    "df_ret['Fire Goal'] = fire_goal\n",
    "df_ret.index.name  = 'Years'\n",
    "df_ret = df_ret.rename(columns={'fire_progress':'Fire Progress'})\n",
    "df_ret.head()"
   ]
  },
  {
   "cell_type": "code",
   "execution_count": 62,
   "metadata": {},
   "outputs": [
    {
     "data": {},
     "metadata": {},
     "output_type": "display_data"
    },
    {
     "data": {
      "application/vnd.holoviews_exec.v0+json": "",
      "text/html": [
       "<div id='4068'>\n",
       "\n",
       "\n",
       "\n",
       "\n",
       "\n",
       "  <div class=\"bk-root\" id=\"f54f91c0-f110-4a01-a631-e6555860eeac\" data-root-id=\"4068\"></div>\n",
       "</div>\n",
       "<script type=\"application/javascript\">(function(root) {\n",
       "  function embed_document(root) {\n",
       "    var docs_json = {\"ab964b06-b937-4bf2-830c-1355470c6366\":{\"roots\":{\"references\":[{\"attributes\":{\"line_alpha\":0.2,\"line_color\":\"#fc4f30\",\"line_width\":2,\"x\":{\"field\":\"Years\"},\"y\":{\"field\":\"value\"}},\"id\":\"4135\",\"type\":\"Line\"},{\"attributes\":{},\"id\":\"4093\",\"type\":\"WheelZoomTool\"},{\"attributes\":{\"below\":[{\"id\":\"4083\"}],\"center\":[{\"id\":\"4086\"},{\"id\":\"4090\"}],\"left\":[{\"id\":\"4087\"}],\"margin\":[5,5,5,5],\"min_border_bottom\":10,\"min_border_left\":10,\"min_border_right\":10,\"min_border_top\":10,\"plot_height\":500,\"plot_width\":750,\"renderers\":[{\"id\":\"4119\"},{\"id\":\"4136\"}],\"right\":[{\"id\":\"4128\"}],\"sizing_mode\":\"fixed\",\"title\":{\"id\":\"4075\"},\"toolbar\":{\"id\":\"4097\"},\"x_range\":{\"id\":\"4070\"},\"x_scale\":{\"id\":\"4079\"},\"y_range\":{\"id\":\"4071\"},\"y_scale\":{\"id\":\"4081\"}},\"id\":\"4074\",\"subtype\":\"Figure\",\"type\":\"Plot\"},{\"attributes\":{\"line_alpha\":0.1,\"line_color\":\"#fc4f30\",\"line_width\":2,\"x\":{\"field\":\"Years\"},\"y\":{\"field\":\"value\"}},\"id\":\"4134\",\"type\":\"Line\"},{\"attributes\":{},\"id\":\"4081\",\"type\":\"LinearScale\"},{\"attributes\":{\"overlay\":{\"id\":\"4096\"}},\"id\":\"4094\",\"type\":\"BoxZoomTool\"},{\"attributes\":{\"data_source\":{\"id\":\"4130\"},\"glyph\":{\"id\":\"4133\"},\"hover_glyph\":null,\"muted_glyph\":{\"id\":\"4135\"},\"nonselection_glyph\":{\"id\":\"4134\"},\"selection_glyph\":null,\"view\":{\"id\":\"4137\"}},\"id\":\"4136\",\"type\":\"GlyphRenderer\"},{\"attributes\":{\"end\":3250000.0,\"reset_end\":3250000.0,\"reset_start\":250000.0,\"start\":250000.0,\"tags\":[[[\"value\",\"value\",null]]]},\"id\":\"4071\",\"type\":\"Range1d\"},{\"attributes\":{},\"id\":\"4131\",\"type\":\"Selection\"},{\"attributes\":{\"axis\":{\"id\":\"4087\"},\"dimension\":1,\"ticker\":{\"id\":\"4088\"}},\"id\":\"4090\",\"type\":\"Grid\"},{\"attributes\":{\"data\":{\"Variable\":[\"Fire Progress\",\"Fire Progress\",\"Fire Progress\",\"Fire Progress\",\"Fire Progress\",\"Fire Progress\",\"Fire Progress\",\"Fire Progress\",\"Fire Progress\",\"Fire Progress\",\"Fire Progress\",\"Fire Progress\",\"Fire Progress\",\"Fire Progress\",\"Fire Progress\",\"Fire Progress\",\"Fire Progress\",\"Fire Progress\",\"Fire Progress\",\"Fire Progress\",\"Fire Progress\",\"Fire Progress\",\"Fire Progress\",\"Fire Progress\",\"Fire Progress\",\"Fire Progress\",\"Fire Progress\",\"Fire Progress\",\"Fire Progress\",\"Fire Progress\",\"Fire Progress\",\"Fire Progress\",\"Fire Progress\",\"Fire Progress\",\"Fire Progress\",\"Fire Progress\",\"Fire Progress\",\"Fire Progress\",\"Fire Progress\",\"Fire Progress\",\"Fire Progress\",\"Fire Progress\"],\"Years\":[0,1,2,3,4,5,6,7,8,9,10,11,12,13,14,15,16,17,18,19,20,21,22,23,24,25,26,27,28,29,30,31,32,33,34,35,36,37,38,39,40,41],\"value\":[500000,560000,620000,680000,740000,800000,860000,920000,980000,1040000,1100000,1160000,1220000,1280000,1340000,1400000,1460000,1520000,1580000,1640000,1700000,1760000,1820000,1880000,1940000,2000000,2060000,2120000,2180000,2240000,2300000,2360000,2420000,2480000,2540000,2600000,2660000,2720000,2780000,2840000,2900000,2960000]},\"selected\":{\"id\":\"4114\"},\"selection_policy\":{\"id\":\"4126\"}},\"id\":\"4113\",\"type\":\"ColumnDataSource\"},{\"attributes\":{\"margin\":[5,5,5,5],\"name\":\"HSpacer08768\",\"sizing_mode\":\"stretch_width\"},\"id\":\"4229\",\"type\":\"Spacer\"},{\"attributes\":{\"text\":\"Current Path to FIRE\",\"text_color\":{\"value\":\"black\"},\"text_font_size\":{\"value\":\"12pt\"}},\"id\":\"4075\",\"type\":\"Title\"},{\"attributes\":{},\"id\":\"4095\",\"type\":\"ResetTool\"},{\"attributes\":{\"label\":{\"value\":\"Fire Goal\"},\"renderers\":[{\"id\":\"4136\"}]},\"id\":\"4147\",\"type\":\"LegendItem\"},{\"attributes\":{\"axis_label\":\"Years\",\"bounds\":\"auto\",\"formatter\":{\"id\":\"4106\"},\"major_label_orientation\":\"horizontal\",\"ticker\":{\"id\":\"4084\"}},\"id\":\"4083\",\"type\":\"LinearAxis\"},{\"attributes\":{\"source\":{\"id\":\"4130\"}},\"id\":\"4137\",\"type\":\"CDSView\"},{\"attributes\":{\"margin\":[5,5,5,5],\"name\":\"HSpacer08767\",\"sizing_mode\":\"stretch_width\"},\"id\":\"4069\",\"type\":\"Spacer\"},{\"attributes\":{\"line_alpha\":0.2,\"line_color\":\"#30a2da\",\"line_width\":2,\"x\":{\"field\":\"Years\"},\"y\":{\"field\":\"value\"}},\"id\":\"4118\",\"type\":\"Line\"},{\"attributes\":{},\"id\":\"4084\",\"type\":\"BasicTicker\"},{\"attributes\":{},\"id\":\"4145\",\"type\":\"UnionRenderers\"},{\"attributes\":{\"label\":{\"value\":\"Fire Progress\"},\"renderers\":[{\"id\":\"4119\"}]},\"id\":\"4129\",\"type\":\"LegendItem\"},{\"attributes\":{\"source\":{\"id\":\"4113\"}},\"id\":\"4120\",\"type\":\"CDSView\"},{\"attributes\":{\"axis\":{\"id\":\"4083\"},\"ticker\":{\"id\":\"4084\"}},\"id\":\"4086\",\"type\":\"Grid\"},{\"attributes\":{},\"id\":\"4088\",\"type\":\"BasicTicker\"},{\"attributes\":{},\"id\":\"4126\",\"type\":\"UnionRenderers\"},{\"attributes\":{\"axis_label\":\"\",\"bounds\":\"auto\",\"formatter\":{\"id\":\"4104\"},\"major_label_orientation\":\"horizontal\",\"ticker\":{\"id\":\"4088\"}},\"id\":\"4087\",\"type\":\"LinearAxis\"},{\"attributes\":{\"data_source\":{\"id\":\"4113\"},\"glyph\":{\"id\":\"4116\"},\"hover_glyph\":null,\"muted_glyph\":{\"id\":\"4118\"},\"nonselection_glyph\":{\"id\":\"4117\"},\"selection_glyph\":null,\"view\":{\"id\":\"4120\"}},\"id\":\"4119\",\"type\":\"GlyphRenderer\"},{\"attributes\":{\"line_color\":\"#30a2da\",\"line_width\":2,\"x\":{\"field\":\"Years\"},\"y\":{\"field\":\"value\"}},\"id\":\"4116\",\"type\":\"Line\"},{\"attributes\":{\"click_policy\":\"mute\",\"items\":[{\"id\":\"4129\"},{\"id\":\"4147\"}],\"location\":[0,0],\"title\":\"Variable\"},\"id\":\"4128\",\"type\":\"Legend\"},{\"attributes\":{\"children\":[{\"id\":\"4069\"},{\"id\":\"4074\"},{\"id\":\"4229\"}],\"margin\":[0,0,0,0],\"name\":\"Row08763\",\"tags\":[\"embedded\"]},\"id\":\"4068\",\"type\":\"Row\"},{\"attributes\":{\"bottom_units\":\"screen\",\"fill_alpha\":0.5,\"fill_color\":\"lightgrey\",\"left_units\":\"screen\",\"level\":\"overlay\",\"line_alpha\":1.0,\"line_color\":\"black\",\"line_dash\":[4,4],\"line_width\":2,\"right_units\":\"screen\",\"top_units\":\"screen\"},\"id\":\"4096\",\"type\":\"BoxAnnotation\"},{\"attributes\":{\"line_alpha\":0.1,\"line_color\":\"#30a2da\",\"line_width\":2,\"x\":{\"field\":\"Years\"},\"y\":{\"field\":\"value\"}},\"id\":\"4117\",\"type\":\"Line\"},{\"attributes\":{\"callback\":null,\"renderers\":[{\"id\":\"4119\"},{\"id\":\"4136\"}],\"tags\":[\"hv_created\"],\"tooltips\":[[\"Variable\",\"@{Variable}\"],[\"Years\",\"@{Years}\"],[\"value\",\"@{value}\"]]},\"id\":\"4072\",\"type\":\"HoverTool\"},{\"attributes\":{},\"id\":\"4079\",\"type\":\"LinearScale\"},{\"attributes\":{\"format\":\"$%.0f\"},\"id\":\"4104\",\"type\":\"PrintfTickFormatter\"},{\"attributes\":{\"end\":41.0,\"reset_end\":41.0,\"reset_start\":0.0,\"tags\":[[[\"Years\",\"Years\",null]]]},\"id\":\"4070\",\"type\":\"Range1d\"},{\"attributes\":{\"data\":{\"Variable\":[\"Fire Goal\",\"Fire Goal\",\"Fire Goal\",\"Fire Goal\",\"Fire Goal\",\"Fire Goal\",\"Fire Goal\",\"Fire Goal\",\"Fire Goal\",\"Fire Goal\",\"Fire Goal\",\"Fire Goal\",\"Fire Goal\",\"Fire Goal\",\"Fire Goal\",\"Fire Goal\",\"Fire Goal\",\"Fire Goal\",\"Fire Goal\",\"Fire Goal\",\"Fire Goal\",\"Fire Goal\",\"Fire Goal\",\"Fire Goal\",\"Fire Goal\",\"Fire Goal\",\"Fire Goal\",\"Fire Goal\",\"Fire Goal\",\"Fire Goal\",\"Fire Goal\",\"Fire Goal\",\"Fire Goal\",\"Fire Goal\",\"Fire Goal\",\"Fire Goal\",\"Fire Goal\",\"Fire Goal\",\"Fire Goal\",\"Fire Goal\",\"Fire Goal\",\"Fire Goal\"],\"Years\":[0,1,2,3,4,5,6,7,8,9,10,11,12,13,14,15,16,17,18,19,20,21,22,23,24,25,26,27,28,29,30,31,32,33,34,35,36,37,38,39,40,41],\"value\":[3000000,3000000,3000000,3000000,3000000,3000000,3000000,3000000,3000000,3000000,3000000,3000000,3000000,3000000,3000000,3000000,3000000,3000000,3000000,3000000,3000000,3000000,3000000,3000000,3000000,3000000,3000000,3000000,3000000,3000000,3000000,3000000,3000000,3000000,3000000,3000000,3000000,3000000,3000000,3000000,3000000,3000000]},\"selected\":{\"id\":\"4131\"},\"selection_policy\":{\"id\":\"4145\"}},\"id\":\"4130\",\"type\":\"ColumnDataSource\"},{\"attributes\":{\"active_drag\":\"auto\",\"active_inspect\":\"auto\",\"active_multi\":null,\"active_scroll\":\"auto\",\"active_tap\":\"auto\",\"tools\":[{\"id\":\"4072\"},{\"id\":\"4091\"},{\"id\":\"4092\"},{\"id\":\"4093\"},{\"id\":\"4094\"},{\"id\":\"4095\"}]},\"id\":\"4097\",\"type\":\"Toolbar\"},{\"attributes\":{\"line_color\":\"#fc4f30\",\"line_width\":2,\"x\":{\"field\":\"Years\"},\"y\":{\"field\":\"value\"}},\"id\":\"4133\",\"type\":\"Line\"},{\"attributes\":{},\"id\":\"4114\",\"type\":\"Selection\"},{\"attributes\":{},\"id\":\"4091\",\"type\":\"SaveTool\"},{\"attributes\":{},\"id\":\"4106\",\"type\":\"BasicTickFormatter\"},{\"attributes\":{},\"id\":\"4092\",\"type\":\"PanTool\"}],\"root_ids\":[\"4068\"]},\"title\":\"Bokeh Application\",\"version\":\"2.2.3\"}};\n",
       "    var render_items = [{\"docid\":\"ab964b06-b937-4bf2-830c-1355470c6366\",\"root_ids\":[\"4068\"],\"roots\":{\"4068\":\"f54f91c0-f110-4a01-a631-e6555860eeac\"}}];\n",
       "    root.Bokeh.embed.embed_items_notebook(docs_json, render_items);\n",
       "  }\n",
       "  if (root.Bokeh !== undefined && root.Bokeh.Panel !== undefined) {\n",
       "    embed_document(root);\n",
       "  } else {\n",
       "    var attempts = 0;\n",
       "    var timer = setInterval(function(root) {\n",
       "      if (root.Bokeh !== undefined && root.Bokeh.Panel !== undefined) {\n",
       "        clearInterval(timer);\n",
       "        embed_document(root);\n",
       "      } else if (document.readyState == \"complete\") {\n",
       "        attempts++;\n",
       "        if (attempts > 100) {\n",
       "          clearInterval(timer);\n",
       "          console.log(\"Bokeh: ERROR: Unable to run BokehJS code because BokehJS library is missing\");\n",
       "        }\n",
       "      }\n",
       "    }, 10, root)\n",
       "  }\n",
       "})(window);</script>"
      ],
      "text/plain": [
       ":NdOverlay   [Variable]\n",
       "   :Curve   [Years]   (value)"
      ]
     },
     "execution_count": 62,
     "metadata": {
      "application/vnd.holoviews_exec.v0+json": {
       "id": "4068"
      }
     },
     "output_type": "execute_result"
    }
   ],
   "source": [
    "df_ret.hvplot.line(x='Years',width=750, height=500,yformatter='$%.0f',grid=True,title='Current Path to FIRE')"
   ]
  },
  {
   "cell_type": "markdown",
   "metadata": {},
   "source": [
    "# Investing\n"
   ]
  },
  {
   "cell_type": "markdown",
   "metadata": {},
   "source": [
    "### Could you retire faster if you invest your savings?"
   ]
  },
  {
   "cell_type": "code",
   "execution_count": 63,
   "metadata": {},
   "outputs": [
    {
     "data": {
      "text/html": [
       "<div>\n",
       "<style scoped>\n",
       "    .dataframe tbody tr th:only-of-type {\n",
       "        vertical-align: middle;\n",
       "    }\n",
       "\n",
       "    .dataframe tbody tr th {\n",
       "        vertical-align: top;\n",
       "    }\n",
       "\n",
       "    .dataframe thead th {\n",
       "        text-align: right;\n",
       "    }\n",
       "</style>\n",
       "<table border=\"1\" class=\"dataframe\">\n",
       "  <thead>\n",
       "    <tr style=\"text-align: right;\">\n",
       "      <th></th>\n",
       "      <th>Fire Progress</th>\n",
       "      <th>Fire Goal</th>\n",
       "      <th>Fire Progress Invest</th>\n",
       "      <th>Fire Progress Invest Compound</th>\n",
       "    </tr>\n",
       "    <tr>\n",
       "      <th>Years</th>\n",
       "      <th></th>\n",
       "      <th></th>\n",
       "      <th></th>\n",
       "      <th></th>\n",
       "    </tr>\n",
       "  </thead>\n",
       "  <tbody>\n",
       "    <tr>\n",
       "      <th>0</th>\n",
       "      <td>500000</td>\n",
       "      <td>3000000</td>\n",
       "      <td>540000.0</td>\n",
       "      <td>NaN</td>\n",
       "    </tr>\n",
       "    <tr>\n",
       "      <th>1</th>\n",
       "      <td>560000</td>\n",
       "      <td>3000000</td>\n",
       "      <td>604800.0</td>\n",
       "      <td>643200.0</td>\n",
       "    </tr>\n",
       "    <tr>\n",
       "      <th>2</th>\n",
       "      <td>620000</td>\n",
       "      <td>3000000</td>\n",
       "      <td>669600.0</td>\n",
       "      <td>713184.0</td>\n",
       "    </tr>\n",
       "    <tr>\n",
       "      <th>3</th>\n",
       "      <td>680000</td>\n",
       "      <td>3000000</td>\n",
       "      <td>734400.0</td>\n",
       "      <td>783168.0</td>\n",
       "    </tr>\n",
       "    <tr>\n",
       "      <th>4</th>\n",
       "      <td>740000</td>\n",
       "      <td>3000000</td>\n",
       "      <td>799200.0</td>\n",
       "      <td>853152.0</td>\n",
       "    </tr>\n",
       "  </tbody>\n",
       "</table>\n",
       "</div>"
      ],
      "text/plain": [
       "       Fire Progress  Fire Goal  Fire Progress Invest  \\\n",
       "Years                                                   \n",
       "0             500000    3000000              540000.0   \n",
       "1             560000    3000000              604800.0   \n",
       "2             620000    3000000              669600.0   \n",
       "3             680000    3000000              734400.0   \n",
       "4             740000    3000000              799200.0   \n",
       "\n",
       "       Fire Progress Invest Compound  \n",
       "Years                                 \n",
       "0                                NaN  \n",
       "1                           643200.0  \n",
       "2                           713184.0  \n",
       "3                           783168.0  \n",
       "4                           853152.0  "
      ]
     },
     "execution_count": 63,
     "metadata": {},
     "output_type": "execute_result"
    }
   ],
   "source": [
    "# Average market return is 8% \n",
    "average_market_return = 1.08\n",
    "df_ret['Fire Progress Invest'] = df_ret['Fire Progress'] * average_market_return\n",
    "df_ret['Fire Progress Invest Compound'] = df_ret['Fire Progress Invest'].shift(1) * average_market_return + annual_savings\n",
    "df_ret.head()"
   ]
  },
  {
   "cell_type": "code",
   "execution_count": 66,
   "metadata": {},
   "outputs": [
    {
     "data": {},
     "metadata": {},
     "output_type": "display_data"
    },
    {
     "data": {
      "application/vnd.holoviews_exec.v0+json": "",
      "text/html": [
       "<div id='4892'>\n",
       "\n",
       "\n",
       "\n",
       "\n",
       "\n",
       "  <div class=\"bk-root\" id=\"bb6a5359-2ad5-48fb-9819-42208211176d\" data-root-id=\"4892\"></div>\n",
       "</div>\n",
       "<script type=\"application/javascript\">(function(root) {\n",
       "  function embed_document(root) {\n",
       "    var docs_json = {\"bb56b88a-542c-46fa-b935-ab8eae9c1d39\":{\"roots\":{\"references\":[{\"attributes\":{\"data_source\":{\"id\":\"4956\"},\"glyph\":{\"id\":\"4959\"},\"hover_glyph\":null,\"muted_glyph\":{\"id\":\"4961\"},\"nonselection_glyph\":{\"id\":\"4960\"},\"selection_glyph\":null,\"view\":{\"id\":\"4963\"}},\"id\":\"4962\",\"type\":\"GlyphRenderer\"},{\"attributes\":{},\"id\":\"4907\",\"type\":\"LinearScale\"},{\"attributes\":{},\"id\":\"4921\",\"type\":\"ResetTool\"},{\"attributes\":{\"source\":{\"id\":\"4956\"}},\"id\":\"4963\",\"type\":\"CDSView\"},{\"attributes\":{\"axis_label\":\"Years\",\"bounds\":\"auto\",\"formatter\":{\"id\":\"4932\"},\"major_label_orientation\":\"horizontal\",\"ticker\":{\"id\":\"4910\"}},\"id\":\"4909\",\"type\":\"LinearAxis\"},{\"attributes\":{\"line_alpha\":0.2,\"line_color\":\"#6d904f\",\"line_width\":2,\"x\":{\"field\":\"Years\"},\"y\":{\"field\":\"value\"}},\"id\":\"4999\",\"type\":\"Line\"},{\"attributes\":{\"label\":{\"value\":\"Fire Progress Invest Compound\"},\"renderers\":[{\"id\":\"5000\"}]},\"id\":\"5015\",\"type\":\"LegendItem\"},{\"attributes\":{\"data_source\":{\"id\":\"4939\"},\"glyph\":{\"id\":\"4942\"},\"hover_glyph\":null,\"muted_glyph\":{\"id\":\"4944\"},\"nonselection_glyph\":{\"id\":\"4943\"},\"selection_glyph\":null,\"view\":{\"id\":\"4946\"}},\"id\":\"4945\",\"type\":\"GlyphRenderer\"},{\"attributes\":{\"end\":3736816.0,\"reset_end\":3736816.0,\"reset_start\":205744.0,\"start\":205744.0,\"tags\":[[[\"value\",\"value\",null]]]},\"id\":\"4895\",\"type\":\"Range1d\"},{\"attributes\":{\"source\":{\"id\":\"4994\"}},\"id\":\"5001\",\"type\":\"CDSView\"},{\"attributes\":{\"label\":{\"value\":\"Fire Goal\"},\"renderers\":[{\"id\":\"4962\"}]},\"id\":\"4973\",\"type\":\"LegendItem\"},{\"attributes\":{\"data\":{\"Variable\":[\"Fire Goal\",\"Fire Goal\",\"Fire Goal\",\"Fire Goal\",\"Fire Goal\",\"Fire Goal\",\"Fire Goal\",\"Fire Goal\",\"Fire Goal\",\"Fire Goal\",\"Fire Goal\",\"Fire Goal\",\"Fire Goal\",\"Fire Goal\",\"Fire Goal\",\"Fire Goal\",\"Fire Goal\",\"Fire Goal\",\"Fire Goal\",\"Fire Goal\",\"Fire Goal\",\"Fire Goal\",\"Fire Goal\",\"Fire Goal\",\"Fire Goal\",\"Fire Goal\",\"Fire Goal\",\"Fire Goal\",\"Fire Goal\",\"Fire Goal\",\"Fire Goal\",\"Fire Goal\",\"Fire Goal\",\"Fire Goal\",\"Fire Goal\",\"Fire Goal\",\"Fire Goal\",\"Fire Goal\",\"Fire Goal\",\"Fire Goal\",\"Fire Goal\",\"Fire Goal\"],\"Years\":[0,1,2,3,4,5,6,7,8,9,10,11,12,13,14,15,16,17,18,19,20,21,22,23,24,25,26,27,28,29,30,31,32,33,34,35,36,37,38,39,40,41],\"value\":[3000000,3000000,3000000,3000000,3000000,3000000,3000000,3000000,3000000,3000000,3000000,3000000,3000000,3000000,3000000,3000000,3000000,3000000,3000000,3000000,3000000,3000000,3000000,3000000,3000000,3000000,3000000,3000000,3000000,3000000,3000000,3000000,3000000,3000000,3000000,3000000,3000000,3000000,3000000,3000000,3000000,3000000]},\"selected\":{\"id\":\"4957\"},\"selection_policy\":{\"id\":\"4971\"}},\"id\":\"4956\",\"type\":\"ColumnDataSource\"},{\"attributes\":{},\"id\":\"4995\",\"type\":\"Selection\"},{\"attributes\":{\"line_alpha\":0.2,\"line_color\":\"#e5ae38\",\"line_width\":2,\"x\":{\"field\":\"Years\"},\"y\":{\"field\":\"value\"}},\"id\":\"4979\",\"type\":\"Line\"},{\"attributes\":{\"callback\":null,\"renderers\":[{\"id\":\"4945\"},{\"id\":\"4962\"},{\"id\":\"4980\"},{\"id\":\"5000\"}],\"tags\":[\"hv_created\"],\"tooltips\":[[\"Variable\",\"@{Variable}\"],[\"Years\",\"@{Years}\"],[\"value\",\"@{value}\"]]},\"id\":\"4896\",\"type\":\"HoverTool\"},{\"attributes\":{\"axis\":{\"id\":\"4913\"},\"dimension\":1,\"ticker\":{\"id\":\"4914\"}},\"id\":\"4916\",\"type\":\"Grid\"},{\"attributes\":{\"end\":41.0,\"reset_end\":41.0,\"reset_start\":0.0,\"tags\":[[[\"Years\",\"Years\",null]]]},\"id\":\"4894\",\"type\":\"Range1d\"},{\"attributes\":{\"data\":{\"Variable\":[\"Fire Progress\",\"Fire Progress\",\"Fire Progress\",\"Fire Progress\",\"Fire Progress\",\"Fire Progress\",\"Fire Progress\",\"Fire Progress\",\"Fire Progress\",\"Fire Progress\",\"Fire Progress\",\"Fire Progress\",\"Fire Progress\",\"Fire Progress\",\"Fire Progress\",\"Fire Progress\",\"Fire Progress\",\"Fire Progress\",\"Fire Progress\",\"Fire Progress\",\"Fire Progress\",\"Fire Progress\",\"Fire Progress\",\"Fire Progress\",\"Fire Progress\",\"Fire Progress\",\"Fire Progress\",\"Fire Progress\",\"Fire Progress\",\"Fire Progress\",\"Fire Progress\",\"Fire Progress\",\"Fire Progress\",\"Fire Progress\",\"Fire Progress\",\"Fire Progress\",\"Fire Progress\",\"Fire Progress\",\"Fire Progress\",\"Fire Progress\",\"Fire Progress\",\"Fire Progress\"],\"Years\":[0,1,2,3,4,5,6,7,8,9,10,11,12,13,14,15,16,17,18,19,20,21,22,23,24,25,26,27,28,29,30,31,32,33,34,35,36,37,38,39,40,41],\"value\":[500000,560000,620000,680000,740000,800000,860000,920000,980000,1040000,1100000,1160000,1220000,1280000,1340000,1400000,1460000,1520000,1580000,1640000,1700000,1760000,1820000,1880000,1940000,2000000,2060000,2120000,2180000,2240000,2300000,2360000,2420000,2480000,2540000,2600000,2660000,2720000,2780000,2840000,2900000,2960000]},\"selected\":{\"id\":\"4940\"},\"selection_policy\":{\"id\":\"4952\"}},\"id\":\"4939\",\"type\":\"ColumnDataSource\"},{\"attributes\":{},\"id\":\"4971\",\"type\":\"UnionRenderers\"},{\"attributes\":{\"line_alpha\":0.1,\"line_color\":\"#30a2da\",\"line_width\":2,\"x\":{\"field\":\"Years\"},\"y\":{\"field\":\"value\"}},\"id\":\"4943\",\"type\":\"Line\"},{\"attributes\":{\"line_alpha\":0.1,\"line_color\":\"#6d904f\",\"line_width\":2,\"x\":{\"field\":\"Years\"},\"y\":{\"field\":\"value\"}},\"id\":\"4998\",\"type\":\"Line\"},{\"attributes\":{},\"id\":\"4910\",\"type\":\"BasicTicker\"},{\"attributes\":{\"line_color\":\"#6d904f\",\"line_width\":2,\"x\":{\"field\":\"Years\"},\"y\":{\"field\":\"value\"}},\"id\":\"4997\",\"type\":\"Line\"},{\"attributes\":{},\"id\":\"4991\",\"type\":\"UnionRenderers\"},{\"attributes\":{\"axis\":{\"id\":\"4909\"},\"ticker\":{\"id\":\"4910\"}},\"id\":\"4912\",\"type\":\"Grid\"},{\"attributes\":{\"source\":{\"id\":\"4939\"}},\"id\":\"4946\",\"type\":\"CDSView\"},{\"attributes\":{\"label\":{\"value\":\"Fire Progress\"},\"renderers\":[{\"id\":\"4945\"}]},\"id\":\"4955\",\"type\":\"LegendItem\"},{\"attributes\":{\"margin\":[5,5,5,5],\"name\":\"HSpacer10778\",\"sizing_mode\":\"stretch_width\"},\"id\":\"4893\",\"type\":\"Spacer\"},{\"attributes\":{\"data_source\":{\"id\":\"4974\"},\"glyph\":{\"id\":\"4977\"},\"hover_glyph\":null,\"muted_glyph\":{\"id\":\"4979\"},\"nonselection_glyph\":{\"id\":\"4978\"},\"selection_glyph\":null,\"view\":{\"id\":\"4981\"}},\"id\":\"4980\",\"type\":\"GlyphRenderer\"},{\"attributes\":{\"line_alpha\":0.2,\"line_color\":\"#fc4f30\",\"line_width\":2,\"x\":{\"field\":\"Years\"},\"y\":{\"field\":\"value\"}},\"id\":\"4961\",\"type\":\"Line\"},{\"attributes\":{\"line_color\":\"#e5ae38\",\"line_width\":2,\"x\":{\"field\":\"Years\"},\"y\":{\"field\":\"value\"}},\"id\":\"4977\",\"type\":\"Line\"},{\"attributes\":{\"data_source\":{\"id\":\"4994\"},\"glyph\":{\"id\":\"4997\"},\"hover_glyph\":null,\"muted_glyph\":{\"id\":\"4999\"},\"nonselection_glyph\":{\"id\":\"4998\"},\"selection_glyph\":null,\"view\":{\"id\":\"5001\"}},\"id\":\"5000\",\"type\":\"GlyphRenderer\"},{\"attributes\":{\"line_alpha\":0.2,\"line_color\":\"#30a2da\",\"line_width\":2,\"x\":{\"field\":\"Years\"},\"y\":{\"field\":\"value\"}},\"id\":\"4944\",\"type\":\"Line\"},{\"attributes\":{\"line_alpha\":0.1,\"line_color\":\"#e5ae38\",\"line_width\":2,\"x\":{\"field\":\"Years\"},\"y\":{\"field\":\"value\"}},\"id\":\"4978\",\"type\":\"Line\"},{\"attributes\":{\"data\":{\"Variable\":[\"Fire Progress Invest Compound\",\"Fire Progress Invest Compound\",\"Fire Progress Invest Compound\",\"Fire Progress Invest Compound\",\"Fire Progress Invest Compound\",\"Fire Progress Invest Compound\",\"Fire Progress Invest Compound\",\"Fire Progress Invest Compound\",\"Fire Progress Invest Compound\",\"Fire Progress Invest Compound\",\"Fire Progress Invest Compound\",\"Fire Progress Invest Compound\",\"Fire Progress Invest Compound\",\"Fire Progress Invest Compound\",\"Fire Progress Invest Compound\",\"Fire Progress Invest Compound\",\"Fire Progress Invest Compound\",\"Fire Progress Invest Compound\",\"Fire Progress Invest Compound\",\"Fire Progress Invest Compound\",\"Fire Progress Invest Compound\",\"Fire Progress Invest Compound\",\"Fire Progress Invest Compound\",\"Fire Progress Invest Compound\",\"Fire Progress Invest Compound\",\"Fire Progress Invest Compound\",\"Fire Progress Invest Compound\",\"Fire Progress Invest Compound\",\"Fire Progress Invest Compound\",\"Fire Progress Invest Compound\",\"Fire Progress Invest Compound\",\"Fire Progress Invest Compound\",\"Fire Progress Invest Compound\",\"Fire Progress Invest Compound\",\"Fire Progress Invest Compound\",\"Fire Progress Invest Compound\",\"Fire Progress Invest Compound\",\"Fire Progress Invest Compound\",\"Fire Progress Invest Compound\",\"Fire Progress Invest Compound\",\"Fire Progress Invest Compound\",\"Fire Progress Invest Compound\"],\"Years\":[0,1,2,3,4,5,6,7,8,9,10,11,12,13,14,15,16,17,18,19,20,21,22,23,24,25,26,27,28,29,30,31,32,33,34,35,36,37,38,39,40,41],\"value\":{\"__ndarray__\":\"AAAAAAAA+H8AAAAAAKEjQQAAAADAwyVBAAAAAIDmJ0EAAAAAQAkqQQAAAAAALCxBAQAAAMBOLkEBAAAAwDgwQQEAAAAgSjFBAAAAAIBbMkEAAAAA4GwzQQAAAABAfjRBAAAAAKCPNUEAAAAAAKE2QQAAAABgsjdBAAAAAMDDOEEAAAAAINU5QQAAAACA5jpBAQAAAOD3O0EBAAAAQAk9QQIAAACgGj5BAgAAAAAsP0EBAAAAsB5AQQEAAABgp0BBAQAAABAwQUEBAAAAwLhBQQAAAABwQUJBAAAAACDKQkEAAAAA0FJDQQAAAACA20NBAAAAADBkREEAAAAA4OxEQQAAAACQdUVBAAAAAED+RUEAAAAA8IZGQQAAAACgD0dBAAAAAFCYR0EAAAAAACFIQQAAAACwqUhBAAAAAGAySUEAAAAAELtJQQAAAADAQ0pB\",\"dtype\":\"float64\",\"order\":\"little\",\"shape\":[42]}},\"selected\":{\"id\":\"4995\"},\"selection_policy\":{\"id\":\"5013\"}},\"id\":\"4994\",\"type\":\"ColumnDataSource\"},{\"attributes\":{\"axis_label\":\"\",\"bounds\":\"auto\",\"formatter\":{\"id\":\"4930\"},\"major_label_orientation\":\"horizontal\",\"ticker\":{\"id\":\"4914\"}},\"id\":\"4913\",\"type\":\"LinearAxis\"},{\"attributes\":{\"click_policy\":\"mute\",\"items\":[{\"id\":\"4955\"},{\"id\":\"4973\"},{\"id\":\"4993\"},{\"id\":\"5015\"}],\"location\":[0,0],\"title\":\"Variable\"},\"id\":\"4954\",\"type\":\"Legend\"},{\"attributes\":{},\"id\":\"4914\",\"type\":\"BasicTicker\"},{\"attributes\":{},\"id\":\"5013\",\"type\":\"UnionRenderers\"},{\"attributes\":{\"bottom_units\":\"screen\",\"fill_alpha\":0.5,\"fill_color\":\"lightgrey\",\"left_units\":\"screen\",\"level\":\"overlay\",\"line_alpha\":1.0,\"line_color\":\"black\",\"line_dash\":[4,4],\"line_width\":2,\"right_units\":\"screen\",\"top_units\":\"screen\"},\"id\":\"4922\",\"type\":\"BoxAnnotation\"},{\"attributes\":{\"source\":{\"id\":\"4974\"}},\"id\":\"4981\",\"type\":\"CDSView\"},{\"attributes\":{\"children\":[{\"id\":\"4893\"},{\"id\":\"4900\"},{\"id\":\"5133\"}],\"margin\":[0,0,0,0],\"name\":\"Row10774\",\"tags\":[\"embedded\"]},\"id\":\"4892\",\"type\":\"Row\"},{\"attributes\":{},\"id\":\"4975\",\"type\":\"Selection\"},{\"attributes\":{\"line_color\":\"#30a2da\",\"line_width\":2,\"x\":{\"field\":\"Years\"},\"y\":{\"field\":\"value\"}},\"id\":\"4942\",\"type\":\"Line\"},{\"attributes\":{\"active_drag\":\"auto\",\"active_inspect\":\"auto\",\"active_multi\":null,\"active_scroll\":\"auto\",\"active_tap\":\"auto\",\"tools\":[{\"id\":\"4896\"},{\"id\":\"4917\"},{\"id\":\"4918\"},{\"id\":\"4919\"},{\"id\":\"4920\"},{\"id\":\"4921\"}]},\"id\":\"4923\",\"type\":\"Toolbar\"},{\"attributes\":{\"line_color\":\"#fc4f30\",\"line_width\":2,\"x\":{\"field\":\"Years\"},\"y\":{\"field\":\"value\"}},\"id\":\"4959\",\"type\":\"Line\"},{\"attributes\":{\"format\":\"$%.0f\"},\"id\":\"4930\",\"type\":\"PrintfTickFormatter\"},{\"attributes\":{},\"id\":\"4940\",\"type\":\"Selection\"},{\"attributes\":{},\"id\":\"4917\",\"type\":\"SaveTool\"},{\"attributes\":{},\"id\":\"4932\",\"type\":\"BasicTickFormatter\"},{\"attributes\":{},\"id\":\"4918\",\"type\":\"PanTool\"},{\"attributes\":{},\"id\":\"4952\",\"type\":\"UnionRenderers\"},{\"attributes\":{},\"id\":\"4905\",\"type\":\"LinearScale\"},{\"attributes\":{},\"id\":\"4919\",\"type\":\"WheelZoomTool\"},{\"attributes\":{},\"id\":\"4957\",\"type\":\"Selection\"},{\"attributes\":{\"margin\":[5,5,5,5],\"name\":\"HSpacer10779\",\"sizing_mode\":\"stretch_width\"},\"id\":\"5133\",\"type\":\"Spacer\"},{\"attributes\":{\"below\":[{\"id\":\"4909\"}],\"center\":[{\"id\":\"4912\"},{\"id\":\"4916\"}],\"left\":[{\"id\":\"4913\"}],\"margin\":[5,5,5,5],\"min_border_bottom\":10,\"min_border_left\":10,\"min_border_right\":10,\"min_border_top\":10,\"plot_height\":350,\"plot_width\":750,\"renderers\":[{\"id\":\"4945\"},{\"id\":\"4962\"},{\"id\":\"4980\"},{\"id\":\"5000\"}],\"right\":[{\"id\":\"4954\"}],\"sizing_mode\":\"fixed\",\"title\":{\"id\":\"4901\"},\"toolbar\":{\"id\":\"4923\"},\"x_range\":{\"id\":\"4894\"},\"x_scale\":{\"id\":\"4905\"},\"y_range\":{\"id\":\"4895\"},\"y_scale\":{\"id\":\"4907\"}},\"id\":\"4900\",\"subtype\":\"Figure\",\"type\":\"Plot\"},{\"attributes\":{\"data\":{\"Variable\":[\"Fire Progress Invest\",\"Fire Progress Invest\",\"Fire Progress Invest\",\"Fire Progress Invest\",\"Fire Progress Invest\",\"Fire Progress Invest\",\"Fire Progress Invest\",\"Fire Progress Invest\",\"Fire Progress Invest\",\"Fire Progress Invest\",\"Fire Progress Invest\",\"Fire Progress Invest\",\"Fire Progress Invest\",\"Fire Progress Invest\",\"Fire Progress Invest\",\"Fire Progress Invest\",\"Fire Progress Invest\",\"Fire Progress Invest\",\"Fire Progress Invest\",\"Fire Progress Invest\",\"Fire Progress Invest\",\"Fire Progress Invest\",\"Fire Progress Invest\",\"Fire Progress Invest\",\"Fire Progress Invest\",\"Fire Progress Invest\",\"Fire Progress Invest\",\"Fire Progress Invest\",\"Fire Progress Invest\",\"Fire Progress Invest\",\"Fire Progress Invest\",\"Fire Progress Invest\",\"Fire Progress Invest\",\"Fire Progress Invest\",\"Fire Progress Invest\",\"Fire Progress Invest\",\"Fire Progress Invest\",\"Fire Progress Invest\",\"Fire Progress Invest\",\"Fire Progress Invest\",\"Fire Progress Invest\",\"Fire Progress Invest\"],\"Years\":[0,1,2,3,4,5,6,7,8,9,10,11,12,13,14,15,16,17,18,19,20,21,22,23,24,25,26,27,28,29,30,31,32,33,34,35,36,37,38,39,40,41],\"value\":{\"__ndarray__\":\"AAAAAMB6IEEAAAAAAHUiQQAAAABAbyRBAAAAAIBpJkEAAAAAwGMoQQAAAAAAXipBAQAAAEBYLEEBAAAAgFIuQQAAAABgJjBBAAAAAIAjMUEAAAAAoCAyQQAAAADAHTNBAAAAAOAaNEEAAAAAABg1QQAAAAAgFTZBAAAAAEASN0EAAAAAYA84QQAAAACADDlBAAAAAKAJOkEBAAAAwAY7QQEAAADgAzxBAQAAAAABPUEBAAAAIP49QQEAAABA+z5BAQAAAGD4P0EAAAAAwHpAQQAAAABQ+UBBAAAAAOB3QUEAAAAAcPZBQQAAAAAAdUJBAAAAAJDzQkEAAAAAIHJDQQAAAACw8ENBAAAAAEBvREEAAAAA0O1EQQAAAABgbEVBAAAAAPDqRUEAAAAAgGlGQQAAAAAQ6EZBAAAAAKBmR0EAAAAAMOVHQQAAAADAY0hB\",\"dtype\":\"float64\",\"order\":\"little\",\"shape\":[42]}},\"selected\":{\"id\":\"4975\"},\"selection_policy\":{\"id\":\"4991\"}},\"id\":\"4974\",\"type\":\"ColumnDataSource\"},{\"attributes\":{\"overlay\":{\"id\":\"4922\"}},\"id\":\"4920\",\"type\":\"BoxZoomTool\"},{\"attributes\":{\"label\":{\"value\":\"Fire Progress Invest\"},\"renderers\":[{\"id\":\"4980\"}]},\"id\":\"4993\",\"type\":\"LegendItem\"},{\"attributes\":{\"line_alpha\":0.1,\"line_color\":\"#fc4f30\",\"line_width\":2,\"x\":{\"field\":\"Years\"},\"y\":{\"field\":\"value\"}},\"id\":\"4960\",\"type\":\"Line\"},{\"attributes\":{\"text\":\"FIRE Path if invested\",\"text_color\":{\"value\":\"black\"},\"text_font_size\":{\"value\":\"12pt\"}},\"id\":\"4901\",\"type\":\"Title\"}],\"root_ids\":[\"4892\"]},\"title\":\"Bokeh Application\",\"version\":\"2.2.3\"}};\n",
       "    var render_items = [{\"docid\":\"bb56b88a-542c-46fa-b935-ab8eae9c1d39\",\"root_ids\":[\"4892\"],\"roots\":{\"4892\":\"bb6a5359-2ad5-48fb-9819-42208211176d\"}}];\n",
       "    root.Bokeh.embed.embed_items_notebook(docs_json, render_items);\n",
       "  }\n",
       "  if (root.Bokeh !== undefined && root.Bokeh.Panel !== undefined) {\n",
       "    embed_document(root);\n",
       "  } else {\n",
       "    var attempts = 0;\n",
       "    var timer = setInterval(function(root) {\n",
       "      if (root.Bokeh !== undefined && root.Bokeh.Panel !== undefined) {\n",
       "        clearInterval(timer);\n",
       "        embed_document(root);\n",
       "      } else if (document.readyState == \"complete\") {\n",
       "        attempts++;\n",
       "        if (attempts > 100) {\n",
       "          clearInterval(timer);\n",
       "          console.log(\"Bokeh: ERROR: Unable to run BokehJS code because BokehJS library is missing\");\n",
       "        }\n",
       "      }\n",
       "    }, 10, root)\n",
       "  }\n",
       "})(window);</script>"
      ],
      "text/plain": [
       ":NdOverlay   [Variable]\n",
       "   :Curve   [Years]   (value)"
      ]
     },
     "execution_count": 66,
     "metadata": {
      "application/vnd.holoviews_exec.v0+json": {
       "id": "4892"
      }
     },
     "output_type": "execute_result"
    }
   ],
   "source": [
    "df_ret.hvplot.line(x='Years',width=750, height=350,yformatter='$%.0f',grid=True,title='FIRE Path if invested')"
   ]
  },
  {
   "cell_type": "code",
   "execution_count": 40,
   "metadata": {},
   "outputs": [],
   "source": [
    "# TO DO ERROR - Fire Progress Invest year 0 should be nan"
   ]
  },
  {
   "cell_type": "code",
   "execution_count": 41,
   "metadata": {},
   "outputs": [],
   "source": [
    "# TO DO - calculate how many years you save if you invest\n",
    "# rat_race_investor = df_ret.loc[df_ret['Fire Progress Invest'] >= \"fire_goal\"]\n",
    "# net_gain = rat_race - rat_race_investor\n",
    "#print(f\"If you invest your savings, you can retire {net_gain} years faster\")"
   ]
  },
  {
   "cell_type": "code",
   "execution_count": 42,
   "metadata": {},
   "outputs": [
    {
     "name": "stdout",
     "output_type": "stream",
     "text": [
      "The column [Fire Progress Invest Compound] is incorrect, the compound impact is higher\n"
     ]
    }
   ],
   "source": [
    "print(f\"The column [Fire Progress Invest Compound] is incorrect, the compound impact is higher\")"
   ]
  },
  {
   "cell_type": "markdown",
   "metadata": {},
   "source": [
    "# Don't like the above? Define a new lifestyle!"
   ]
  },
  {
   "cell_type": "markdown",
   "metadata": {},
   "source": [
    "### Enter your current age\n"
   ]
  },
  {
   "cell_type": "code",
   "execution_count": 43,
   "metadata": {},
   "outputs": [
    {
     "data": {},
     "metadata": {},
     "output_type": "display_data"
    },
    {
     "data": {
      "application/vnd.holoviews_exec.v0+json": "",
      "text/html": [
       "<div id='2402'>\n",
       "\n",
       "\n",
       "\n",
       "\n",
       "\n",
       "  <div class=\"bk-root\" id=\"39eb3232-d13a-42b8-906e-a71cbe829c5e\" data-root-id=\"2402\"></div>\n",
       "</div>\n",
       "<script type=\"application/javascript\">(function(root) {\n",
       "  function embed_document(root) {\n",
       "    var docs_json = {\"05db4630-9f12-4c8c-a7d9-12b5c59f3980\":{\"roots\":{\"references\":[{\"attributes\":{\"children\":[{\"id\":\"2404\"}],\"margin\":[0,0,0,0],\"name\":\"Column04728\"},\"id\":\"2403\",\"type\":\"Column\"},{\"attributes\":{\"end\":66,\"format\":\"0[.]00\",\"margin\":[5,10,5,10],\"start\":18,\"title\":\"x\",\"value\":42,\"value_throttled\":42},\"id\":\"2404\",\"type\":\"Slider\"},{\"attributes\":{\"margin\":[5,5,5,5],\"name\":\"interactive04722\"},\"id\":\"2406\",\"type\":\"panel.models.markup.HTML\"},{\"attributes\":{\"client_comm_id\":\"e6280e89dcb14480b50bfc00de256f57\",\"comm_id\":\"47ad199984974ce183d0c64fb1676530\",\"plot_id\":\"2402\"},\"id\":\"2407\",\"type\":\"panel.models.comm_manager.CommManager\"},{\"attributes\":{\"children\":[{\"id\":\"2406\"}],\"margin\":[0,0,0,0],\"name\":\"Row04727\"},\"id\":\"2405\",\"type\":\"Row\"},{\"attributes\":{\"children\":[{\"id\":\"2403\"},{\"id\":\"2405\"}],\"margin\":[0,0,0,0],\"name\":\"Column04723\"},\"id\":\"2402\",\"type\":\"Column\"}],\"root_ids\":[\"2402\",\"2407\"]},\"title\":\"Bokeh Application\",\"version\":\"2.2.3\"}};\n",
       "    var render_items = [{\"docid\":\"05db4630-9f12-4c8c-a7d9-12b5c59f3980\",\"root_ids\":[\"2402\"],\"roots\":{\"2402\":\"39eb3232-d13a-42b8-906e-a71cbe829c5e\"}}];\n",
       "    root.Bokeh.embed.embed_items_notebook(docs_json, render_items);\n",
       "  }\n",
       "  if (root.Bokeh !== undefined && root.Bokeh.Panel !== undefined) {\n",
       "    embed_document(root);\n",
       "  } else {\n",
       "    var attempts = 0;\n",
       "    var timer = setInterval(function(root) {\n",
       "      if (root.Bokeh !== undefined && root.Bokeh.Panel !== undefined) {\n",
       "        clearInterval(timer);\n",
       "        embed_document(root);\n",
       "      } else if (document.readyState == \"complete\") {\n",
       "        attempts++;\n",
       "        if (attempts > 100) {\n",
       "          clearInterval(timer);\n",
       "          console.log(\"Bokeh: ERROR: Unable to run BokehJS code because BokehJS library is missing\");\n",
       "        }\n",
       "      }\n",
       "    }, 10, root)\n",
       "  }\n",
       "})(window);</script>"
      ],
      "text/plain": [
       "Column\n",
       "    [0] Column\n",
       "        [0] IntSlider(end=66, name='x', start=18, value=42, value_throttled=42)\n",
       "    [1] Row\n",
       "        [0] Str(None, name='interactive04722')"
      ]
     },
     "execution_count": 43,
     "metadata": {
      "application/vnd.holoviews_exec.v0+json": {
       "id": "2402"
      }
     },
     "output_type": "execute_result"
    }
   ],
   "source": [
    "# Create text widget for output\n",
    "age = widgets.IntText()\n",
    "\n",
    "# Define function to bind value of the input to the output variable\n",
    "def f(x):\n",
    "    age.value = x\n",
    "\n",
    "# Create input slider\n",
    "interact(f, x=(18,66,1))"
   ]
  },
  {
   "cell_type": "code",
   "execution_count": 44,
   "metadata": {},
   "outputs": [
    {
     "data": {
      "text/plain": [
       "42"
      ]
     },
     "execution_count": 44,
     "metadata": {},
     "output_type": "execute_result"
    }
   ],
   "source": [
    "# Creating the selected option as value\n",
    "age = age.value\n",
    "age"
   ]
  },
  {
   "cell_type": "markdown",
   "metadata": {},
   "source": [
    "### What age would you like to retire"
   ]
  },
  {
   "cell_type": "code",
   "execution_count": 45,
   "metadata": {},
   "outputs": [
    {
     "data": {},
     "metadata": {},
     "output_type": "display_data"
    },
    {
     "data": {
      "application/vnd.holoviews_exec.v0+json": "",
      "text/html": [
       "<div id='2408'>\n",
       "\n",
       "\n",
       "\n",
       "\n",
       "\n",
       "  <div class=\"bk-root\" id=\"45264524-69ae-4da7-b86d-0334c56d9df3\" data-root-id=\"2408\"></div>\n",
       "</div>\n",
       "<script type=\"application/javascript\">(function(root) {\n",
       "  function embed_document(root) {\n",
       "    var docs_json = {\"19231008-100e-4ffe-aede-1241accbddca\":{\"roots\":{\"references\":[{\"attributes\":{\"margin\":[5,5,5,5],\"name\":\"interactive04731\"},\"id\":\"2412\",\"type\":\"panel.models.markup.HTML\"},{\"attributes\":{\"children\":[{\"id\":\"2412\"}],\"margin\":[0,0,0,0],\"name\":\"Row04736\"},\"id\":\"2411\",\"type\":\"Row\"},{\"attributes\":{\"client_comm_id\":\"7ba292911c6b4beaa949f3ae8a06bf98\",\"comm_id\":\"1a434e923b12480caad9effb5c9cec20\",\"plot_id\":\"2408\"},\"id\":\"2413\",\"type\":\"panel.models.comm_manager.CommManager\"},{\"attributes\":{\"children\":[{\"id\":\"2409\"},{\"id\":\"2411\"}],\"margin\":[0,0,0,0],\"name\":\"Column04732\"},\"id\":\"2408\",\"type\":\"Column\"},{\"attributes\":{\"children\":[{\"id\":\"2410\"}],\"margin\":[0,0,0,0],\"name\":\"Column04737\"},\"id\":\"2409\",\"type\":\"Column\"},{\"attributes\":{\"end\":66,\"format\":\"0[.]00\",\"margin\":[5,10,5,10],\"start\":42,\"title\":\"x\",\"value\":54,\"value_throttled\":54},\"id\":\"2410\",\"type\":\"Slider\"}],\"root_ids\":[\"2408\",\"2413\"]},\"title\":\"Bokeh Application\",\"version\":\"2.2.3\"}};\n",
       "    var render_items = [{\"docid\":\"19231008-100e-4ffe-aede-1241accbddca\",\"root_ids\":[\"2408\"],\"roots\":{\"2408\":\"45264524-69ae-4da7-b86d-0334c56d9df3\"}}];\n",
       "    root.Bokeh.embed.embed_items_notebook(docs_json, render_items);\n",
       "  }\n",
       "  if (root.Bokeh !== undefined && root.Bokeh.Panel !== undefined) {\n",
       "    embed_document(root);\n",
       "  } else {\n",
       "    var attempts = 0;\n",
       "    var timer = setInterval(function(root) {\n",
       "      if (root.Bokeh !== undefined && root.Bokeh.Panel !== undefined) {\n",
       "        clearInterval(timer);\n",
       "        embed_document(root);\n",
       "      } else if (document.readyState == \"complete\") {\n",
       "        attempts++;\n",
       "        if (attempts > 100) {\n",
       "          clearInterval(timer);\n",
       "          console.log(\"Bokeh: ERROR: Unable to run BokehJS code because BokehJS library is missing\");\n",
       "        }\n",
       "      }\n",
       "    }, 10, root)\n",
       "  }\n",
       "})(window);</script>"
      ],
      "text/plain": [
       "Column\n",
       "    [0] Column\n",
       "        [0] IntSlider(end=66, name='x', start=42, value=54, value_throttled=54)\n",
       "    [1] Row\n",
       "        [0] Str(None, name='interactive04731')"
      ]
     },
     "execution_count": 45,
     "metadata": {
      "application/vnd.holoviews_exec.v0+json": {
       "id": "2408"
      }
     },
     "output_type": "execute_result"
    }
   ],
   "source": [
    "# Create text widget for output\n",
    "pref_ret_age = widgets.IntText()\n",
    "\n",
    "# Define function to bind value of the input to the output variable\n",
    "def f(x):\n",
    "    pref_ret_age.value = x\n",
    "\n",
    "# Create input slider\n",
    "interact(f, x=(age,66,1))"
   ]
  },
  {
   "cell_type": "code",
   "execution_count": 46,
   "metadata": {},
   "outputs": [
    {
     "data": {
      "text/plain": [
       "54"
      ]
     },
     "execution_count": 46,
     "metadata": {},
     "output_type": "execute_result"
    }
   ],
   "source": [
    "# Creating the selected option as value\n",
    "pref_ret_age = pref_ret_age.value\n",
    "pref_ret_age"
   ]
  },
  {
   "cell_type": "markdown",
   "metadata": {},
   "source": [
    "### The difference between your current & desired situation"
   ]
  },
  {
   "cell_type": "code",
   "execution_count": 47,
   "metadata": {},
   "outputs": [
    {
     "name": "stdout",
     "output_type": "stream",
     "text": [
      "You need to start saving $208333.00 a year to hit your goal!\n"
     ]
    }
   ],
   "source": [
    "required_annual_savings = int((fire_goal - current_savings) / (pref_ret_age - age))\n",
    "print(f\"You need to start saving ${required_annual_savings:.2f} a year to hit your goal!\")"
   ]
  },
  {
   "cell_type": "code",
   "execution_count": 67,
   "metadata": {},
   "outputs": [
    {
     "data": {},
     "metadata": {},
     "output_type": "display_data"
    },
    {
     "data": {
      "application/vnd.holoviews_exec.v0+json": "",
      "text/html": [
       "<div id='5200'>\n",
       "\n",
       "\n",
       "\n",
       "\n",
       "\n",
       "  <div class=\"bk-root\" id=\"a1d0be86-9536-46e8-aaf2-7caabc3b45a8\" data-root-id=\"5200\"></div>\n",
       "</div>\n",
       "<script type=\"application/javascript\">(function(root) {\n",
       "  function embed_document(root) {\n",
       "    var docs_json = {\"dc9e1ca6-4a8b-4e5e-a532-a76d37de5b0f\":{\"roots\":{\"references\":[{\"attributes\":{\"source\":{\"id\":\"5265\"}},\"id\":\"5272\",\"type\":\"CDSView\"},{\"attributes\":{\"line_alpha\":0.1,\"line_color\":\"#8b8b8b\",\"line_width\":2,\"x\":{\"field\":\"Years\"},\"y\":{\"field\":\"value\"}},\"id\":\"5329\",\"type\":\"Line\"},{\"attributes\":{},\"id\":\"5219\",\"type\":\"BasicTicker\"},{\"attributes\":{\"margin\":[5,5,5,5],\"name\":\"HSpacer11562\",\"sizing_mode\":\"stretch_width\"},\"id\":\"5484\",\"type\":\"Spacer\"},{\"attributes\":{\"axis\":{\"id\":\"5218\"},\"ticker\":{\"id\":\"5219\"}},\"id\":\"5221\",\"type\":\"Grid\"},{\"attributes\":{\"data\":{\"Variable\":[\"Fire Progress Invest\",\"Fire Progress Invest\",\"Fire Progress Invest\",\"Fire Progress Invest\",\"Fire Progress Invest\",\"Fire Progress Invest\",\"Fire Progress Invest\",\"Fire Progress Invest\",\"Fire Progress Invest\",\"Fire Progress Invest\",\"Fire Progress Invest\",\"Fire Progress Invest\",\"Fire Progress Invest\",\"Fire Progress Invest\",\"Fire Progress Invest\",\"Fire Progress Invest\",\"Fire Progress Invest\",\"Fire Progress Invest\",\"Fire Progress Invest\",\"Fire Progress Invest\",\"Fire Progress Invest\",\"Fire Progress Invest\",\"Fire Progress Invest\",\"Fire Progress Invest\",\"Fire Progress Invest\",\"Fire Progress Invest\",\"Fire Progress Invest\",\"Fire Progress Invest\",\"Fire Progress Invest\",\"Fire Progress Invest\",\"Fire Progress Invest\",\"Fire Progress Invest\",\"Fire Progress Invest\",\"Fire Progress Invest\",\"Fire Progress Invest\",\"Fire Progress Invest\",\"Fire Progress Invest\",\"Fire Progress Invest\",\"Fire Progress Invest\",\"Fire Progress Invest\",\"Fire Progress Invest\",\"Fire Progress Invest\"],\"Years\":[0,1,2,3,4,5,6,7,8,9,10,11,12,13,14,15,16,17,18,19,20,21,22,23,24,25,26,27,28,29,30,31,32,33,34,35,36,37,38,39,40,41],\"value\":{\"__ndarray__\":\"AAAAAMB6IEEAAAAAAHUiQQAAAABAbyRBAAAAAIBpJkEAAAAAwGMoQQAAAAAAXipBAQAAAEBYLEEBAAAAgFIuQQAAAABgJjBBAAAAAIAjMUEAAAAAoCAyQQAAAADAHTNBAAAAAOAaNEEAAAAAABg1QQAAAAAgFTZBAAAAAEASN0EAAAAAYA84QQAAAACADDlBAAAAAKAJOkEBAAAAwAY7QQEAAADgAzxBAQAAAAABPUEBAAAAIP49QQEAAABA+z5BAQAAAGD4P0EAAAAAwHpAQQAAAABQ+UBBAAAAAOB3QUEAAAAAcPZBQQAAAAAAdUJBAAAAAJDzQkEAAAAAIHJDQQAAAACw8ENBAAAAAEBvREEAAAAA0O1EQQAAAABgbEVBAAAAAPDqRUEAAAAAgGlGQQAAAAAQ6EZBAAAAAKBmR0EAAAAAMOVHQQAAAADAY0hB\",\"dtype\":\"float64\",\"order\":\"little\",\"shape\":[42]}},\"selected\":{\"id\":\"5284\"},\"selection_policy\":{\"id\":\"5300\"}},\"id\":\"5283\",\"type\":\"ColumnDataSource\"},{\"attributes\":{\"label\":{\"value\":\"Suggested Fire Pace\"},\"renderers\":[{\"id\":\"5331\"}]},\"id\":\"5348\",\"type\":\"LegendItem\"},{\"attributes\":{\"data_source\":{\"id\":\"5325\"},\"glyph\":{\"id\":\"5328\"},\"hover_glyph\":null,\"muted_glyph\":{\"id\":\"5330\"},\"nonselection_glyph\":{\"id\":\"5329\"},\"selection_glyph\":null,\"view\":{\"id\":\"5332\"}},\"id\":\"5331\",\"type\":\"GlyphRenderer\"},{\"attributes\":{\"axis\":{\"id\":\"5222\"},\"dimension\":1,\"ticker\":{\"id\":\"5223\"}},\"id\":\"5225\",\"type\":\"Grid\"},{\"attributes\":{\"line_alpha\":0.2,\"line_color\":\"#fc4f30\",\"line_width\":2,\"x\":{\"field\":\"Years\"},\"y\":{\"field\":\"value\"}},\"id\":\"5270\",\"type\":\"Line\"},{\"attributes\":{\"line_alpha\":0.2,\"line_color\":\"#8b8b8b\",\"line_width\":2,\"x\":{\"field\":\"Years\"},\"y\":{\"field\":\"value\"}},\"id\":\"5330\",\"type\":\"Line\"},{\"attributes\":{\"axis_label\":\"Years\",\"bounds\":\"auto\",\"formatter\":{\"id\":\"5241\"},\"major_label_orientation\":\"horizontal\",\"ticker\":{\"id\":\"5219\"}},\"id\":\"5218\",\"type\":\"LinearAxis\"},{\"attributes\":{\"line_color\":\"#e5ae38\",\"line_width\":2,\"x\":{\"field\":\"Years\"},\"y\":{\"field\":\"value\"}},\"id\":\"5286\",\"type\":\"Line\"},{\"attributes\":{\"data_source\":{\"id\":\"5265\"},\"glyph\":{\"id\":\"5268\"},\"hover_glyph\":null,\"muted_glyph\":{\"id\":\"5270\"},\"nonselection_glyph\":{\"id\":\"5269\"},\"selection_glyph\":null,\"view\":{\"id\":\"5272\"}},\"id\":\"5271\",\"type\":\"GlyphRenderer\"},{\"attributes\":{\"end\":41.0,\"reset_end\":41.0,\"reset_start\":0.0,\"tags\":[[[\"Years\",\"Years\",null]]]},\"id\":\"5202\",\"type\":\"Range1d\"},{\"attributes\":{},\"id\":\"5216\",\"type\":\"LinearScale\"},{\"attributes\":{\"line_alpha\":0.1,\"line_color\":\"#fc4f30\",\"line_width\":2,\"x\":{\"field\":\"Years\"},\"y\":{\"field\":\"value\"}},\"id\":\"5269\",\"type\":\"Line\"},{\"attributes\":{\"source\":{\"id\":\"5325\"}},\"id\":\"5332\",\"type\":\"CDSView\"},{\"attributes\":{},\"id\":\"5223\",\"type\":\"BasicTicker\"},{\"attributes\":{\"axis_label\":\"\",\"bounds\":\"auto\",\"formatter\":{\"id\":\"5239\"},\"major_label_orientation\":\"horizontal\",\"ticker\":{\"id\":\"5223\"}},\"id\":\"5222\",\"type\":\"LinearAxis\"},{\"attributes\":{},\"id\":\"5284\",\"type\":\"Selection\"},{\"attributes\":{\"line_color\":\"#30a2da\",\"line_width\":2,\"x\":{\"field\":\"Years\"},\"y\":{\"field\":\"value\"}},\"id\":\"5251\",\"type\":\"Line\"},{\"attributes\":{},\"id\":\"5280\",\"type\":\"UnionRenderers\"},{\"attributes\":{\"data_source\":{\"id\":\"5248\"},\"glyph\":{\"id\":\"5251\"},\"hover_glyph\":null,\"muted_glyph\":{\"id\":\"5253\"},\"nonselection_glyph\":{\"id\":\"5252\"},\"selection_glyph\":null,\"view\":{\"id\":\"5255\"}},\"id\":\"5254\",\"type\":\"GlyphRenderer\"},{\"attributes\":{\"margin\":[5,5,5,5],\"name\":\"HSpacer11561\",\"sizing_mode\":\"stretch_width\"},\"id\":\"5201\",\"type\":\"Spacer\"},{\"attributes\":{},\"id\":\"5346\",\"type\":\"UnionRenderers\"},{\"attributes\":{\"callback\":null,\"renderers\":[{\"id\":\"5254\"},{\"id\":\"5271\"},{\"id\":\"5289\"},{\"id\":\"5309\"},{\"id\":\"5331\"}],\"tags\":[\"hv_created\"],\"tooltips\":[[\"Variable\",\"@{Variable}\"],[\"Years\",\"@{Years}\"],[\"value\",\"@{value}\"]]},\"id\":\"5204\",\"type\":\"HoverTool\"},{\"attributes\":{},\"id\":\"5261\",\"type\":\"UnionRenderers\"},{\"attributes\":{\"data_source\":{\"id\":\"5283\"},\"glyph\":{\"id\":\"5286\"},\"hover_glyph\":null,\"muted_glyph\":{\"id\":\"5288\"},\"nonselection_glyph\":{\"id\":\"5287\"},\"selection_glyph\":null,\"view\":{\"id\":\"5290\"}},\"id\":\"5289\",\"type\":\"GlyphRenderer\"},{\"attributes\":{\"line_alpha\":0.2,\"line_color\":\"#30a2da\",\"line_width\":2,\"x\":{\"field\":\"Years\"},\"y\":{\"field\":\"value\"}},\"id\":\"5253\",\"type\":\"Line\"},{\"attributes\":{\"data\":{\"Variable\":[\"Fire Goal\",\"Fire Goal\",\"Fire Goal\",\"Fire Goal\",\"Fire Goal\",\"Fire Goal\",\"Fire Goal\",\"Fire Goal\",\"Fire Goal\",\"Fire Goal\",\"Fire Goal\",\"Fire Goal\",\"Fire Goal\",\"Fire Goal\",\"Fire Goal\",\"Fire Goal\",\"Fire Goal\",\"Fire Goal\",\"Fire Goal\",\"Fire Goal\",\"Fire Goal\",\"Fire Goal\",\"Fire Goal\",\"Fire Goal\",\"Fire Goal\",\"Fire Goal\",\"Fire Goal\",\"Fire Goal\",\"Fire Goal\",\"Fire Goal\",\"Fire Goal\",\"Fire Goal\",\"Fire Goal\",\"Fire Goal\",\"Fire Goal\",\"Fire Goal\",\"Fire Goal\",\"Fire Goal\",\"Fire Goal\",\"Fire Goal\",\"Fire Goal\",\"Fire Goal\"],\"Years\":[0,1,2,3,4,5,6,7,8,9,10,11,12,13,14,15,16,17,18,19,20,21,22,23,24,25,26,27,28,29,30,31,32,33,34,35,36,37,38,39,40,41],\"value\":[3000000,3000000,3000000,3000000,3000000,3000000,3000000,3000000,3000000,3000000,3000000,3000000,3000000,3000000,3000000,3000000,3000000,3000000,3000000,3000000,3000000,3000000,3000000,3000000,3000000,3000000,3000000,3000000,3000000,3000000,3000000,3000000,3000000,3000000,3000000,3000000,3000000,3000000,3000000,3000000,3000000,3000000]},\"selected\":{\"id\":\"5266\"},\"selection_policy\":{\"id\":\"5280\"}},\"id\":\"5265\",\"type\":\"ColumnDataSource\"},{\"attributes\":{\"active_drag\":\"auto\",\"active_inspect\":\"auto\",\"active_multi\":null,\"active_scroll\":\"auto\",\"active_tap\":\"auto\",\"tools\":[{\"id\":\"5204\"},{\"id\":\"5226\"},{\"id\":\"5227\"},{\"id\":\"5228\"},{\"id\":\"5229\"},{\"id\":\"5230\"}]},\"id\":\"5232\",\"type\":\"Toolbar\"},{\"attributes\":{},\"id\":\"5241\",\"type\":\"BasicTickFormatter\"},{\"attributes\":{\"click_policy\":\"mute\",\"items\":[{\"id\":\"5264\"},{\"id\":\"5282\"},{\"id\":\"5302\"},{\"id\":\"5324\"},{\"id\":\"5348\"}],\"location\":[0,0],\"title\":\"Variable\"},\"id\":\"5263\",\"type\":\"Legend\"},{\"attributes\":{\"end\":3736816.0,\"reset_end\":3736816.0,\"reset_start\":205744.0,\"start\":205744.0,\"tags\":[[[\"value\",\"value\",null]]]},\"id\":\"5203\",\"type\":\"Range1d\"},{\"attributes\":{\"line_alpha\":0.1,\"line_color\":\"#e5ae38\",\"line_width\":2,\"x\":{\"field\":\"Years\"},\"y\":{\"field\":\"value\"}},\"id\":\"5287\",\"type\":\"Line\"},{\"attributes\":{},\"id\":\"5226\",\"type\":\"SaveTool\"},{\"attributes\":{\"label\":{\"value\":\"Fire Progress Invest\"},\"renderers\":[{\"id\":\"5289\"}]},\"id\":\"5302\",\"type\":\"LegendItem\"},{\"attributes\":{\"source\":{\"id\":\"5283\"}},\"id\":\"5290\",\"type\":\"CDSView\"},{\"attributes\":{},\"id\":\"5227\",\"type\":\"PanTool\"},{\"attributes\":{\"line_color\":\"#8b8b8b\",\"line_width\":2,\"x\":{\"field\":\"Years\"},\"y\":{\"field\":\"value\"}},\"id\":\"5328\",\"type\":\"Line\"},{\"attributes\":{},\"id\":\"5228\",\"type\":\"WheelZoomTool\"},{\"attributes\":{\"children\":[{\"id\":\"5201\"},{\"id\":\"5209\"},{\"id\":\"5484\"}],\"margin\":[0,0,0,0],\"name\":\"Row11557\",\"tags\":[\"embedded\"]},\"id\":\"5200\",\"type\":\"Row\"},{\"attributes\":{\"overlay\":{\"id\":\"5231\"}},\"id\":\"5229\",\"type\":\"BoxZoomTool\"},{\"attributes\":{\"source\":{\"id\":\"5248\"}},\"id\":\"5255\",\"type\":\"CDSView\"},{\"attributes\":{\"line_alpha\":0.2,\"line_color\":\"#e5ae38\",\"line_width\":2,\"x\":{\"field\":\"Years\"},\"y\":{\"field\":\"value\"}},\"id\":\"5288\",\"type\":\"Line\"},{\"attributes\":{},\"id\":\"5300\",\"type\":\"UnionRenderers\"},{\"attributes\":{},\"id\":\"5230\",\"type\":\"ResetTool\"},{\"attributes\":{\"line_alpha\":0.2,\"line_color\":\"#6d904f\",\"line_width\":2,\"x\":{\"field\":\"Years\"},\"y\":{\"field\":\"value\"}},\"id\":\"5308\",\"type\":\"Line\"},{\"attributes\":{\"line_alpha\":0.1,\"line_color\":\"#30a2da\",\"line_width\":2,\"x\":{\"field\":\"Years\"},\"y\":{\"field\":\"value\"}},\"id\":\"5252\",\"type\":\"Line\"},{\"attributes\":{\"line_color\":\"#6d904f\",\"line_width\":2,\"x\":{\"field\":\"Years\"},\"y\":{\"field\":\"value\"}},\"id\":\"5306\",\"type\":\"Line\"},{\"attributes\":{},\"id\":\"5249\",\"type\":\"Selection\"},{\"attributes\":{\"data\":{\"Variable\":[\"Fire Progress\",\"Fire Progress\",\"Fire Progress\",\"Fire Progress\",\"Fire Progress\",\"Fire Progress\",\"Fire Progress\",\"Fire Progress\",\"Fire Progress\",\"Fire Progress\",\"Fire Progress\",\"Fire Progress\",\"Fire Progress\",\"Fire Progress\",\"Fire Progress\",\"Fire Progress\",\"Fire Progress\",\"Fire Progress\",\"Fire Progress\",\"Fire Progress\",\"Fire Progress\",\"Fire Progress\",\"Fire Progress\",\"Fire Progress\",\"Fire Progress\",\"Fire Progress\",\"Fire Progress\",\"Fire Progress\",\"Fire Progress\",\"Fire Progress\",\"Fire Progress\",\"Fire Progress\",\"Fire Progress\",\"Fire Progress\",\"Fire Progress\",\"Fire Progress\",\"Fire Progress\",\"Fire Progress\",\"Fire Progress\",\"Fire Progress\",\"Fire Progress\",\"Fire Progress\"],\"Years\":[0,1,2,3,4,5,6,7,8,9,10,11,12,13,14,15,16,17,18,19,20,21,22,23,24,25,26,27,28,29,30,31,32,33,34,35,36,37,38,39,40,41],\"value\":[500000,560000,620000,680000,740000,800000,860000,920000,980000,1040000,1100000,1160000,1220000,1280000,1340000,1400000,1460000,1520000,1580000,1640000,1700000,1760000,1820000,1880000,1940000,2000000,2060000,2120000,2180000,2240000,2300000,2360000,2420000,2480000,2540000,2600000,2660000,2720000,2780000,2840000,2900000,2960000]},\"selected\":{\"id\":\"5249\"},\"selection_policy\":{\"id\":\"5261\"}},\"id\":\"5248\",\"type\":\"ColumnDataSource\"},{\"attributes\":{},\"id\":\"5326\",\"type\":\"Selection\"},{\"attributes\":{\"label\":{\"value\":\"Fire Progress Invest Compound\"},\"renderers\":[{\"id\":\"5309\"}]},\"id\":\"5324\",\"type\":\"LegendItem\"},{\"attributes\":{\"source\":{\"id\":\"5303\"}},\"id\":\"5310\",\"type\":\"CDSView\"},{\"attributes\":{},\"id\":\"5304\",\"type\":\"Selection\"},{\"attributes\":{\"data\":{\"Variable\":[\"Suggested Fire Pace\",\"Suggested Fire Pace\",\"Suggested Fire Pace\",\"Suggested Fire Pace\",\"Suggested Fire Pace\",\"Suggested Fire Pace\",\"Suggested Fire Pace\",\"Suggested Fire Pace\",\"Suggested Fire Pace\",\"Suggested Fire Pace\",\"Suggested Fire Pace\",\"Suggested Fire Pace\",\"Suggested Fire Pace\",\"Suggested Fire Pace\",\"Suggested Fire Pace\",\"Suggested Fire Pace\",\"Suggested Fire Pace\",\"Suggested Fire Pace\",\"Suggested Fire Pace\",\"Suggested Fire Pace\",\"Suggested Fire Pace\",\"Suggested Fire Pace\",\"Suggested Fire Pace\",\"Suggested Fire Pace\",\"Suggested Fire Pace\",\"Suggested Fire Pace\",\"Suggested Fire Pace\",\"Suggested Fire Pace\",\"Suggested Fire Pace\",\"Suggested Fire Pace\",\"Suggested Fire Pace\",\"Suggested Fire Pace\",\"Suggested Fire Pace\",\"Suggested Fire Pace\",\"Suggested Fire Pace\",\"Suggested Fire Pace\",\"Suggested Fire Pace\",\"Suggested Fire Pace\",\"Suggested Fire Pace\",\"Suggested Fire Pace\",\"Suggested Fire Pace\",\"Suggested Fire Pace\"],\"Years\":[0,1,2,3,4,5,6,7,8,9,10,11,12,13,14,15,16,17,18,19,20,21,22,23,24,25,26,27,28,29,30,31,32,33,34,35,36,37,38,39,40,41],\"value\":{\"__ndarray__\":\"AAAAAICEHkEAAAAA2p0lQQAAAAB0+StBAAAAAIcqMUEAAAAAVFg0QQAAAAAhhjdBAAAAAO6zOkEAAAAAu+E9QQAAAADEh0BBAAAAgKoeQkEAAAAAkbVDQQAAAIB3TEVBAAAAAF7jRkEAAAAAYONGQQAAAABg40ZBAAAAAGDjRkEAAAAAYONGQQAAAABg40ZBAAAAAGDjRkEAAAAAYONGQQAAAABg40ZBAAAAAGDjRkEAAAAAYONGQQAAAABg40ZBAAAAAGDjRkEAAAAAYONGQQAAAABg40ZBAAAAAGDjRkEAAAAAYONGQQAAAABg40ZBAAAAAGDjRkEAAAAAYONGQQAAAABg40ZBAAAAAGDjRkEAAAAAYONGQQAAAABg40ZBAAAAAGDjRkEAAAAAYONGQQAAAABg40ZBAAAAAGDjRkEAAAAAYONGQQAAAABg40ZB\",\"dtype\":\"float64\",\"order\":\"little\",\"shape\":[42]}},\"selected\":{\"id\":\"5326\"},\"selection_policy\":{\"id\":\"5346\"}},\"id\":\"5325\",\"type\":\"ColumnDataSource\"},{\"attributes\":{\"bottom_units\":\"screen\",\"fill_alpha\":0.5,\"fill_color\":\"lightgrey\",\"left_units\":\"screen\",\"level\":\"overlay\",\"line_alpha\":1.0,\"line_color\":\"black\",\"line_dash\":[4,4],\"line_width\":2,\"right_units\":\"screen\",\"top_units\":\"screen\"},\"id\":\"5231\",\"type\":\"BoxAnnotation\"},{\"attributes\":{\"line_alpha\":0.1,\"line_color\":\"#6d904f\",\"line_width\":2,\"x\":{\"field\":\"Years\"},\"y\":{\"field\":\"value\"}},\"id\":\"5307\",\"type\":\"Line\"},{\"attributes\":{},\"id\":\"5266\",\"type\":\"Selection\"},{\"attributes\":{\"data\":{\"Variable\":[\"Fire Progress Invest Compound\",\"Fire Progress Invest Compound\",\"Fire Progress Invest Compound\",\"Fire Progress Invest Compound\",\"Fire Progress Invest Compound\",\"Fire Progress Invest Compound\",\"Fire Progress Invest Compound\",\"Fire Progress Invest Compound\",\"Fire Progress Invest Compound\",\"Fire Progress Invest Compound\",\"Fire Progress Invest Compound\",\"Fire Progress Invest Compound\",\"Fire Progress Invest Compound\",\"Fire Progress Invest Compound\",\"Fire Progress Invest Compound\",\"Fire Progress Invest Compound\",\"Fire Progress Invest Compound\",\"Fire Progress Invest Compound\",\"Fire Progress Invest Compound\",\"Fire Progress Invest Compound\",\"Fire Progress Invest Compound\",\"Fire Progress Invest Compound\",\"Fire Progress Invest Compound\",\"Fire Progress Invest Compound\",\"Fire Progress Invest Compound\",\"Fire Progress Invest Compound\",\"Fire Progress Invest Compound\",\"Fire Progress Invest Compound\",\"Fire Progress Invest Compound\",\"Fire Progress Invest Compound\",\"Fire Progress Invest Compound\",\"Fire Progress Invest Compound\",\"Fire Progress Invest Compound\",\"Fire Progress Invest Compound\",\"Fire Progress Invest Compound\",\"Fire Progress Invest Compound\",\"Fire Progress Invest Compound\",\"Fire Progress Invest Compound\",\"Fire Progress Invest Compound\",\"Fire Progress Invest Compound\",\"Fire Progress Invest Compound\",\"Fire Progress Invest Compound\"],\"Years\":[0,1,2,3,4,5,6,7,8,9,10,11,12,13,14,15,16,17,18,19,20,21,22,23,24,25,26,27,28,29,30,31,32,33,34,35,36,37,38,39,40,41],\"value\":{\"__ndarray__\":\"AAAAAAAA+H8AAAAAAKEjQQAAAADAwyVBAAAAAIDmJ0EAAAAAQAkqQQAAAAAALCxBAQAAAMBOLkEBAAAAwDgwQQEAAAAgSjFBAAAAAIBbMkEAAAAA4GwzQQAAAABAfjRBAAAAAKCPNUEAAAAAAKE2QQAAAABgsjdBAAAAAMDDOEEAAAAAINU5QQAAAACA5jpBAQAAAOD3O0EBAAAAQAk9QQIAAACgGj5BAgAAAAAsP0EBAAAAsB5AQQEAAABgp0BBAQAAABAwQUEBAAAAwLhBQQAAAABwQUJBAAAAACDKQkEAAAAA0FJDQQAAAACA20NBAAAAADBkREEAAAAA4OxEQQAAAACQdUVBAAAAAED+RUEAAAAA8IZGQQAAAACgD0dBAAAAAFCYR0EAAAAAACFIQQAAAACwqUhBAAAAAGAySUEAAAAAELtJQQAAAADAQ0pB\",\"dtype\":\"float64\",\"order\":\"little\",\"shape\":[42]}},\"selected\":{\"id\":\"5304\"},\"selection_policy\":{\"id\":\"5322\"}},\"id\":\"5303\",\"type\":\"ColumnDataSource\"},{\"attributes\":{\"data_source\":{\"id\":\"5303\"},\"glyph\":{\"id\":\"5306\"},\"hover_glyph\":null,\"muted_glyph\":{\"id\":\"5308\"},\"nonselection_glyph\":{\"id\":\"5307\"},\"selection_glyph\":null,\"view\":{\"id\":\"5310\"}},\"id\":\"5309\",\"type\":\"GlyphRenderer\"},{\"attributes\":{},\"id\":\"5322\",\"type\":\"UnionRenderers\"},{\"attributes\":{\"label\":{\"value\":\"Fire Progress\"},\"renderers\":[{\"id\":\"5254\"}]},\"id\":\"5264\",\"type\":\"LegendItem\"},{\"attributes\":{\"format\":\"$%.0f\"},\"id\":\"5239\",\"type\":\"PrintfTickFormatter\"},{\"attributes\":{},\"id\":\"5214\",\"type\":\"LinearScale\"},{\"attributes\":{\"label\":{\"value\":\"Fire Goal\"},\"renderers\":[{\"id\":\"5271\"}]},\"id\":\"5282\",\"type\":\"LegendItem\"},{\"attributes\":{\"text\":\"Suggested FIRE path\",\"text_color\":{\"value\":\"black\"},\"text_font_size\":{\"value\":\"12pt\"}},\"id\":\"5210\",\"type\":\"Title\"},{\"attributes\":{\"line_color\":\"#fc4f30\",\"line_width\":2,\"x\":{\"field\":\"Years\"},\"y\":{\"field\":\"value\"}},\"id\":\"5268\",\"type\":\"Line\"},{\"attributes\":{\"below\":[{\"id\":\"5218\"}],\"center\":[{\"id\":\"5221\"},{\"id\":\"5225\"}],\"left\":[{\"id\":\"5222\"}],\"margin\":[5,5,5,5],\"min_border_bottom\":10,\"min_border_left\":10,\"min_border_right\":10,\"min_border_top\":10,\"plot_height\":350,\"plot_width\":750,\"renderers\":[{\"id\":\"5254\"},{\"id\":\"5271\"},{\"id\":\"5289\"},{\"id\":\"5309\"},{\"id\":\"5331\"}],\"right\":[{\"id\":\"5263\"}],\"sizing_mode\":\"fixed\",\"title\":{\"id\":\"5210\"},\"toolbar\":{\"id\":\"5232\"},\"x_range\":{\"id\":\"5202\"},\"x_scale\":{\"id\":\"5214\"},\"y_range\":{\"id\":\"5203\"},\"y_scale\":{\"id\":\"5216\"}},\"id\":\"5209\",\"subtype\":\"Figure\",\"type\":\"Plot\"}],\"root_ids\":[\"5200\"]},\"title\":\"Bokeh Application\",\"version\":\"2.2.3\"}};\n",
       "    var render_items = [{\"docid\":\"dc9e1ca6-4a8b-4e5e-a532-a76d37de5b0f\",\"root_ids\":[\"5200\"],\"roots\":{\"5200\":\"a1d0be86-9536-46e8-aaf2-7caabc3b45a8\"}}];\n",
       "    root.Bokeh.embed.embed_items_notebook(docs_json, render_items);\n",
       "  }\n",
       "  if (root.Bokeh !== undefined && root.Bokeh.Panel !== undefined) {\n",
       "    embed_document(root);\n",
       "  } else {\n",
       "    var attempts = 0;\n",
       "    var timer = setInterval(function(root) {\n",
       "      if (root.Bokeh !== undefined && root.Bokeh.Panel !== undefined) {\n",
       "        clearInterval(timer);\n",
       "        embed_document(root);\n",
       "      } else if (document.readyState == \"complete\") {\n",
       "        attempts++;\n",
       "        if (attempts > 100) {\n",
       "          clearInterval(timer);\n",
       "          console.log(\"Bokeh: ERROR: Unable to run BokehJS code because BokehJS library is missing\");\n",
       "        }\n",
       "      }\n",
       "    }, 10, root)\n",
       "  }\n",
       "})(window);</script>"
      ],
      "text/plain": [
       ":NdOverlay   [Variable]\n",
       "   :Curve   [Years]   (value)"
      ]
     },
     "execution_count": 67,
     "metadata": {
      "application/vnd.holoviews_exec.v0+json": {
       "id": "5200"
      }
     },
     "output_type": "execute_result"
    }
   ],
   "source": [
    "fire_suggested = list(range(current_savings,fire_goal,required_annual_savings))\n",
    "df1 = pd.DataFrame(fire_suggested,columns = ['fire_suggested'])\n",
    "df_ret2 = pd.concat([df_ret,df1], axis=1)\n",
    "df_ret2 = df_ret2.rename(columns={'fire_suggested':'Suggested Fire Pace'})\n",
    "# After fire goal is hit, the pace remains at fire goal\n",
    "df_ret2['Suggested Fire Pace'] = df_ret2['Suggested Fire Pace'].fillna(value=fire_goal)\n",
    "df_ret2.index.name  = 'Years'\n",
    "df_ret2.hvplot.line(x='Years',width=750, height=350,yformatter='$%.0f',grid=True, title='Suggested FIRE path')"
   ]
  },
  {
   "cell_type": "code",
   "execution_count": null,
   "metadata": {},
   "outputs": [],
   "source": [
    "# TO DO - issue running HV PLOT or other plot (keeps flicking back\n",
    "# df_ret2.hvplot.line(x='Years',width=750, height=500,yformatter='$%.0f',grid=True)"
   ]
  },
  {
   "cell_type": "code",
   "execution_count": null,
   "metadata": {},
   "outputs": [],
   "source": []
  },
  {
   "cell_type": "code",
   "execution_count": null,
   "metadata": {},
   "outputs": [],
   "source": []
  },
  {
   "cell_type": "code",
   "execution_count": null,
   "metadata": {},
   "outputs": [],
   "source": []
  },
  {
   "cell_type": "code",
   "execution_count": null,
   "metadata": {},
   "outputs": [],
   "source": []
  },
  {
   "cell_type": "code",
   "execution_count": null,
   "metadata": {},
   "outputs": [],
   "source": []
  },
  {
   "cell_type": "code",
   "execution_count": null,
   "metadata": {},
   "outputs": [],
   "source": []
  },
  {
   "cell_type": "code",
   "execution_count": null,
   "metadata": {},
   "outputs": [],
   "source": []
  }
 ],
 "metadata": {
  "kernelspec": {
   "display_name": "Python 3",
   "language": "python",
   "name": "python3"
  },
  "language_info": {
   "codemirror_mode": {
    "name": "ipython",
    "version": 3
   },
   "file_extension": ".py",
   "mimetype": "text/x-python",
   "name": "python",
   "nbconvert_exporter": "python",
   "pygments_lexer": "ipython3",
   "version": "3.7.9"
  }
 },
 "nbformat": 4,
 "nbformat_minor": 4
}
