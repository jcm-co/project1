{
 "cells": [
  {
   "cell_type": "markdown",
   "metadata": {},
   "source": [
    "# Imports"
   ]
  },
  {
   "cell_type": "code",
   "execution_count": 11,
   "metadata": {},
   "outputs": [],
   "source": [
    "# Required to create dropdown menu\n",
    "from IPython.display import display"
   ]
  },
  {
   "cell_type": "markdown",
   "metadata": {},
   "source": [
    "# Enter your personal information"
   ]
  },
  {
   "cell_type": "code",
   "execution_count": null,
   "metadata": {},
   "outputs": [],
   "source": [
    "# Enter your gender here (male / female) \n",
    "    # TO DO - can this be a dropdown with multiple options\n",
    "#gender = [\"male\",\"female\"]\n",
    "\n",
    "enter_gender = input()"
   ]
  },
  {
   "cell_type": "code",
   "execution_count": null,
   "metadata": {},
   "outputs": [],
   "source": [
    "\n",
    "enter_gender = widgets.IntSlider(\n",
    "    min = 1,\n",
    "    max = 100,\n",
    "    step= 1,\n",
    "    description= \"Enter your gender here\",\n",
    "    value=3,\n",
    ")"
   ]
  },
  {
   "cell_type": "code",
   "execution_count": 5,
   "metadata": {},
   "outputs": [],
   "source": [
    " \n",
    "\n",
    "# Enter your date of birth \n",
    "    # TO DO - can this be a dropdown \n",
    "    # TO DO - make this a date format\n",
    "dob = [01/01/1988]\n",
    "\n",
    "# Country of residence \n",
    "    # TO DO - can this be a dropdown \n",
    "country = Australia \n",
    "\n",
    "# super fund value to date\n",
    "    # TO DO - can this be an open field to enter data in \n",
    "    # TO DO - can this be an API with your super fund \n",
    "super_value = 25000\n",
    "\n",
    "# personal savings to date\n",
    "    # TO DO - can this be an open field to enter data in \n",
    "    # TO DO - can this be an API with your super fund \n",
    "savings = 25000 \n",
    "\n",
    "# anticipated retirement age \n",
    "    # necessary to forecast your savings\n",
    "    # TO DO - can this be an open field to enter data in \n",
    "\n",
    "retirement_age = 65 \n",
    "\n",
    "# monthly savings \n",
    "    # TO DO - can this be an open field to enter data in \n",
    "monthly_savings = 100"
   ]
  },
  {
   "cell_type": "markdown",
   "metadata": {},
   "source": [
    "## Calculations based on personal information\n"
   ]
  },
  {
   "cell_type": "code",
   "execution_count": null,
   "metadata": {},
   "outputs": [],
   "source": [
    "# Your age \n",
    "\n",
    "today = ....\n",
    "current_age = today-dob\n",
    "\n",
    "# Life expectancy, \n",
    "\n",
    "life_expectancy = # call CSV with database \n",
    "\n",
    "    ## life expectancy will change depending on your age \n",
    "\n",
    "# Retirement duration \n",
    "\n",
    "reteriment_duration = life_expectancy - reteriment_age\n",
    "\n",
    "# Net worth\n",
    "\n",
    "net_worth = savings + super_value"
   ]
  },
  {
   "cell_type": "markdown",
   "metadata": {},
   "source": [
    "## Evolution of Life Expectancy "
   ]
  },
  {
   "cell_type": "code",
   "execution_count": null,
   "metadata": {},
   "outputs": [],
   "source": [
    "# Evolution \n",
    "\n",
    "## MC analysis of evolution based on database "
   ]
  },
  {
   "cell_type": "markdown",
   "metadata": {},
   "source": [
    "## Monthly savings"
   ]
  },
  {
   "cell_type": "code",
   "execution_count": 9,
   "metadata": {},
   "outputs": [],
   "source": [
    " # Forecast of savings evolution (line chart) \n",
    "    \n",
    "current_age * monthly_savings\n",
    "# add formula to display savings over n months \n",
    "\n",
    "    # calculate number of months from \"current age\" until \"retirement age\" (65)\n",
    "    # calculate an expected growth rate of your savings (average gain of MSCI, SP500,...) - MC analysis\n",
    "    # assess how your savings will grow if you they are invested (general passive investing)"
   ]
  },
  {
   "cell_type": "markdown",
   "metadata": {},
   "source": [
    "## Current retirement outlook"
   ]
  },
  {
   "cell_type": "code",
   "execution_count": null,
   "metadata": {},
   "outputs": [],
   "source": [
    "# You are expected to live x years \n",
    "# You are expected to be retired for x years \n",
    "# Based on your current savings "
   ]
  },
  {
   "cell_type": "markdown",
   "metadata": {},
   "source": [
    "## FIRE"
   ]
  },
  {
   "cell_type": "code",
   "execution_count": null,
   "metadata": {},
   "outputs": [],
   "source": [
    "# FIRE calculation 4% of your current net worth \n",
    "\n",
    "    ## if you were to survive now, how much could you live on? \n",
    "fire_monthly = (net_worth * 0.04)/12    \n",
    "\n",
    "print(f\"Your monthly FIRE allowance is currently ${fire_monthly}/month\")\n",
    "\n",
    "# compare fire_monthly vs cost of living in different countries,  \n",
    "\n",
    "fire_location = fire_monthly >= \n",
    "\n",
    "# spit out list where you could currently live "
   ]
  }
 ],
 "metadata": {
  "kernelspec": {
   "display_name": "Python 3",
   "language": "python",
   "name": "python3"
  },
  "language_info": {
   "codemirror_mode": {
    "name": "ipython",
    "version": 3
   },
   "file_extension": ".py",
   "mimetype": "text/x-python",
   "name": "python",
   "nbconvert_exporter": "python",
   "pygments_lexer": "ipython3",
   "version": "3.7.10"
  }
 },
 "nbformat": 4,
 "nbformat_minor": 5
}
