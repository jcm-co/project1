{
 "cells": [
  {
   "cell_type": "markdown",
   "id": "89f65fa6-4abd-4d33-8ac4-a768b7a304ab",
   "metadata": {},
   "source": [
    "# Imports"
   ]
  },
  {
   "cell_type": "code",
   "execution_count": 11,
   "id": "d1d09e46-3903-406d-9ef4-a149a8dd5131",
   "metadata": {},
   "outputs": [],
   "source": [
    "# Required to create dropdown menu\n",
    "from IPython.display import display"
   ]
  },
  {
   "cell_type": "markdown",
   "id": "b7c586f8-0d25-42fe-aa60-e96d3ce7f9e6",
   "metadata": {},
   "source": [
    "# Enter your personal information"
   ]
  },
  {
   "cell_type": "code",
   "execution_count": null,
   "id": "a0ceb009-2d9a-4fbe-ae40-79d99579d268",
   "metadata": {},
   "outputs": [],
   "source": [
    "# Enter your gender here (male / female) \n",
    "    # TO DO - can this be a dropdown with multiple options\n",
    "#gender = [\"male\",\"female\"]\n",
    "\n",
    "enter_gender = input()"
   ]
  },
  {
   "cell_type": "code",
   "execution_count": null,
   "id": "b910ccb3-c1b5-4341-b4f4-8535f8ceec8a",
   "metadata": {},
   "outputs": [],
   "source": [
    "\n",
    "enter_gender = widgets.IntSlider(\n",
    "    min = 1,\n",
    "    max = 100,\n",
    "    step= 1,\n",
    "    description= \"Enter your gender here\",\n",
    "    value=3,\n",
    ")"
   ]
  },
  {
   "cell_type": "code",
   "execution_count": 5,
   "id": "8b2550d4-7578-44bd-a558-bc384ef68767",
   "metadata": {},
   "outputs": [],
   "source": [
    " \n",
    "\n",
    "# Enter your date of birth \n",
    "    # TO DO - can this be a dropdown \n",
    "    # TO DO - make this a date format\n",
    "dob = [01/01/1988]\n",
    "\n",
    "# Country of residence \n",
    "    # TO DO - can this be a dropdown \n",
    "country = Australia \n",
    "\n",
    "# super fund value to date\n",
    "    # TO DO - can this be an open field to enter data in \n",
    "    # TO DO - can this be an API with your super fund \n",
    "super_value = 25000\n",
    "\n",
    "# personal savings to date\n",
    "    # TO DO - can this be an open field to enter data in \n",
    "    # TO DO - can this be an API with your super fund \n",
    "savings = 25000 \n",
    "\n",
    "# anticipated retirement age \n",
    "    # necessary to forecast your savings\n",
    "    # TO DO - can this be an open field to enter data in \n",
    "\n",
    "retirement_age = 65 \n",
    "\n",
    "# monthly savings \n",
    "    # TO DO - can this be an open field to enter data in \n",
    "monthly_savings = 100"
   ]
  },
  {
   "cell_type": "markdown",
   "id": "4180e275-d8e9-4349-9fea-e6ef0c417e5b",
   "metadata": {},
   "source": [
    "## Calculations based on personal information\n"
   ]
  },
  {
   "cell_type": "code",
   "execution_count": null,
   "id": "394f997f-9440-4daf-8d59-464f3da3e954",
   "metadata": {},
   "outputs": [],
   "source": [
    "# Your age \n",
    "\n",
    "today = ....\n",
    "current_age = today-dob\n",
    "\n",
    "# Life expectancy, \n",
    "\n",
    "life_expectancy = # call CSV with database \n",
    "\n",
    "    ## life expectancy will change depending on your age \n",
    "\n",
    "# Retirement duration \n",
    "\n",
    "reteriment_duration = life_expectancy - reteriment_age\n",
    "\n",
    "# Net worth\n",
    "\n",
    "net_worth = savings + super_value"
   ]
  },
  {
   "cell_type": "markdown",
   "id": "061f5757-c6d9-4672-81f8-b20fceffb60f",
   "metadata": {},
   "source": [
    "## Evolution of Life Expectancy "
   ]
  },
  {
   "cell_type": "code",
   "execution_count": null,
   "id": "9e559c9f-5afd-4e48-bbca-ec454d467071",
   "metadata": {},
   "outputs": [],
   "source": [
    "# Evolution \n",
    "\n",
    "## MC analysis of evolution based on database "
   ]
  },
  {
   "cell_type": "markdown",
   "id": "26217f08-0b56-4127-b894-c4950507fd7f",
   "metadata": {},
   "source": [
    "## Monthly savings"
   ]
  },
  {
   "cell_type": "code",
   "execution_count": 9,
   "id": "225d0802-ae69-4b9f-958a-83e8948213c9",
   "metadata": {},
   "outputs": [],
   "source": [
    " # Forecast of savings evolution (line chart) \n",
    "    \n",
    "current_age * monthly_savings\n",
    "# add formula to display savings over n months \n",
    "\n",
    "    # calculate number of months from \"current age\" until \"retirement age\" (65)\n",
    "    # calculate an expected growth rate of your savings (average gain of MSCI, SP500,...) - MC analysis\n",
    "    # assess how your savings will grow if you they are invested (general passive investing)"
   ]
  },
  {
   "cell_type": "markdown",
   "id": "1531bc30-5706-4322-ac38-f0090d3ba782",
   "metadata": {},
   "source": [
    "## Current retirement outlook"
   ]
  },
  {
   "cell_type": "code",
   "execution_count": null,
   "id": "e638c06c-4cdd-43d8-be8c-6e7e45032e5e",
   "metadata": {},
   "outputs": [],
   "source": [
    "# You are expected to live x years \n",
    "# You are expected to be retired for x years \n",
    "# Based on your current savings "
   ]
  },
  {
   "cell_type": "markdown",
   "id": "2dbc0912-bb74-414e-ad06-d414ac4539d4",
   "metadata": {},
   "source": [
    "## FIRE"
   ]
  },
  {
   "cell_type": "code",
   "execution_count": null,
   "id": "c8b2b1de-3e61-4ee9-be9c-0474a9d930af",
   "metadata": {},
   "outputs": [],
   "source": [
    "# FIRE calculation 4% of your current net worth \n",
    "\n",
    "    ## if you were to survive now, how much could you live on? \n",
    "fire_monthly = (net_worth * 0.04)/12    \n",
    "\n",
    "print(f\"Your monthly FIRE allowance is currently ${fire_monthly}/month\")\n",
    "\n",
    "# compare fire_monthly vs cost of living in different countries,  \n",
    "\n",
    "fire_location = fire_monthly >= \n",
    "\n",
    "# spit out list where you could currently live "
   ]
  }
 ],
 "metadata": {
  "kernelspec": {
   "display_name": "Python 3",
   "language": "python",
   "name": "python3"
  },
  "language_info": {
   "codemirror_mode": {
    "name": "ipython",
    "version": 3
   },
   "file_extension": ".py",
   "mimetype": "text/x-python",
   "name": "python",
   "nbconvert_exporter": "python",
   "pygments_lexer": "ipython3",
   "version": "3.8.5"
  }
 },
 "nbformat": 4,
 "nbformat_minor": 5
}
